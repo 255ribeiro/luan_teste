{
 "cells": [
  {
   "cell_type": "markdown",
   "metadata": {},
   "source": [
    "# The `model` object in IfcOpenShell\n",
    "\n",
    "## Loading a model\n",
    "Before loading a model into the notebook we have to import the ifcopenshell module:"
   ]
  },
  {
   "cell_type": "code",
   "execution_count": 1,
   "metadata": {},
   "outputs": [],
   "source": [
    "import ifcopenshell"
   ]
  },
  {
   "cell_type": "markdown",
   "metadata": {},
   "source": [
    "We now can open a model. For your convinience a few models are provided in the `../data` path of this notebook collection. Let's start with a simple \"hello Wall\" example."
   ]
  },
  {
   "cell_type": "code",
   "execution_count": 2,
   "metadata": {},
   "outputs": [],
   "source": [
    "model = ifcopenshell.open(\"data/teste_casa_ifc.ifc\")"
   ]
  },
  {
   "cell_type": "markdown",
   "metadata": {},
   "source": [
    "Immediately after you loaded the model the Python interpreter holds a variable in memory that allows you to access the model contents:\n",
    "Notice, how \n",
    "```python"
   ]
  },
  {
   "cell_type": "code",
   "execution_count": 4,
   "metadata": {},
   "outputs": [
    {
     "name": "stdout",
     "output_type": "stream",
     "text": [
      "[#1=IfcProject('344O7vICcwH8qAEnwJDjSU',#2,'Projeto',$,$,$,$,(#3),#4)]\n"
     ]
    }
   ],
   "source": [
    "project = model.by_type(\"IfcProject\")\n",
    "print ( project)"
   ]
  },
  {
   "cell_type": "markdown",
   "metadata": {},
   "source": [
    "prints out the SPFF line \n",
    "```\n",
    "[#1=IfcProject('0YvctVUKr0kugbFTf53O9L',#2,'Hello wall project','Simple wall with door',$,$,$,(#20),#7)]\n",
    "```\n",
    "surrounded by `[` `]`. This is the common representation of a python `list` object, see [here](https://docs.python.org/3/tutorial/introduction.html#lists). In order to access some of the attributes of we first need to access the first (and in case of `IfcProject` only) element in that list by using th `[index]` operator:"
   ]
  },
  {
   "cell_type": "code",
   "execution_count": 5,
   "metadata": {},
   "outputs": [
    {
     "name": "stdout",
     "output_type": "stream",
     "text": [
      "#1=IfcProject('344O7vICcwH8qAEnwJDjSU',#2,'Projeto',$,$,$,$,(#3),#4)\n"
     ]
    }
   ],
   "source": [
    "project = model.by_type(\"IfcProject\")\n",
    "print (project[0])"
   ]
  },
  {
   "cell_type": "markdown",
   "metadata": {},
   "source": [
    "Which will get us the same SPFF line \n",
    "```\n",
    "#1=IfcProject('0YvctVUKr0kugbFTf53O9L',#2,'Hello wall project','Simple wall with door',$,$,$,(#20),#7)\n",
    "```\n",
    "as above except the square brackets `[]`. This actually is a __string representation__ of an object instance, in this case, an instance of a `IfcProject` ENTITY.\n",
    "\n",
    "In fact, the `model` variable offers a number of ways to access model contents:\n",
    "\n",
    "## Accessing all instances of an entity - the `by_type()` function\n",
    "lets you access all entities of a particular IFC ENTITY definition as listed in the [specification](http://www.buildingsmart-tech.org/ifc/IFC4/final/html/index.htm). Note that you can use the function to get __subtypes__ of certain entities:\n"
   ]
  },
  {
   "cell_type": "markdown",
   "metadata": {},
   "source": [
    "walls = model.by_type(\"IfcWall\")\n",
    "print (walls)"
   ]
  },
  {
   "cell_type": "markdown",
   "metadata": {},
   "source": [
    "which is an instance of [`IfcWallStandardCase`](http://www.buildingsmart-tech.org/ifc/IFC2x4/alpha/html/ifcsharedbldgelements/lexical/ifcwallstandardcase.htm), which is a subtype of [`IfcWall`](http://www.buildingsmart-tech.org/ifc/IFC2x4/alpha/html/ifcsharedbldgelements/lexical/ifcwall.htm). This also means, that you can access e.g. all subtypes of [`IfcProduct`](http://www.buildingsmart-tech.org/ifc/IFC2x3/TC1/html/ifckernel/lexical/ifcproduct.htm) by"
   ]
  },
  {
   "cell_type": "code",
   "execution_count": 6,
   "metadata": {},
   "outputs": [
    {
     "name": "stdout",
     "output_type": "stream",
     "text": [
      "[#26=IfcSite('20FpTZCqJy2vhVJYtjuIce',#2,'Local',$,$,#455,$,$,.ELEMENT.,(-23,-32,0,0),(-46,-38,0,0),0.,$,$), #1343=IfcWall('3MUZ3BWyHEoeAaCOj$7KJB',#2,'Parede-001',$,$,#2499,#466,'D67A30CB-83C4-4ECA-82A4-318B7F1D44CB'), #1338=IfcSlab('2vyg57HAT3hOuKMe8Hll2J',#2,'L01',$,$,#2467,#460,'B9F2A147-44A7-43AD-8E14-5A8211BEF093',.FLOOR.), #1334=IfcBuilding('00tMo7QcxqWdIGvc4sMN2A',#2,'Construção',$,$,#1333,$,$,.ELEMENT.,$,$,$), #1348=IfcOpeningElement('0NINJuinIovu3daIqFL6Ac',#2,'P01',$,$,#2541,#473,'174974F8-B314-B2E7-80E7-912D0F5462A6'), #1346=IfcOpeningElement('1kNjQCWgi19m20ztQIy9mf',#2,'J01',$,$,#2518,#471,'6E5ED68C-82AB-0127-0080-F77692F09C29'), #1429=IfcWindow('2dqGPfnW12r9jHuFdzptVs',#2,'J01',$,$,#2754,#514,'A7D10669-C600-42D4-9B51-E0F9FDCF77F6',1200.,3319.82), #1482=IfcDoor('3jXQuekdz7WfIyZnq20xWe',#2,'P01',$,$,#2913,#542,'ED85AE28-BA7F-4782-94BC-8F1D0203B828',2100.,2470.11), #1485=IfcWall('3DaGCq4J14QudK9deNIzJr',#2,'Parede-002',$,$,#2940,#545,'CD910334-1130-446B-89D4-267A174BD4F5'), #1487=IfcOpeningElement('2CkZ7L7Zc3HOxs0K73mtXb',#2,'J03',$,$,#2959,#548,'8CBA31D5-1E39-8345-8EF6-0141C3C37865'), #1552=IfcWindow('30Dw6sQ1r1AxaxrpCz6gQp',#2,'J03',$,$,#3125,#582,'C037A1B6-681D-412B-B93B-D7333D1AA6B3',1200.,2150.), #1557=IfcOpeningElement('346m6_1oYJycRBFBQGm_iG',#2,'J02',$,$,#3158,#587,'C41B01BE-0728-93F2-66CB-3CB690C3EB10'), #1560=IfcOpeningElement('0VF_f35RshzP9QhJ0HtJ94',#2,'J04',$,$,#3169,#589,'1F3FEA43-15BD-ABF5-925A-AD3011DD3244'), #1554=IfcWall('1UkoAhCmb5f9tD_rG2jzCd',#2,'Parede-003',$,$,#3143,#584,'5EBB22AB-3309-45A4-9DCD-FB5402B7D327'), #1645=IfcWindow('00RYrFYZf0aOS8Qyi5oZEi',#2,'J04',$,$,#3411,#636,'006E2D4F-8A3A-4091-8708-6BCB05CA33AC',900.,900.), #1624=IfcWindow('0BCMFj6tf8Ug5JN4urwcb$',#2,'J02',$,$,#3343,#623,'0B3163ED-1B7A-487A-A153-5C4E35EA697F',1200.,2150.), #1658=IfcBuildingElementPart('1BRjEF9tOXsIntoLqQCDz6',#2,'Concreto - Estrutural',$,$,#3493,#647,$), #1662=IfcBuildingElementPart('3kSflPWy_9ZUIkdijxG2zN',#2,'Concreto - Estrutural',$,$,#3547,#650,$), #1664=IfcBuildingElementPart('2vAbPPqpEClCOZUpU_PYAo',#2,'Madeira',$,$,#3556,#653,$), #1670=IfcBuildingElementPart('3g0m$TxGA6RV11H8xL4HMo',#2,'Madeira',$,$,#3568,#658,$), #1685=IfcBuildingElementPart('3$oPMKSTl4kSxIN50fX5B0',#2,'Madeira',$,$,#3615,#673,$), #1679=IfcBuildingElementPart('0h7DYKb_VpyN4ZOgJlsXiC',#2,'Madeira',$,$,#3606,#670,$), #1681=IfcBuildingElementPart('1LzqWUutU1whaH_Eb9DbpY',#2,'Madeira',$,$,#3603,#661,$), #1678=IfcBuildingElementPart('3M1nith$8qJRz$t291oa7v',#2,'Madeira',$,$,#3588,#667,$), #1654=IfcBuildingElementPart('3ERFmhmVyZla9nisl3wP0u',#2,'Concreto - Estrutural',$,$,#3498,#642,$), #1675=IfcBuildingElementPart('1V4fMSDhGhcOFFpljU1xgE',#2,'Madeira',$,$,#3583,#664,$), #1647=IfcWall('0x8wIQd$90HPBzF9TBk0bm',#2,'Parede-004',$,$,#3624,#638,'3B23A49A-9FF2-4045-92FD-3C974BB80970'), #1688=IfcBuildingElementPart('0zeb7B2HFRMKcbxcynlJKa',#2,'Madeira',$,$,#3636,#676,$), #1691=IfcBuildingElementPart('0gCb6TF_hfHLN4HHPAR8ly',#2,'Madeira',$,$,#3645,#679,$), #1694=IfcBuildingElementPart('2CqUASEEMP5sobDrmSFHsU',#2,'Madeira',$,$,#3660,#682,$), #1699=IfcBuildingElementPart('1GJHJzL5djUwuoEm3wkm3z',#2,'Madeira',$,$,#3670,#688,$), #1703=IfcBuildingElementPart('2lWDAA_1YT1DkDJHrYGS7F',#2,'Madeira',$,$,#3673,#691,$), #1702=IfcBuildingElementPart('1OSeOA3aEg_HDaCeKLA$ud',#2,'Madeira',$,$,#3669,#685,$), #1704=IfcBuildingElementPart('0zJY5XJdkPxV5s2l7YKmq4',#2,'Madeira',$,$,#3676,#694,$), #1711=IfcBuildingElementPart('1S7o1fKofteHcIlwN5MGAg',#2,'Madeira',$,$,#3697,#700,$), #1713=IfcBuildingElementPart('1fc1pwAvSKi3Bh3cUsegJh',#2,'Madeira',$,$,#3707,#697,$), #1714=IfcBuildingElementPart('0NVBpejfETlLs9a9g_8MK1',#2,'Madeira',$,$,#3710,#703,$), #1718=IfcBuildingElementPart('3_umqxJjJW8Etgy6B_wBUA',#2,'Madeira',$,$,#3729,#706,$), #1723=IfcBuildingElementPart('11N99kB1guY3TqK$FacsRA',#2,'Madeira',$,$,#3755,#712,$), #1724=IfcBuildingElementPart('2sJqF1R9kBiYbZuHZ79JpG',#2,'Madeira',$,$,#3758,#709,$), #1732=IfcBuildingElementPart('07Zy5E6IRvLvvT8rKzV3wt',#2,'Madeira',$,$,#3813,#721,$), #1733=IfcBuildingElementPart('3_ul_SZuqdEDpK5ksnnAJi',#2,'Madeira',$,$,#3816,#715,$), #1736=IfcBuildingElementPart('1PxTwn5C$jAAl9RXjC7AD5',#2,'Madeira',$,$,#3834,#724,$), #1738=IfcBuildingElementPart('0pnrBO61$Nt3SJJq9VqqHl',#2,'Madeira',$,$,#3856,#727,$), #1729=IfcBuildingElementPart('26yfCVPOmeh7LUAsaOcFZi',#2,'Madeira',$,$,#3859,#718,$), #1742=IfcBuildingElementPart('3mChizlhHUBg_3u_yf$R80',#2,'Madeira',$,$,#3862,#730,$), #1743=IfcBuildingElementPart('3cZvthpZPtyUtEiG9X_bs0',#2,'Madeira',$,$,#3865,#733,$), #1748=IfcBuildingElementPart('2uZMqJ2mkDoyxPQVG5NEGL',#2,'Madeira',$,$,#3914,#736,$), #1751=IfcBuildingElementPart('236DDBdRXlqBYEuB4PKnhR',#2,'Madeira',$,$,#3939,#739,$), #1757=IfcBuildingElementPart('2AxDxmOO8r6c$b7$yumFf1',#2,'Madeira',$,$,#3970,#745,$), #1763=IfcBuildingElementPart('0fldkLcUeDU0$ugv4UWPPz',#2,'Madeira',$,$,#4005,#751,$), #1760=IfcBuildingElementPart('16HHZlX1K5CiMTwb8rnUQQ',#2,'Madeira',$,$,#4016,#748,$), #1754=IfcBuildingElementPart('2VC4FXarzXVRJbsbuKK4a8',#2,'Madeira',$,$,#4038,#742,$), #1766=IfcWall('2idldwBz9D08rQz5KVheRs',#2,'Parede-003',$,$,#4041,#754,'AC9EF9FA-2FD2-4D00-8D5A-F4551FAE86F6'), #1771=IfcWall('2vFcMxImDFNfjXXraifyoc',#2,'Parede-004',$,$,#4037,#758,'B93E65BB-4B03-4F5E-9B61-87592CA7CCA6'), #1773=IfcOpeningElement('3EJy3cO6rSCz0tjyS4EOnA',#2,'P02',$,$,#4065,#761,'CE4FC0E6-606D-5C33-D037-B7C704398C4A'), #1815=IfcColumn('3RVSum8t59DvMGz$sGqUvU',#2,'P01',$,$,#4775,#785,'DB7DCE30-2371-4937-9590-F7FD90D1EE5E'), #1824=IfcColumn('0OW$1POlrDouTopCyQe6RQ',#2,'P01',$,$,#4809,#791,'1883F059-62FD-4DCB-8772-CCCF1AA066DA'), #1808=IfcDoor('0iV8B6IvXC9uSA5RSd7qgh',#2,'P02',$,$,#4786,#780,'2C7C82C6-4B98-4C27-870A-15B7271F4AAB',2100.,900.), #1839=IfcColumn('0mJ8JvzKr1vwL7jbXpM1cy',#2,'P01',$,$,#4884,#804,'304C84F9-F54D-41E7-A547-B658735819BC'), #1842=IfcBeam('0IYpv4fOTFn9J$O$wtCrn3',#2,'V01',$,$,#4892,#808,'128B3E44-A587-4FC4-94FF-63FEB7335C43'), #1846=IfcColumn('2_xVlURvnDm8DkAfyrEHHE',#2,'P01',$,$,#4916,#799,'BEEDFBDE-6F9C-4DC0-836E-2A9F3539144E'), #1847=IfcColumn('2NXGhLAoL4GeEw78jBLNID',#2,'P01',$,$,#4924,#813,'97850AD5-2B25-4442-83BA-1C8B4B55748D'), #1850=IfcBeam('0ewgT2WyDAc8kUzQKVAmom',#2,'V02',$,$,#4938,#815,'28EAA742-83C3-4A98-8B9E-F5A51F2B0CB0'), #1851=IfcBeam('1Z0RFBIZnFfPR2AP$BUhmc',#2,'V03',$,$,#4948,#817,'6301B3CB-4A3C-4FA5-96C2-299FCB7ABC26'), #1845=IfcBeam('3zuq99ILP47P8l$0Y$4FDV',#2,'V01',$,$,#4949,#811,'FDE34249-4956-441D-922F-FC08BF10F35F'), #1855=IfcBeam('0QBh$QLwL1A8P09s0VfWp_',#2,'V01',$,$,#4975,#824,'1A2EBFDA-57A5-4128-8640-27601FA60CFE'), #1854=IfcBeam('1Xf$qL7cn5xQIGgVioTJlE',#2,'V01',$,$,#4968,#823,'61A7FD15-1E6C-45ED-A490-A9FB32753BCE'), #1858=IfcBeam('3prnlBkh19R9hHtlplw0ia',#2,'V02',$,$,#4991,#826,'F3D71BCB-BAB0-496C-9AD1-DEFCEFE80B24'), #1872=IfcBeam('0QMMBoUrf8Cgip$opBRMBc',#2,'V02',$,$,#5061,#840,'1A5962F2-7B5A-4832-AB33-FF2CCB6D62E6'), #1869=IfcBeam('2EZqzRNG90cgKBarIHXtpM',#2,'V01',$,$,#5044,#837,'8E8F4F5B-5D02-409A-A50B-935491877CD6'), #1868=IfcBeam('3fT8WKEgvCqfFzWMeJ7tVj',#2,'V01',$,$,#5034,#835,'E9748814-3AAE-4CD2-93FD-816A131F77ED'), #1867=IfcBeam('0jCDbKZ$b7Gga_5XWW7f8C',#2,'V03',$,$,#5060,#832,'2D30D954-8FF9-4742-A93E-1618201E920C'), #1878=IfcBeam('1D_70_gnv2twpupYO_mcJJ',#2,'V03',$,$,#5096,#845,'4DF8703E-AB1E-42DF-ACF8-CE263EC264D3'), #1877=IfcWall('1tIoQfwv9FWP0u$20tl_Xl',#2,'Parede-001',$,$,#5113,#844,'774B26A9-EB92-4F81-9038-FC2037BFE86F'), #1880=IfcOpeningElement('3cMjvsq06q39giBWAqnUgs',#2,'J01',$,$,#5112,#847,'E65ADE76-D001-B40C-9AAC-2E02B4C5EAB6'), #1968=IfcWall('2z$Eaax4X4jfQp_es9OytO',#2,'Parede-002',$,$,#5367,#891,'BDFCE924-EC48-44B6-96B3-FA8D8963CDD8'), #1969=IfcWall('0NiM7ma093RAX2yZq49TFa',#2,'Parede-003',$,$,#5380,#898,'17B161F0-9002-436C-A842-F23D0425D3E4'), #1972=IfcWindow('2u5IHLg3H4U86kSrVeVl8I',#2,'J03',$,$,#5412,#896,'B8152455-A834-4478-81AE-7357E87EF212',1200.,2150.), #1959=IfcWindow('2108kOXJf5ORXai_tifHTP',#2,'J01',$,$,#5333,#888,'81008B98-853A-4561-B864-B3EDECA51759',1200.,3319.82), #1976=IfcOpeningElement('3l$8CHVrLn2d_1bwNC2SRj',#2,'J03',$,$,#5436,#900,'EFFC8311-7F55-710A-7F81-97A5CC09C6ED'), #1977=IfcWindow('2p7OgKEw98dfOUE5EOdmM5',#2,'J02',$,$,#5435,#904,'B31D8A94-3BA2-489E-961E-3853989F0585',1200.,2150.), #1974=IfcOpeningElement('39qUl6XpxriHpyltZVdAno',#2,'J04',$,$,#5418,#902,'C9D1EBC6-873E-F5B1-1CFC-BF78DF9CAC72'), #1978=IfcOpeningElement('0PFKW8Ww0g84Q_aAYjo8iN',#2,'J02',$,$,#5438,#906,'193D4808-83A0-2A20-46BE-90A8ADC88B17'), #1984=IfcWall('26XqweAE50MxXwIWUV6VM0',#2,'Parede-004',$,$,#5467,#910,'86874EA8-28E1-405B-B87A-4A079F19F580'), #1991=IfcBuildingElementPart('1PCc_0DcB6IYpQ5B7a9kDx',#2,'Concreto - Estrutural',$,$,#5534,#918,$), #1992=IfcWall('3Kj29aQ3HFuerDeatywd4X',#2,'Parede-003',$,$,#5533,#919,'D4B42264-6834-4FE2-8D4D-A24DFCEA7121'), #1995=IfcBuildingElementPart('31Nk7$SwwBpS9sNkoSTgh_',#2,'Concreto - Estrutural',$,$,#5558,#921,$), #1998=IfcBuildingElementPart('1lI6GJe88VsfBM2z1CHOas',#2,'Madeira',$,$,#5605,#925,$), #2001=IfcBuildingElementPart('263SLS$MFr4QWKcRA5lR7b',#2,'Concreto - Estrutural',$,$,#5614,#915,$), #2004=IfcBuildingElementPart('12GxeMdBKgISTmdHkNYGT4',#2,'Madeira',$,$,#5623,#931,$), #2007=IfcBuildingElementPart('1BhqkDlYNsRfgluYGpWtbv',#2,'Madeira',$,$,#5632,#933,$), #2010=IfcBuildingElementPart('3lawhYzsZsjj5q9M5ib8C$',#2,'Madeira',$,$,#5641,#936,$), #2013=IfcBuildingElementPart('0n1w6BwBBlbZwn$O4LWrUE',#2,'Madeira',$,$,#5650,#930,$), #2014=IfcBuildingElementPart('1QxbX6iVTd6uSfEaFeh1Gy',#2,'Madeira',$,$,#5653,#941,$), #2019=IfcBuildingElementPart('1CNVBr5a5iYZlfxCBbuLjD',#2,'Madeira',$,$,#5668,#946,$), #2020=IfcBuildingElementPart('1u1IfabTXpKJvQuRsvEA5Y',#2,'Madeira',$,$,#5671,#949,$), #2025=IfcBuildingElementPart('1yXFnbEEhMncyEVfuDLDKA',#2,'Madeira',$,$,#5683,#951,$), #2029=IfcBuildingElementPart('1IQ4ctMGUs0uBNmU7jsFIw',#2,'Madeira',$,$,#5695,#945,$), #2033=IfcBuildingElementPart('0y6m4ezYibPEjdWrvJsbLS',#2,'Madeira',$,$,#5710,#959,$), #2034=IfcBuildingElementPart('3TbtW3FS609npqiIg8tyh2',#2,'Madeira',$,$,#5713,#961,$), #2038=IfcBuildingElementPart('3WMdsYCo1bdKCyM7xU1Mvq',#2,'Madeira',$,$,#5722,#965,$), #2028=IfcBuildingElementPart('0e4f$NHYxXCBuja00Dhl64',#2,'Madeira',$,$,#5737,#954,$), #2043=IfcBuildingElementPart('1jBewU1ikVsauA8xjfx1Hm',#2,'Madeira',$,$,#5740,#969,$), #2047=IfcBuildingElementPart('1ywOMiUTpLUmXLRDFXyrPG',#2,'Madeira',$,$,#5749,#973,$), #2044=IfcBuildingElementPart('2Xf197til9OkOr2Z26$5IQ',#2,'Madeira',$,$,#5767,#971,$), #2053=IfcBuildingElementPart('2BKqUNauZMF0Gs4fIJiP4c',#2,'Madeira',$,$,#5785,#978,$), #2056=IfcBuildingElementPart('36YjSZ4zeEbMNFH5Ye6AqW',#2,'Madeira',$,$,#5803,#981,$), #2059=IfcBuildingElementPart('3nWew5mxBKY17SnVr7ABIM',#2,'Madeira',$,$,#5821,#986,$), #2062=IfcBuildingElementPart('1$DTa$mCzS4tBXIrZ7RMe9',#2,'Madeira',$,$,#5839,#988,$), #2065=IfcBuildingElementPart('08BovKxT5AFoki36BThqcy',#2,'Madeira',$,$,#5857,#991,$), #2050=IfcBuildingElementPart('0q2Gic0xCDA2T7jgiChnr7',#2,'Madeira',$,$,#5875,#976,$), #2068=IfcBuildingElementPart('1ne3A_CZe$oRPUDVdFGHup',#2,'Madeira',$,$,#5879,#995,$), #2071=IfcBuildingElementPart('2R2fa08aqM2S3nCRtgIFe3',#2,'Madeira',$,$,#5882,#997,$), #2074=IfcBuildingElementPart('2ib$wwaqfOwlX7GolYL6B4',#2,'Madeira',$,$,#5900,#1000,$), #2077=IfcBuildingElementPart('1UDgDO2oBHn2Vh_pk1QWiR',#2,'Madeira',$,$,#5918,#1003,$), #2080=IfcBuildingElementPart('034CXf5cCG1zh$TCNPiYOF',#2,'Madeira',$,$,#5936,#1006,$), #2085=IfcBuildingElementPart('3Xdg8iDcWbVFWH7B2eLJ44',#2,'Madeira',$,$,#5980,#1011,$), #2091=IfcBuildingElementPart('3O7SF_PsoTZPKp2wJNdG4W',#2,'Madeira',$,$,#6020,#1016,$), #2092=IfcBuildingElementPart('09fu2Nh9Gc04CMsZXJ4h1G',#2,'Madeira',$,$,#6023,#1018,$), #2088=IfcBuildingElementPart('0$Lz9Lo71Gqn29u6$SSY44',#2,'Madeira',$,$,#6026,#1013,$), #2095=IfcBuildingElementPart('1FREt1p9qa$yDaj5VJtBGV',#2,'Madeira',$,$,#6029,#1021,$), #2100=IfcOpeningElement('3KHgke$_i69nHiVP1S1ysP',#2,'P04',$,$,#6080,#1027,'D446ABA8-FFEB-0627-146C-7D905C07CD99'), #2102=IfcDoor('30vmI1aAD1JgW4EK2aGUrq',#2,'P04',$,$,#6091,#1029,'C0E70481-90A3-414E-A804-3940A441ED74',2100.,900.), #2098=IfcWall('3rNhIysnbFD8uQ81W1J3kI',#2,'Parede-003',$,$,#6081,#1024,'F55EB4BC-DB19-4F34-8E1A-2018014C3B92'), #2107=IfcOpeningElement('2eXKjFxpQWzGGWWgRhOZC$',#2,'P03',$,$,#6147,#1034,'A8854B4F-EF36-A0F5-0420-82A6EB62333F'), #2105=IfcWall('2dZRjQ5az6$hRX$zPL7MCw',#2,'Parede-003',$,$,#6157,#1032,'A78DBB5A-164F-46FE-B6E1-FFD6551D633A'), #2142=IfcSlab('1L66DFlXz9bPT529zAgiZM',#2,'L01',$,$,#6787,#1053,'5518634F-BE1F-4995-9745-089F4AAAC8D6',.FLOOR.), #2145=IfcSlab('2$_yRtiZX0VPSX_dA3kfPl',#2,'L01',$,$,#6808,#1056,'BFFBC6F7-B238-407D-9721-FA7283BA966F',.FLOOR.), #2148=IfcWall('37$ihMXFf5rQHWv57wrZ9h',#2,'Parede-001',$,$,#6826,#1059,'C7FECAD6-84FA-45D5-A460-E451FAD6326B'), #2151=IfcWall('2Arm5nqNnErBTmnHrGRinc',#2,'Parede-002',$,$,#6845,#1062,'8AD70171-D17C-4ED4-B770-C51D506ECC66'), #2154=IfcWall('15mGL5Wxj809e8kAZjQZnh',#2,'Parede-003',$,$,#6863,#1065,'45C10545-83BB-4800-9A08-B8A8ED6A3C6B'), #2155=IfcDoor('2Z8V5PDFf7sgoXO0O664Uo',#2,'P03',$,$,#6875,#1066,'A321F159-34FA-47DA-ACA1-6006061847B2',2100.,900.), #2158=IfcWall('1llGztpG1Fsf18wkt0NLlV',#2,'Parede-004',$,$,#6896,#1069,'6FBD0F77-CD00-4FDA-9048-EAEDC05D5BDF'), #2161=IfcBuildingElementPart('3CHMXC4Nlyxb4Hm9OXPnLg',#2,'Aço - Inoxidável',$,$,#6945,#1072,$), #2166=IfcBuildingElementPart('2S99s2b90rn65vxXE8OntU',#2,'Aço - Inoxidável',$,$,#7029,#1077,$), #2169=IfcBuildingElementPart('3nf_LpeMGP44JMiLMZjGhi',#2,'Aço - Inoxidável',$,$,#7072,#1080,$), #2174=IfcBuildingElementPart('1JFBpYYqTCiXCJXoaHTCS5',#2,'Aço - Inoxidável',$,$,#7153,#1086,$), #2177=IfcBuildingElementPart('1rfzqS1nl4UVBm1GZq7ND7',#2,'Aço - Inoxidável',$,$,#7196,#1089,$), #2178=IfcBuildingElementPart('3ydAcg7g9VBHl54Zlw3t0m',#2,'Aço - Inoxidável',$,$,#7201,#1090,$), #2187=IfcBuildingElementPart('2_SXoS7_kB_bmxgFBG9pLf',#2,'Aço - Inoxidável',$,$,#8438,#1095,$), #2199=IfcBuildingElementPart('18KFXXvrvWfqF9eSe6QYj9',#2,'Ferro',$,$,#8887,#1104,$), #2205=IfcBuildingElementPart('3aldP4AJf$YzbpSd_4mw9C',#2,'Aço - Inoxidável',$,$,#8933,#1108,$), #2208=IfcBuildingElementPart('19cKY0NFVCr5gP9iU3YxWe',#2,'Aço - Inoxidável',$,$,#8976,#1111,$), #2211=IfcBuildingElementPart('2PFj1Nj402Ybq_QDTB1sKv',#2,'Aço - Inoxidável',$,$,#9019,#1114,$), #2216=IfcBuildingElementPart('3$PUU8B9Zi6vlyC0NQ7b5_',#2,'Aço - Inoxidável',$,$,#9100,#1118,$), #2217=IfcBuildingElementPart('0f6bs5scQ1AMCLY5XWPODT',#2,'Aço - Inoxidável',$,$,#9105,#1119,$), #2220=IfcBuildingElementPart('2BTIzyoQQxvdW_TTG4$nb8',#2,'Aço - Inoxidável',$,$,#9148,#1121,$), #2223=IfcBuildingElementPart('1ZHUikJVpA$to$XlYx93wB',#2,'Aço - Inoxidável',$,$,#9191,#1124,$), #2226=IfcBuildingElementPart('1yx6sdI5UFNrnp5_b8jTLZ',#2,'Aço - Inoxidável',$,$,#9270,#1128,$), #2229=IfcBuildingElementPart('2TGD7aow9kEQl4EWodGB4j',#2,'Aço - Inoxidável',$,$,#9313,#1130,$), #2234=IfcBuildingElementPart('2UP0uV_9k1aBIkRCqwSGVB',#2,'Aço - Inoxidável',$,$,#9394,#1136,$), #2237=IfcBuildingElementPart('30znbSNvfTBsuV63rTWl2K',#2,'Aço - Inoxidável',$,$,#9437,#1139,$), #2240=IfcBuildingElementPart('0M8xD5Irrc6XzQYPo0BxJi',#2,'Aço - Inoxidável',$,$,#9480,#1142,$), #2241=IfcBuildingElementPart('2eDM9HG9NxsUEu4y4Qz6Wk',#2,'Aço - Inoxidável',$,$,#9485,#1144,$), #2244=IfcBuildingElementPart('2x28FRUDbgpRNReQUgGSVg',#2,'Aço - Inoxidável',$,$,#9528,#1148,$), #2245=IfcBuildingElementPart('1MjkiroPiLn8Y4VSsXn5jz',#2,'Aço - Inoxidável',$,$,#9534,#1149,$), #2252=IfcBuildingElementPart('293BDzHWvLlkpgKLUiioTl',#2,'Aço - Inoxidável',$,$,#9653,#1154,$), #2255=IfcBuildingElementPart('1KTp2LuBI$xy6KDZf9XQuh',#2,'Aço - Inoxidável',$,$,#9696,#1157,$), #2258=IfcBuildingElementPart('0IzP2TUrRNMQGGPjbR$CJE',#2,'Aço - Inoxidável',$,$,#9739,#1160,$), #2269=IfcBuildingElementPart('1v$BZ6BX_fZmCppx6GmQhC',#2,'Aço - Inoxidável',$,$,#11374,#1161,$), #2272=IfcBuildingElementPart('1RI4k$ag0Nt2aZkAY7gl6h',#2,'Aço - Inoxidável',$,$,#11777,#1171,$), #2293=IfcBuildingElementPart('2LPi7zdL89LFY5oMODxlcd',#2,'Ferro',$,$,#12522,#1182,$), #2296=IfcBuildingElementPart('1QMxE7fByU_Z8akEfJ0wku',#2,'Aço - Inoxidável',$,$,#12565,#1184,$), #2299=IfcBuildingElementPart('2F08XYbbx8nT4OoyYiEOML',#2,'Aço - Inoxidável',$,$,#12608,#1185,$), #2302=IfcBuildingElementPart('1cYehABvC9O4JqgOVjyPVp',#2,'Aço - Inoxidável',$,$,#12651,#1190,$), #2307=IfcBuildingElementPart('18BOnhr6KEb1GAiQv8EKLm',#2,'Aço - Inoxidável',$,$,#12732,#1193,$), #2316=IfcBuildingElementPart('2idduK0ADFZ28y2ee7UpSA',#2,'Aço - Inoxidável',$,$,#12861,#1202,$), #2313=IfcBuildingElementPart('2Ew8gkYlbKzJOx_m8s2Vei',#2,'Aço - Inoxidável',$,$,#12818,#1199,$), #2310=IfcBuildingElementPart('24f0qIuQxe4qI8DGF3SxRf',#2,'Aço - Inoxidável',$,$,#12775,#1196,$), #2317=IfcBuildingElementPart('2qxSXZrYxixh3AU9Rd3UHD',#2,'Aço - Inoxidável',$,$,#12866,#1188,$), #2322=IfcBuildingElementPart('1h9MYlORdqTsz99HPWM$PM',#2,'Aço - Inoxidável',$,$,#12947,#1205,$), #2323=IfcBuildingElementPart('0WFDP0ROLbpFdg6mac2ZDO',#2,'Aço - Inoxidável',$,$,#12952,#1208,$), #2329=IfcBuildingElementPart('0Fs69hOnOn4a9sz7TLeBzV',#2,'Aço - Inoxidável',$,$,#13107,#1212,$), #2330=IfcBuildingElementPart('0h$Jeq_Sc_90mt3jj_RGt8',#2,'Aço - Inoxidável',$,$,#13112,#1217,$), #2334=IfcBuildingElementPart('16fTjKdwAz2FGP3ZVeUVa1',#2,'Aço - Inoxidável',$,$,#13155,#1221,$), #2339=IfcBuildingElementPart('3rp2ODTuaLArDa4HMEqFsM',#2,'Aço - Inoxidável',$,$,#13236,#1225,$), #2340=IfcBuildingElementPart('3I2dZlm6bMdYqMNkbGTwV_',#2,'Aço - Inoxidável',$,$,#13241,#1220,$), #2345=IfcBuildingElementPart('2srEImtCVOJnS0kVBm3h3s',#2,'Aço - Inoxidável',$,$,#13322,#1231,$), #2346=IfcBuildingElementPart('1BsvNiYmNVdpLXZ_JbFd6e',#2,'Aço - Inoxidável',$,$,#13327,#1228,$), #2347=IfcBuildingElementPart('2q0BepXckn97fMY_my1K6K',#2,'Aço - Inoxidável',$,$,#13332,#1233,$), #2350=IfcBuildingElementPart('2pVWLXygZ4OjJRZv2N_l82',#2,'Aço - Inoxidável',$,$,#13375,#1236,$), #2353=IfcBuildingElementPart('2odyMG$JWz5PYziOrKUEGb',#2,'Aço - Inoxidável',$,$,#13454,#1239,$), #2356=IfcBuildingElementPart('0JXn_m3jhlQVtYhmnbomXe',#2,'Aço - Inoxidável',$,$,#13497,#1244,$), #2359=IfcBuildingElementPart('2M4rvrGbjXvPq8pwlikis4',#2,'Aço - Inoxidável',$,$,#13540,#1247,$), #2362=IfcBuildingElementPart('30McEDKa_qXlFQpHcinthN',#2,'Aço - Inoxidável',$,$,#13583,#1250,$), #2363=IfcBuildingElementPart('2Qx8ACWDDXT6V7I0WAfa1d',#2,'Aço - Inoxidável',$,$,#13588,#1251,$), #2368=IfcBuildingElementPart('1xzJwQAO7FBGzCsYAQVuEB',#2,'Aço - Inoxidável',$,$,#13669,#1255,$), #2371=IfcBuildingElementPart('1FqtpNkbBZW1C69OsZuNvh',#2,'Aço - Inoxidável',$,$,#13712,#1257,$), #2374=IfcBuildingElementPart('39ArW8a2HKYTbNZ6GixGja',#2,'Aço - Inoxidável',$,$,#13755,#1260,$), #2377=IfcBuildingElementPart('1ZuUE7aeCG76TVaGkao3mT',#2,'Aço - Inoxidável',$,$,#13834,#1263,$), #2380=IfcBuildingElementPart('1K5Fujw8H10xlVLbLau3Qp',#2,'Aço - Inoxidável',$,$,#13877,#1265,$), #2383=IfcBuildingElementPart('1a$Fc5TR2btKmglGJYqf6J',#2,'Aço - Inoxidável',$,$,#13920,#1267,$), #2388=IfcBuildingElementPart('1dWcboZ6qcq04OCz80LkmB',#2,'Aço - Inoxidável',$,$,#14001,#1273,$), #2389=IfcBuildingElementPart('2Ctoc9BFyptEE7cm0qBhrd',#2,'Aço - Inoxidável',$,$,#14006,#1276,$), #2390=IfcBuildingElementPart('1s$ADzSYQsVaZcK0aMhz1x',#2,'Aço - Inoxidável',$,$,#14011,#1278,$), #2395=IfcBuildingElementPart('2hJ3Ktou$hmIOGaz3e9Skg',#2,'Aço - Inoxidável',$,$,#14092,#1282,$), #2400=IfcBuildingElementPart('3yUapKLfpuR2b6M5WYiQTq',#2,'Aço - Inoxidável',$,$,#14173,#1285,$), #2401=IfcBuildingElementPart('1YXPzTucUJVtJYTx2NOVXV',#2,'Aço - Inoxidável',$,$,#14178,#1287,$), #2404=IfcBuildingElementPart('3E9Eijaq6tFA8V749EoXfc',#2,'Aço - Inoxidável',$,$,#14221,#1289,$), #2407=IfcSlab('34BfxNLUfEsv_h1EIWm8ze',#2,'L01',$,$,#14232,#1291,'C42E9ED7-55EA-4EDB-9FAB-04E4A0C08F68',.FLOOR.), #2413=IfcBuildingElementPart('0ze4cDztEF5mDP3dJY17C2',#2,'GENÉRICO - PRÉ-FABRICADO',$,$,#14269,#1299,$), #2415=IfcBuildingElementPart('1eCRysjXS9P5yME2altzGI',#2,'GENÉRICO - COBERTURA',$,$,#14276,#1297,$), #1980=IfcWindow('3tkhDyQbv1PfwE9WLxykAQ',#2,'J04',$,$,#5452,#908,'F7BAB37C-6A5E-4166-9E8E-26057BF2E29A',900.,900.), #14294=IfcBuildingStorey('0yel9JA1rFtRnIIBXojKZD',#2,'Pavimento Térreo',$,$,#2455,$,$,.ELEMENT.,0.), #14307=IfcBuildingStorey('3dxIs6tEDCy8JAieeo_vSq',#2,'Primeiro Pavimento',$,$,#2456,$,$,.ELEMENT.,3000.), #14310=IfcBuildingStorey('10xiyxAX_aIfEvvB7TXxdK',#2,'Pavimento Cobertura',$,$,#2458,$,$,.ELEMENT.,9000.), #14319=IfcBuildingStorey('2TD6xWHOfAi8wWE7VcF5IC',#2,'Segundo Pavimento',$,$,#2457,$,$,.ELEMENT.,6000.), #14336=IfcStair('1amnBCwBjEtOCdHI1c6EH6',#2,'Escada - 002',$,$,#14305,$,'64C312CC-E8BB-4EDD-8327-45206618E446',.NOTDEFINED.), #16982=IfcStair('2SHHwPuZ90wfkR2PwFyY_s',#2,'Escada - 002',$,$,#14308,$,'9C451E99-E232-40EA-9B9B-099E8FF22FB6',.NOTDEFINED.), #18658=IfcRailing('3dQUjfUIn8EPJWSoHy9flI',#2,'Guarda-Corpo - 001',$,$,#14320,$,'E769EB69-792C-4839-94E0-73247C269BD2',.NOTDEFINED.), #18659=IfcRailing('2bhRpo6Kn31gaqyBB97Gi8',#2,'Guarda-Corpo - 002',$,$,#14323,$,'A5ADBCF2-194C-4306-A934-F0B2C91D0B08',.NOTDEFINED.), #26083=IfcRoof('3uTqQYMWr5FQqIVX6Uo9D3',#2,'Cobert - 001',$,$,#14311,$,'F87746A2-5A0D-453D-AD12-7E119EC89343',.NOTDEFINED.)]\n"
     ]
    }
   ],
   "source": [
    "products = model.by_type(\"IfcProduct\")\n",
    "print (products)\n"
   ]
  },
  {
   "cell_type": "markdown",
   "metadata": {},
   "source": [
    "including the [`IfcOpeningElement`](http://www.buildingsmart-tech.org/ifc/IFC2x3/TC1/html/ifcproductextension/lexical/ifcopeningelement.htm), while"
   ]
  },
  {
   "cell_type": "code",
   "execution_count": 7,
   "metadata": {},
   "outputs": [
    {
     "name": "stdout",
     "output_type": "stream",
     "text": [
      "[#1343=IfcWall('3MUZ3BWyHEoeAaCOj$7KJB',#2,'Parede-001',$,$,#2499,#466,'D67A30CB-83C4-4ECA-82A4-318B7F1D44CB'), #1338=IfcSlab('2vyg57HAT3hOuKMe8Hll2J',#2,'L01',$,$,#2467,#460,'B9F2A147-44A7-43AD-8E14-5A8211BEF093',.FLOOR.), #1429=IfcWindow('2dqGPfnW12r9jHuFdzptVs',#2,'J01',$,$,#2754,#514,'A7D10669-C600-42D4-9B51-E0F9FDCF77F6',1200.,3319.82), #1482=IfcDoor('3jXQuekdz7WfIyZnq20xWe',#2,'P01',$,$,#2913,#542,'ED85AE28-BA7F-4782-94BC-8F1D0203B828',2100.,2470.11), #1485=IfcWall('3DaGCq4J14QudK9deNIzJr',#2,'Parede-002',$,$,#2940,#545,'CD910334-1130-446B-89D4-267A174BD4F5'), #1552=IfcWindow('30Dw6sQ1r1AxaxrpCz6gQp',#2,'J03',$,$,#3125,#582,'C037A1B6-681D-412B-B93B-D7333D1AA6B3',1200.,2150.), #1554=IfcWall('1UkoAhCmb5f9tD_rG2jzCd',#2,'Parede-003',$,$,#3143,#584,'5EBB22AB-3309-45A4-9DCD-FB5402B7D327'), #1645=IfcWindow('00RYrFYZf0aOS8Qyi5oZEi',#2,'J04',$,$,#3411,#636,'006E2D4F-8A3A-4091-8708-6BCB05CA33AC',900.,900.), #1624=IfcWindow('0BCMFj6tf8Ug5JN4urwcb$',#2,'J02',$,$,#3343,#623,'0B3163ED-1B7A-487A-A153-5C4E35EA697F',1200.,2150.), #1658=IfcBuildingElementPart('1BRjEF9tOXsIntoLqQCDz6',#2,'Concreto - Estrutural',$,$,#3493,#647,$), #1662=IfcBuildingElementPart('3kSflPWy_9ZUIkdijxG2zN',#2,'Concreto - Estrutural',$,$,#3547,#650,$), #1664=IfcBuildingElementPart('2vAbPPqpEClCOZUpU_PYAo',#2,'Madeira',$,$,#3556,#653,$), #1670=IfcBuildingElementPart('3g0m$TxGA6RV11H8xL4HMo',#2,'Madeira',$,$,#3568,#658,$), #1685=IfcBuildingElementPart('3$oPMKSTl4kSxIN50fX5B0',#2,'Madeira',$,$,#3615,#673,$), #1679=IfcBuildingElementPart('0h7DYKb_VpyN4ZOgJlsXiC',#2,'Madeira',$,$,#3606,#670,$), #1681=IfcBuildingElementPart('1LzqWUutU1whaH_Eb9DbpY',#2,'Madeira',$,$,#3603,#661,$), #1678=IfcBuildingElementPart('3M1nith$8qJRz$t291oa7v',#2,'Madeira',$,$,#3588,#667,$), #1654=IfcBuildingElementPart('3ERFmhmVyZla9nisl3wP0u',#2,'Concreto - Estrutural',$,$,#3498,#642,$), #1675=IfcBuildingElementPart('1V4fMSDhGhcOFFpljU1xgE',#2,'Madeira',$,$,#3583,#664,$), #1647=IfcWall('0x8wIQd$90HPBzF9TBk0bm',#2,'Parede-004',$,$,#3624,#638,'3B23A49A-9FF2-4045-92FD-3C974BB80970'), #1688=IfcBuildingElementPart('0zeb7B2HFRMKcbxcynlJKa',#2,'Madeira',$,$,#3636,#676,$), #1691=IfcBuildingElementPart('0gCb6TF_hfHLN4HHPAR8ly',#2,'Madeira',$,$,#3645,#679,$), #1694=IfcBuildingElementPart('2CqUASEEMP5sobDrmSFHsU',#2,'Madeira',$,$,#3660,#682,$), #1699=IfcBuildingElementPart('1GJHJzL5djUwuoEm3wkm3z',#2,'Madeira',$,$,#3670,#688,$), #1703=IfcBuildingElementPart('2lWDAA_1YT1DkDJHrYGS7F',#2,'Madeira',$,$,#3673,#691,$), #1702=IfcBuildingElementPart('1OSeOA3aEg_HDaCeKLA$ud',#2,'Madeira',$,$,#3669,#685,$), #1704=IfcBuildingElementPart('0zJY5XJdkPxV5s2l7YKmq4',#2,'Madeira',$,$,#3676,#694,$), #1711=IfcBuildingElementPart('1S7o1fKofteHcIlwN5MGAg',#2,'Madeira',$,$,#3697,#700,$), #1713=IfcBuildingElementPart('1fc1pwAvSKi3Bh3cUsegJh',#2,'Madeira',$,$,#3707,#697,$), #1714=IfcBuildingElementPart('0NVBpejfETlLs9a9g_8MK1',#2,'Madeira',$,$,#3710,#703,$), #1718=IfcBuildingElementPart('3_umqxJjJW8Etgy6B_wBUA',#2,'Madeira',$,$,#3729,#706,$), #1723=IfcBuildingElementPart('11N99kB1guY3TqK$FacsRA',#2,'Madeira',$,$,#3755,#712,$), #1724=IfcBuildingElementPart('2sJqF1R9kBiYbZuHZ79JpG',#2,'Madeira',$,$,#3758,#709,$), #1732=IfcBuildingElementPart('07Zy5E6IRvLvvT8rKzV3wt',#2,'Madeira',$,$,#3813,#721,$), #1733=IfcBuildingElementPart('3_ul_SZuqdEDpK5ksnnAJi',#2,'Madeira',$,$,#3816,#715,$), #1736=IfcBuildingElementPart('1PxTwn5C$jAAl9RXjC7AD5',#2,'Madeira',$,$,#3834,#724,$), #1738=IfcBuildingElementPart('0pnrBO61$Nt3SJJq9VqqHl',#2,'Madeira',$,$,#3856,#727,$), #1729=IfcBuildingElementPart('26yfCVPOmeh7LUAsaOcFZi',#2,'Madeira',$,$,#3859,#718,$), #1742=IfcBuildingElementPart('3mChizlhHUBg_3u_yf$R80',#2,'Madeira',$,$,#3862,#730,$), #1743=IfcBuildingElementPart('3cZvthpZPtyUtEiG9X_bs0',#2,'Madeira',$,$,#3865,#733,$), #1748=IfcBuildingElementPart('2uZMqJ2mkDoyxPQVG5NEGL',#2,'Madeira',$,$,#3914,#736,$), #1751=IfcBuildingElementPart('236DDBdRXlqBYEuB4PKnhR',#2,'Madeira',$,$,#3939,#739,$), #1757=IfcBuildingElementPart('2AxDxmOO8r6c$b7$yumFf1',#2,'Madeira',$,$,#3970,#745,$), #1763=IfcBuildingElementPart('0fldkLcUeDU0$ugv4UWPPz',#2,'Madeira',$,$,#4005,#751,$), #1760=IfcBuildingElementPart('16HHZlX1K5CiMTwb8rnUQQ',#2,'Madeira',$,$,#4016,#748,$), #1754=IfcBuildingElementPart('2VC4FXarzXVRJbsbuKK4a8',#2,'Madeira',$,$,#4038,#742,$), #1766=IfcWall('2idldwBz9D08rQz5KVheRs',#2,'Parede-003',$,$,#4041,#754,'AC9EF9FA-2FD2-4D00-8D5A-F4551FAE86F6'), #1771=IfcWall('2vFcMxImDFNfjXXraifyoc',#2,'Parede-004',$,$,#4037,#758,'B93E65BB-4B03-4F5E-9B61-87592CA7CCA6'), #1815=IfcColumn('3RVSum8t59DvMGz$sGqUvU',#2,'P01',$,$,#4775,#785,'DB7DCE30-2371-4937-9590-F7FD90D1EE5E'), #1824=IfcColumn('0OW$1POlrDouTopCyQe6RQ',#2,'P01',$,$,#4809,#791,'1883F059-62FD-4DCB-8772-CCCF1AA066DA'), #1808=IfcDoor('0iV8B6IvXC9uSA5RSd7qgh',#2,'P02',$,$,#4786,#780,'2C7C82C6-4B98-4C27-870A-15B7271F4AAB',2100.,900.), #1839=IfcColumn('0mJ8JvzKr1vwL7jbXpM1cy',#2,'P01',$,$,#4884,#804,'304C84F9-F54D-41E7-A547-B658735819BC'), #1842=IfcBeam('0IYpv4fOTFn9J$O$wtCrn3',#2,'V01',$,$,#4892,#808,'128B3E44-A587-4FC4-94FF-63FEB7335C43'), #1846=IfcColumn('2_xVlURvnDm8DkAfyrEHHE',#2,'P01',$,$,#4916,#799,'BEEDFBDE-6F9C-4DC0-836E-2A9F3539144E'), #1847=IfcColumn('2NXGhLAoL4GeEw78jBLNID',#2,'P01',$,$,#4924,#813,'97850AD5-2B25-4442-83BA-1C8B4B55748D'), #1850=IfcBeam('0ewgT2WyDAc8kUzQKVAmom',#2,'V02',$,$,#4938,#815,'28EAA742-83C3-4A98-8B9E-F5A51F2B0CB0'), #1851=IfcBeam('1Z0RFBIZnFfPR2AP$BUhmc',#2,'V03',$,$,#4948,#817,'6301B3CB-4A3C-4FA5-96C2-299FCB7ABC26'), #1845=IfcBeam('3zuq99ILP47P8l$0Y$4FDV',#2,'V01',$,$,#4949,#811,'FDE34249-4956-441D-922F-FC08BF10F35F'), #1855=IfcBeam('0QBh$QLwL1A8P09s0VfWp_',#2,'V01',$,$,#4975,#824,'1A2EBFDA-57A5-4128-8640-27601FA60CFE'), #1854=IfcBeam('1Xf$qL7cn5xQIGgVioTJlE',#2,'V01',$,$,#4968,#823,'61A7FD15-1E6C-45ED-A490-A9FB32753BCE'), #1858=IfcBeam('3prnlBkh19R9hHtlplw0ia',#2,'V02',$,$,#4991,#826,'F3D71BCB-BAB0-496C-9AD1-DEFCEFE80B24'), #1872=IfcBeam('0QMMBoUrf8Cgip$opBRMBc',#2,'V02',$,$,#5061,#840,'1A5962F2-7B5A-4832-AB33-FF2CCB6D62E6'), #1869=IfcBeam('2EZqzRNG90cgKBarIHXtpM',#2,'V01',$,$,#5044,#837,'8E8F4F5B-5D02-409A-A50B-935491877CD6'), #1868=IfcBeam('3fT8WKEgvCqfFzWMeJ7tVj',#2,'V01',$,$,#5034,#835,'E9748814-3AAE-4CD2-93FD-816A131F77ED'), #1867=IfcBeam('0jCDbKZ$b7Gga_5XWW7f8C',#2,'V03',$,$,#5060,#832,'2D30D954-8FF9-4742-A93E-1618201E920C'), #1878=IfcBeam('1D_70_gnv2twpupYO_mcJJ',#2,'V03',$,$,#5096,#845,'4DF8703E-AB1E-42DF-ACF8-CE263EC264D3'), #1877=IfcWall('1tIoQfwv9FWP0u$20tl_Xl',#2,'Parede-001',$,$,#5113,#844,'774B26A9-EB92-4F81-9038-FC2037BFE86F'), #1968=IfcWall('2z$Eaax4X4jfQp_es9OytO',#2,'Parede-002',$,$,#5367,#891,'BDFCE924-EC48-44B6-96B3-FA8D8963CDD8'), #1969=IfcWall('0NiM7ma093RAX2yZq49TFa',#2,'Parede-003',$,$,#5380,#898,'17B161F0-9002-436C-A842-F23D0425D3E4'), #1972=IfcWindow('2u5IHLg3H4U86kSrVeVl8I',#2,'J03',$,$,#5412,#896,'B8152455-A834-4478-81AE-7357E87EF212',1200.,2150.), #1959=IfcWindow('2108kOXJf5ORXai_tifHTP',#2,'J01',$,$,#5333,#888,'81008B98-853A-4561-B864-B3EDECA51759',1200.,3319.82), #1977=IfcWindow('2p7OgKEw98dfOUE5EOdmM5',#2,'J02',$,$,#5435,#904,'B31D8A94-3BA2-489E-961E-3853989F0585',1200.,2150.), #1984=IfcWall('26XqweAE50MxXwIWUV6VM0',#2,'Parede-004',$,$,#5467,#910,'86874EA8-28E1-405B-B87A-4A079F19F580'), #1991=IfcBuildingElementPart('1PCc_0DcB6IYpQ5B7a9kDx',#2,'Concreto - Estrutural',$,$,#5534,#918,$), #1992=IfcWall('3Kj29aQ3HFuerDeatywd4X',#2,'Parede-003',$,$,#5533,#919,'D4B42264-6834-4FE2-8D4D-A24DFCEA7121'), #1995=IfcBuildingElementPart('31Nk7$SwwBpS9sNkoSTgh_',#2,'Concreto - Estrutural',$,$,#5558,#921,$), #1998=IfcBuildingElementPart('1lI6GJe88VsfBM2z1CHOas',#2,'Madeira',$,$,#5605,#925,$), #2001=IfcBuildingElementPart('263SLS$MFr4QWKcRA5lR7b',#2,'Concreto - Estrutural',$,$,#5614,#915,$), #2004=IfcBuildingElementPart('12GxeMdBKgISTmdHkNYGT4',#2,'Madeira',$,$,#5623,#931,$), #2007=IfcBuildingElementPart('1BhqkDlYNsRfgluYGpWtbv',#2,'Madeira',$,$,#5632,#933,$), #2010=IfcBuildingElementPart('3lawhYzsZsjj5q9M5ib8C$',#2,'Madeira',$,$,#5641,#936,$), #2013=IfcBuildingElementPart('0n1w6BwBBlbZwn$O4LWrUE',#2,'Madeira',$,$,#5650,#930,$), #2014=IfcBuildingElementPart('1QxbX6iVTd6uSfEaFeh1Gy',#2,'Madeira',$,$,#5653,#941,$), #2019=IfcBuildingElementPart('1CNVBr5a5iYZlfxCBbuLjD',#2,'Madeira',$,$,#5668,#946,$), #2020=IfcBuildingElementPart('1u1IfabTXpKJvQuRsvEA5Y',#2,'Madeira',$,$,#5671,#949,$), #2025=IfcBuildingElementPart('1yXFnbEEhMncyEVfuDLDKA',#2,'Madeira',$,$,#5683,#951,$), #2029=IfcBuildingElementPart('1IQ4ctMGUs0uBNmU7jsFIw',#2,'Madeira',$,$,#5695,#945,$), #2033=IfcBuildingElementPart('0y6m4ezYibPEjdWrvJsbLS',#2,'Madeira',$,$,#5710,#959,$), #2034=IfcBuildingElementPart('3TbtW3FS609npqiIg8tyh2',#2,'Madeira',$,$,#5713,#961,$), #2038=IfcBuildingElementPart('3WMdsYCo1bdKCyM7xU1Mvq',#2,'Madeira',$,$,#5722,#965,$), #2028=IfcBuildingElementPart('0e4f$NHYxXCBuja00Dhl64',#2,'Madeira',$,$,#5737,#954,$), #2043=IfcBuildingElementPart('1jBewU1ikVsauA8xjfx1Hm',#2,'Madeira',$,$,#5740,#969,$), #2047=IfcBuildingElementPart('1ywOMiUTpLUmXLRDFXyrPG',#2,'Madeira',$,$,#5749,#973,$), #2044=IfcBuildingElementPart('2Xf197til9OkOr2Z26$5IQ',#2,'Madeira',$,$,#5767,#971,$), #2053=IfcBuildingElementPart('2BKqUNauZMF0Gs4fIJiP4c',#2,'Madeira',$,$,#5785,#978,$), #2056=IfcBuildingElementPart('36YjSZ4zeEbMNFH5Ye6AqW',#2,'Madeira',$,$,#5803,#981,$), #2059=IfcBuildingElementPart('3nWew5mxBKY17SnVr7ABIM',#2,'Madeira',$,$,#5821,#986,$), #2062=IfcBuildingElementPart('1$DTa$mCzS4tBXIrZ7RMe9',#2,'Madeira',$,$,#5839,#988,$), #2065=IfcBuildingElementPart('08BovKxT5AFoki36BThqcy',#2,'Madeira',$,$,#5857,#991,$), #2050=IfcBuildingElementPart('0q2Gic0xCDA2T7jgiChnr7',#2,'Madeira',$,$,#5875,#976,$), #2068=IfcBuildingElementPart('1ne3A_CZe$oRPUDVdFGHup',#2,'Madeira',$,$,#5879,#995,$), #2071=IfcBuildingElementPart('2R2fa08aqM2S3nCRtgIFe3',#2,'Madeira',$,$,#5882,#997,$), #2074=IfcBuildingElementPart('2ib$wwaqfOwlX7GolYL6B4',#2,'Madeira',$,$,#5900,#1000,$), #2077=IfcBuildingElementPart('1UDgDO2oBHn2Vh_pk1QWiR',#2,'Madeira',$,$,#5918,#1003,$), #2080=IfcBuildingElementPart('034CXf5cCG1zh$TCNPiYOF',#2,'Madeira',$,$,#5936,#1006,$), #2085=IfcBuildingElementPart('3Xdg8iDcWbVFWH7B2eLJ44',#2,'Madeira',$,$,#5980,#1011,$), #2091=IfcBuildingElementPart('3O7SF_PsoTZPKp2wJNdG4W',#2,'Madeira',$,$,#6020,#1016,$), #2092=IfcBuildingElementPart('09fu2Nh9Gc04CMsZXJ4h1G',#2,'Madeira',$,$,#6023,#1018,$), #2088=IfcBuildingElementPart('0$Lz9Lo71Gqn29u6$SSY44',#2,'Madeira',$,$,#6026,#1013,$), #2095=IfcBuildingElementPart('1FREt1p9qa$yDaj5VJtBGV',#2,'Madeira',$,$,#6029,#1021,$), #2102=IfcDoor('30vmI1aAD1JgW4EK2aGUrq',#2,'P04',$,$,#6091,#1029,'C0E70481-90A3-414E-A804-3940A441ED74',2100.,900.), #2098=IfcWall('3rNhIysnbFD8uQ81W1J3kI',#2,'Parede-003',$,$,#6081,#1024,'F55EB4BC-DB19-4F34-8E1A-2018014C3B92'), #2105=IfcWall('2dZRjQ5az6$hRX$zPL7MCw',#2,'Parede-003',$,$,#6157,#1032,'A78DBB5A-164F-46FE-B6E1-FFD6551D633A'), #2142=IfcSlab('1L66DFlXz9bPT529zAgiZM',#2,'L01',$,$,#6787,#1053,'5518634F-BE1F-4995-9745-089F4AAAC8D6',.FLOOR.), #2145=IfcSlab('2$_yRtiZX0VPSX_dA3kfPl',#2,'L01',$,$,#6808,#1056,'BFFBC6F7-B238-407D-9721-FA7283BA966F',.FLOOR.), #2148=IfcWall('37$ihMXFf5rQHWv57wrZ9h',#2,'Parede-001',$,$,#6826,#1059,'C7FECAD6-84FA-45D5-A460-E451FAD6326B'), #2151=IfcWall('2Arm5nqNnErBTmnHrGRinc',#2,'Parede-002',$,$,#6845,#1062,'8AD70171-D17C-4ED4-B770-C51D506ECC66'), #2154=IfcWall('15mGL5Wxj809e8kAZjQZnh',#2,'Parede-003',$,$,#6863,#1065,'45C10545-83BB-4800-9A08-B8A8ED6A3C6B'), #2155=IfcDoor('2Z8V5PDFf7sgoXO0O664Uo',#2,'P03',$,$,#6875,#1066,'A321F159-34FA-47DA-ACA1-6006061847B2',2100.,900.), #2158=IfcWall('1llGztpG1Fsf18wkt0NLlV',#2,'Parede-004',$,$,#6896,#1069,'6FBD0F77-CD00-4FDA-9048-EAEDC05D5BDF'), #2161=IfcBuildingElementPart('3CHMXC4Nlyxb4Hm9OXPnLg',#2,'Aço - Inoxidável',$,$,#6945,#1072,$), #2166=IfcBuildingElementPart('2S99s2b90rn65vxXE8OntU',#2,'Aço - Inoxidável',$,$,#7029,#1077,$), #2169=IfcBuildingElementPart('3nf_LpeMGP44JMiLMZjGhi',#2,'Aço - Inoxidável',$,$,#7072,#1080,$), #2174=IfcBuildingElementPart('1JFBpYYqTCiXCJXoaHTCS5',#2,'Aço - Inoxidável',$,$,#7153,#1086,$), #2177=IfcBuildingElementPart('1rfzqS1nl4UVBm1GZq7ND7',#2,'Aço - Inoxidável',$,$,#7196,#1089,$), #2178=IfcBuildingElementPart('3ydAcg7g9VBHl54Zlw3t0m',#2,'Aço - Inoxidável',$,$,#7201,#1090,$), #2187=IfcBuildingElementPart('2_SXoS7_kB_bmxgFBG9pLf',#2,'Aço - Inoxidável',$,$,#8438,#1095,$), #2199=IfcBuildingElementPart('18KFXXvrvWfqF9eSe6QYj9',#2,'Ferro',$,$,#8887,#1104,$), #2205=IfcBuildingElementPart('3aldP4AJf$YzbpSd_4mw9C',#2,'Aço - Inoxidável',$,$,#8933,#1108,$), #2208=IfcBuildingElementPart('19cKY0NFVCr5gP9iU3YxWe',#2,'Aço - Inoxidável',$,$,#8976,#1111,$), #2211=IfcBuildingElementPart('2PFj1Nj402Ybq_QDTB1sKv',#2,'Aço - Inoxidável',$,$,#9019,#1114,$), #2216=IfcBuildingElementPart('3$PUU8B9Zi6vlyC0NQ7b5_',#2,'Aço - Inoxidável',$,$,#9100,#1118,$), #2217=IfcBuildingElementPart('0f6bs5scQ1AMCLY5XWPODT',#2,'Aço - Inoxidável',$,$,#9105,#1119,$), #2220=IfcBuildingElementPart('2BTIzyoQQxvdW_TTG4$nb8',#2,'Aço - Inoxidável',$,$,#9148,#1121,$), #2223=IfcBuildingElementPart('1ZHUikJVpA$to$XlYx93wB',#2,'Aço - Inoxidável',$,$,#9191,#1124,$), #2226=IfcBuildingElementPart('1yx6sdI5UFNrnp5_b8jTLZ',#2,'Aço - Inoxidável',$,$,#9270,#1128,$), #2229=IfcBuildingElementPart('2TGD7aow9kEQl4EWodGB4j',#2,'Aço - Inoxidável',$,$,#9313,#1130,$), #2234=IfcBuildingElementPart('2UP0uV_9k1aBIkRCqwSGVB',#2,'Aço - Inoxidável',$,$,#9394,#1136,$), #2237=IfcBuildingElementPart('30znbSNvfTBsuV63rTWl2K',#2,'Aço - Inoxidável',$,$,#9437,#1139,$), #2240=IfcBuildingElementPart('0M8xD5Irrc6XzQYPo0BxJi',#2,'Aço - Inoxidável',$,$,#9480,#1142,$), #2241=IfcBuildingElementPart('2eDM9HG9NxsUEu4y4Qz6Wk',#2,'Aço - Inoxidável',$,$,#9485,#1144,$), #2244=IfcBuildingElementPart('2x28FRUDbgpRNReQUgGSVg',#2,'Aço - Inoxidável',$,$,#9528,#1148,$), #2245=IfcBuildingElementPart('1MjkiroPiLn8Y4VSsXn5jz',#2,'Aço - Inoxidável',$,$,#9534,#1149,$), #2252=IfcBuildingElementPart('293BDzHWvLlkpgKLUiioTl',#2,'Aço - Inoxidável',$,$,#9653,#1154,$), #2255=IfcBuildingElementPart('1KTp2LuBI$xy6KDZf9XQuh',#2,'Aço - Inoxidável',$,$,#9696,#1157,$), #2258=IfcBuildingElementPart('0IzP2TUrRNMQGGPjbR$CJE',#2,'Aço - Inoxidável',$,$,#9739,#1160,$), #2269=IfcBuildingElementPart('1v$BZ6BX_fZmCppx6GmQhC',#2,'Aço - Inoxidável',$,$,#11374,#1161,$), #2272=IfcBuildingElementPart('1RI4k$ag0Nt2aZkAY7gl6h',#2,'Aço - Inoxidável',$,$,#11777,#1171,$), #2293=IfcBuildingElementPart('2LPi7zdL89LFY5oMODxlcd',#2,'Ferro',$,$,#12522,#1182,$), #2296=IfcBuildingElementPart('1QMxE7fByU_Z8akEfJ0wku',#2,'Aço - Inoxidável',$,$,#12565,#1184,$), #2299=IfcBuildingElementPart('2F08XYbbx8nT4OoyYiEOML',#2,'Aço - Inoxidável',$,$,#12608,#1185,$), #2302=IfcBuildingElementPart('1cYehABvC9O4JqgOVjyPVp',#2,'Aço - Inoxidável',$,$,#12651,#1190,$), #2307=IfcBuildingElementPart('18BOnhr6KEb1GAiQv8EKLm',#2,'Aço - Inoxidável',$,$,#12732,#1193,$), #2316=IfcBuildingElementPart('2idduK0ADFZ28y2ee7UpSA',#2,'Aço - Inoxidável',$,$,#12861,#1202,$), #2313=IfcBuildingElementPart('2Ew8gkYlbKzJOx_m8s2Vei',#2,'Aço - Inoxidável',$,$,#12818,#1199,$), #2310=IfcBuildingElementPart('24f0qIuQxe4qI8DGF3SxRf',#2,'Aço - Inoxidável',$,$,#12775,#1196,$), #2317=IfcBuildingElementPart('2qxSXZrYxixh3AU9Rd3UHD',#2,'Aço - Inoxidável',$,$,#12866,#1188,$), #2322=IfcBuildingElementPart('1h9MYlORdqTsz99HPWM$PM',#2,'Aço - Inoxidável',$,$,#12947,#1205,$), #2323=IfcBuildingElementPart('0WFDP0ROLbpFdg6mac2ZDO',#2,'Aço - Inoxidável',$,$,#12952,#1208,$), #2329=IfcBuildingElementPart('0Fs69hOnOn4a9sz7TLeBzV',#2,'Aço - Inoxidável',$,$,#13107,#1212,$), #2330=IfcBuildingElementPart('0h$Jeq_Sc_90mt3jj_RGt8',#2,'Aço - Inoxidável',$,$,#13112,#1217,$), #2334=IfcBuildingElementPart('16fTjKdwAz2FGP3ZVeUVa1',#2,'Aço - Inoxidável',$,$,#13155,#1221,$), #2339=IfcBuildingElementPart('3rp2ODTuaLArDa4HMEqFsM',#2,'Aço - Inoxidável',$,$,#13236,#1225,$), #2340=IfcBuildingElementPart('3I2dZlm6bMdYqMNkbGTwV_',#2,'Aço - Inoxidável',$,$,#13241,#1220,$), #2345=IfcBuildingElementPart('2srEImtCVOJnS0kVBm3h3s',#2,'Aço - Inoxidável',$,$,#13322,#1231,$), #2346=IfcBuildingElementPart('1BsvNiYmNVdpLXZ_JbFd6e',#2,'Aço - Inoxidável',$,$,#13327,#1228,$), #2347=IfcBuildingElementPart('2q0BepXckn97fMY_my1K6K',#2,'Aço - Inoxidável',$,$,#13332,#1233,$), #2350=IfcBuildingElementPart('2pVWLXygZ4OjJRZv2N_l82',#2,'Aço - Inoxidável',$,$,#13375,#1236,$), #2353=IfcBuildingElementPart('2odyMG$JWz5PYziOrKUEGb',#2,'Aço - Inoxidável',$,$,#13454,#1239,$), #2356=IfcBuildingElementPart('0JXn_m3jhlQVtYhmnbomXe',#2,'Aço - Inoxidável',$,$,#13497,#1244,$), #2359=IfcBuildingElementPart('2M4rvrGbjXvPq8pwlikis4',#2,'Aço - Inoxidável',$,$,#13540,#1247,$), #2362=IfcBuildingElementPart('30McEDKa_qXlFQpHcinthN',#2,'Aço - Inoxidável',$,$,#13583,#1250,$), #2363=IfcBuildingElementPart('2Qx8ACWDDXT6V7I0WAfa1d',#2,'Aço - Inoxidável',$,$,#13588,#1251,$), #2368=IfcBuildingElementPart('1xzJwQAO7FBGzCsYAQVuEB',#2,'Aço - Inoxidável',$,$,#13669,#1255,$), #2371=IfcBuildingElementPart('1FqtpNkbBZW1C69OsZuNvh',#2,'Aço - Inoxidável',$,$,#13712,#1257,$), #2374=IfcBuildingElementPart('39ArW8a2HKYTbNZ6GixGja',#2,'Aço - Inoxidável',$,$,#13755,#1260,$), #2377=IfcBuildingElementPart('1ZuUE7aeCG76TVaGkao3mT',#2,'Aço - Inoxidável',$,$,#13834,#1263,$), #2380=IfcBuildingElementPart('1K5Fujw8H10xlVLbLau3Qp',#2,'Aço - Inoxidável',$,$,#13877,#1265,$), #2383=IfcBuildingElementPart('1a$Fc5TR2btKmglGJYqf6J',#2,'Aço - Inoxidável',$,$,#13920,#1267,$), #2388=IfcBuildingElementPart('1dWcboZ6qcq04OCz80LkmB',#2,'Aço - Inoxidável',$,$,#14001,#1273,$), #2389=IfcBuildingElementPart('2Ctoc9BFyptEE7cm0qBhrd',#2,'Aço - Inoxidável',$,$,#14006,#1276,$), #2390=IfcBuildingElementPart('1s$ADzSYQsVaZcK0aMhz1x',#2,'Aço - Inoxidável',$,$,#14011,#1278,$), #2395=IfcBuildingElementPart('2hJ3Ktou$hmIOGaz3e9Skg',#2,'Aço - Inoxidável',$,$,#14092,#1282,$), #2400=IfcBuildingElementPart('3yUapKLfpuR2b6M5WYiQTq',#2,'Aço - Inoxidável',$,$,#14173,#1285,$), #2401=IfcBuildingElementPart('1YXPzTucUJVtJYTx2NOVXV',#2,'Aço - Inoxidável',$,$,#14178,#1287,$), #2404=IfcBuildingElementPart('3E9Eijaq6tFA8V749EoXfc',#2,'Aço - Inoxidável',$,$,#14221,#1289,$), #2407=IfcSlab('34BfxNLUfEsv_h1EIWm8ze',#2,'L01',$,$,#14232,#1291,'C42E9ED7-55EA-4EDB-9FAB-04E4A0C08F68',.FLOOR.), #2413=IfcBuildingElementPart('0ze4cDztEF5mDP3dJY17C2',#2,'GENÉRICO - PRÉ-FABRICADO',$,$,#14269,#1299,$), #2415=IfcBuildingElementPart('1eCRysjXS9P5yME2altzGI',#2,'GENÉRICO - COBERTURA',$,$,#14276,#1297,$), #1980=IfcWindow('3tkhDyQbv1PfwE9WLxykAQ',#2,'J04',$,$,#5452,#908,'F7BAB37C-6A5E-4166-9E8E-26057BF2E29A',900.,900.), #14336=IfcStair('1amnBCwBjEtOCdHI1c6EH6',#2,'Escada - 002',$,$,#14305,$,'64C312CC-E8BB-4EDD-8327-45206618E446',.NOTDEFINED.), #16982=IfcStair('2SHHwPuZ90wfkR2PwFyY_s',#2,'Escada - 002',$,$,#14308,$,'9C451E99-E232-40EA-9B9B-099E8FF22FB6',.NOTDEFINED.), #18658=IfcRailing('3dQUjfUIn8EPJWSoHy9flI',#2,'Guarda-Corpo - 001',$,$,#14320,$,'E769EB69-792C-4839-94E0-73247C269BD2',.NOTDEFINED.), #18659=IfcRailing('2bhRpo6Kn31gaqyBB97Gi8',#2,'Guarda-Corpo - 002',$,$,#14323,$,'A5ADBCF2-194C-4306-A934-F0B2C91D0B08',.NOTDEFINED.), #26083=IfcRoof('3uTqQYMWr5FQqIVX6Uo9D3',#2,'Cobert - 001',$,$,#14311,$,'F87746A2-5A0D-453D-AD12-7E119EC89343',.NOTDEFINED.)]\n"
     ]
    }
   ],
   "source": [
    "products = model.by_type(\"IfcBuildingElement\")\n",
    "print (products)"
   ]
  },
  {
   "cell_type": "markdown",
   "metadata": {},
   "source": [
    "just returns"
   ]
  },
  {
   "cell_type": "markdown",
   "metadata": {},
   "source": [
    "```[\n",
    "#45=IfcWallStandardCase('3vB2YO$MX4xv5uCqZZG05x',#2,'Wall xyz','Description of Wall',$,#46,#51,$),\n",
    "#124=IfcDoor('0LV8Pid0X3IA3jJLVDPidY',#2,'A common door','Description of a standard door',$,#125,#130,$,1.400,0.7)\n",
    "]\n",
    "```\n",
    "\n",
    "since the opening is not a subclass of `IfcBuildingElement`(http://www.buildingsmart-tech.org/ifc/IFC2x4/alpha/html/ifcproductextension/lexical/ifcbuildingelement.htm)."
   ]
  },
  {
   "cell_type": "markdown",
   "metadata": {},
   "source": [
    "Note:\n",
    "If this behavior is undesired, and you just want objects of exactly that type without its subclasess can easily filter the type of by using the `is_a()` function like so"
   ]
  },
  {
   "cell_type": "code",
   "execution_count": 9,
   "metadata": {},
   "outputs": [
    {
     "name": "stdout",
     "output_type": "stream",
     "text": [
      "[#1343=IfcWall('3MUZ3BWyHEoeAaCOj$7KJB',#2,'Parede-001',$,$,#2499,#466,'D67A30CB-83C4-4ECA-82A4-318B7F1D44CB'), #1485=IfcWall('3DaGCq4J14QudK9deNIzJr',#2,'Parede-002',$,$,#2940,#545,'CD910334-1130-446B-89D4-267A174BD4F5'), #1554=IfcWall('1UkoAhCmb5f9tD_rG2jzCd',#2,'Parede-003',$,$,#3143,#584,'5EBB22AB-3309-45A4-9DCD-FB5402B7D327'), #1647=IfcWall('0x8wIQd$90HPBzF9TBk0bm',#2,'Parede-004',$,$,#3624,#638,'3B23A49A-9FF2-4045-92FD-3C974BB80970'), #1766=IfcWall('2idldwBz9D08rQz5KVheRs',#2,'Parede-003',$,$,#4041,#754,'AC9EF9FA-2FD2-4D00-8D5A-F4551FAE86F6'), #1771=IfcWall('2vFcMxImDFNfjXXraifyoc',#2,'Parede-004',$,$,#4037,#758,'B93E65BB-4B03-4F5E-9B61-87592CA7CCA6'), #1877=IfcWall('1tIoQfwv9FWP0u$20tl_Xl',#2,'Parede-001',$,$,#5113,#844,'774B26A9-EB92-4F81-9038-FC2037BFE86F'), #1968=IfcWall('2z$Eaax4X4jfQp_es9OytO',#2,'Parede-002',$,$,#5367,#891,'BDFCE924-EC48-44B6-96B3-FA8D8963CDD8'), #1969=IfcWall('0NiM7ma093RAX2yZq49TFa',#2,'Parede-003',$,$,#5380,#898,'17B161F0-9002-436C-A842-F23D0425D3E4'), #1984=IfcWall('26XqweAE50MxXwIWUV6VM0',#2,'Parede-004',$,$,#5467,#910,'86874EA8-28E1-405B-B87A-4A079F19F580'), #1992=IfcWall('3Kj29aQ3HFuerDeatywd4X',#2,'Parede-003',$,$,#5533,#919,'D4B42264-6834-4FE2-8D4D-A24DFCEA7121'), #2098=IfcWall('3rNhIysnbFD8uQ81W1J3kI',#2,'Parede-003',$,$,#6081,#1024,'F55EB4BC-DB19-4F34-8E1A-2018014C3B92'), #2105=IfcWall('2dZRjQ5az6$hRX$zPL7MCw',#2,'Parede-003',$,$,#6157,#1032,'A78DBB5A-164F-46FE-B6E1-FFD6551D633A'), #2148=IfcWall('37$ihMXFf5rQHWv57wrZ9h',#2,'Parede-001',$,$,#6826,#1059,'C7FECAD6-84FA-45D5-A460-E451FAD6326B'), #2151=IfcWall('2Arm5nqNnErBTmnHrGRinc',#2,'Parede-002',$,$,#6845,#1062,'8AD70171-D17C-4ED4-B770-C51D506ECC66'), #2154=IfcWall('15mGL5Wxj809e8kAZjQZnh',#2,'Parede-003',$,$,#6863,#1065,'45C10545-83BB-4800-9A08-B8A8ED6A3C6B'), #2158=IfcWall('1llGztpG1Fsf18wkt0NLlV',#2,'Parede-004',$,$,#6896,#1069,'6FBD0F77-CD00-4FDA-9048-EAEDC05D5BDF')]\n"
     ]
    }
   ],
   "source": [
    "products = model.by_type(\"IfcBuildingElement\")\n",
    "walls = []\n",
    "for product in products:\n",
    "    if product.is_a(\"IfcWall\"):\n",
    "        walls.append(product)\n",
    "print(walls)"
   ]
  },
  {
   "cell_type": "markdown",
   "metadata": {},
   "source": [
    "The `for` ... `in` part is referred to as a loop. This structure will be used extensively, so please refer to [Python tutorial](https://docs.python.org/3/tutorial/controlflow.html#for-statements) to get the hang of it."
   ]
  },
  {
   "cell_type": "markdown",
   "metadata": {},
   "source": [
    "## The `by_id()` function\n",
    "lets you access object by their SPFF `#` id like so:"
   ]
  },
  {
   "cell_type": "code",
   "execution_count": 10,
   "metadata": {},
   "outputs": [
    {
     "name": "stdout",
     "output_type": "stream",
     "text": [
      "#53037=IfcCartesianPoint((3289.666571567617,1.96849492933282,1005.))\n"
     ]
    }
   ],
   "source": [
    "print (model.by_id(53037))\n"
   ]
  },
  {
   "cell_type": "markdown",
   "metadata": {},
   "source": [
    "## The `by_guid()` function\n",
    "lets you access objects in the model by guid, e.g."
   ]
  },
  {
   "cell_type": "markdown",
   "metadata": {},
   "source": [
    "suppose we have the GUID of the project (example above)"
   ]
  },
  {
   "cell_type": "code",
   "execution_count": 12,
   "metadata": {},
   "outputs": [
    {
     "name": "stdout",
     "output_type": "stream",
     "text": [
      "#1969=IfcWall('0NiM7ma093RAX2yZq49TFa',#2,'Parede-003',$,$,#5380,#898,'17B161F0-9002-436C-A842-F23D0425D3E4')\n"
     ]
    }
   ],
   "source": [
    "ec_dano = model.by_guid('0NiM7ma093RAX2yZq49TFa')\n",
    "print (ec_dano)"
   ]
  },
  {
   "cell_type": "code",
   "execution_count": null,
   "metadata": {},
   "outputs": [],
   "source": []
  }
 ],
 "metadata": {
  "kernelspec": {
   "display_name": ".venv",
   "language": "python",
   "name": "python3"
  },
  "language_info": {
   "codemirror_mode": {
    "name": "ipython",
    "version": 3
   },
   "file_extension": ".py",
   "mimetype": "text/x-python",
   "name": "python",
   "nbconvert_exporter": "python",
   "pygments_lexer": "ipython3",
   "version": "3.11.7"
  }
 },
 "nbformat": 4,
 "nbformat_minor": 4
}
