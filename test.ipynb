{
 "cells": [
  {
   "cell_type": "code",
   "execution_count": 8,
   "metadata": {},
   "outputs": [],
   "source": [
    "from pythreejs import *\n",
    "import numpy as np\n",
    "from IPython.display import display\n",
    "from ipywidgets import HTML, Text, Output, VBox, IntSlider\n",
    "from traitlets import link, dlink"
   ]
  },
  {
   "cell_type": "code",
   "execution_count": 9,
   "metadata": {},
   "outputs": [
    {
     "data": {
      "application/vnd.jupyter.widget-view+json": {
       "model_id": "pythree_example_model_006",
       "version_major": 2,
       "version_minor": 0
      },
      "text/plain": [
       "IntSlider(value=100)"
      ]
     },
     "execution_count": 9,
     "metadata": {},
     "output_type": "execute_result"
    }
   ],
   "source": [
    "IntSlider(200)"
   ]
  },
  {
   "cell_type": "code",
   "execution_count": 10,
   "metadata": {},
   "outputs": [],
   "source": [
    "from pythreejs import *\n",
    "from IPython.display import display\n",
    "from math import pi"
   ]
  },
  {
   "cell_type": "code",
   "execution_count": 11,
   "metadata": {},
   "outputs": [],
   "source": [
    "# Reduce repo churn for examples with embedded state:\n",
    "from pythreejs._example_helper import use_example_model_ids\n",
    "use_example_model_ids()"
   ]
  },
  {
   "cell_type": "code",
   "execution_count": 12,
   "metadata": {},
   "outputs": [],
   "source": [
    "checker_tex = ImageTexture(imageUri='img/checkerboard.png')\n",
    "earth_tex = ImageTexture(imageUri='img/earth.jpg')"
   ]
  },
  {
   "cell_type": "code",
   "execution_count": 13,
   "metadata": {},
   "outputs": [
    {
     "data": {
      "application/vnd.jupyter.widget-view+json": {
       "model_id": "pythree_example_model_011",
       "version_major": 2,
       "version_minor": 0
      },
      "text/plain": [
       "ImageTexture(imageUri='img/earth.jpg', offset=(0.0, 0.0), repeat=(1.0, 1.0))"
      ]
     },
     "execution_count": 13,
     "metadata": {},
     "output_type": "execute_result"
    }
   ],
   "source": [
    "earth_tex"
   ]
  },
  {
   "cell_type": "code",
   "execution_count": 17,
   "metadata": {},
   "outputs": [],
   "source": [
    "#\n",
    "# Create checkerboard pattern\n",
    "#\n",
    "\n",
    "# tex dims need to be power of two.\n",
    "arr_w = 16\n",
    "arr_h = 8\n",
    "\n",
    "import numpy as np\n",
    "\n",
    "def gen_checkers(width, height, n_checkers_x, n_checkers_y):\n",
    "    array = np.ones((width, height, 3), dtype='float32')\n",
    "\n",
    "    # width in texels of each checker\n",
    "    checker_w = width / n_checkers_x\n",
    "    checker_h = height / n_checkers_y\n",
    "\n",
    "\n",
    "    for y in range(height):\n",
    "        for x in range(width):\n",
    "            color_key = int(x / checker_w) + int(y / checker_h)\n",
    "            if color_key % 2 == 0:\n",
    "                array[x, y, :] = [ 0, 0, 0 ]\n",
    "            else:\n",
    "                array[x, y, :] = [ 1, 1, 1 ]\n",
    "    # We need to flip x/y since threejs/webgl insists on column-major data for DataTexture\n",
    "    return np.swapaxes(array, 0, 1)\n",
    "\n",
    "\n",
    "data_tex = DataTexture(\n",
    "    data=gen_checkers(arr_w, arr_h, 4, 2),\n",
    "    format=\"RGBFormat\",\n",
    "    type=\"FloatType\",\n",
    ")"
   ]
  },
  {
   "cell_type": "code",
   "execution_count": 15,
   "metadata": {},
   "outputs": [
    {
     "data": {
      "application/vnd.jupyter.widget-view+json": {
       "model_id": "pythree_example_model_015",
       "version_major": 2,
       "version_minor": 0
      },
      "text/plain": [
       "DataTexture(data=array([[[0., 0., 0.],\n",
       "        [0., 0., 0.],\n",
       "        [0., 0., 0.],\n",
       "        [0., 0., 0.],\n",
       "     …"
      ]
     },
     "execution_count": 15,
     "metadata": {},
     "output_type": "execute_result"
    }
   ],
   "source": [
    "data_tex"
   ]
  },
  {
   "cell_type": "code",
   "execution_count": 16,
   "metadata": {},
   "outputs": [],
   "source": [
    "data_tex.data = gen_checkers(arr_w, arr_h, 8, 2)"
   ]
  }
 ],
 "metadata": {
  "kernelspec": {
   "display_name": ".venv",
   "language": "python",
   "name": "python3"
  },
  "language_info": {
   "codemirror_mode": {
    "name": "ipython",
    "version": 3
   },
   "file_extension": ".py",
   "mimetype": "text/x-python",
   "name": "python",
   "nbconvert_exporter": "python",
   "pygments_lexer": "ipython3",
   "version": "3.11.7"
  }
 },
 "nbformat": 4,
 "nbformat_minor": 2
}
