{
 "cells": [
  {
   "cell_type": "markdown",
   "metadata": {},
   "source": [
    "## Displaying IFC documentation right in your notebook\n",
    "The helper class `utils.IfcHelp` allows you to quickly pull the official IFC docs intor your browser. Both versions 2x3 and  4 are supported through their respective `IfcHelp3(Enitity)` and `IfcHelp4(Enitity)` calls."
   ]
  },
  {
   "cell_type": "code",
   "execution_count": 25,
   "metadata": {},
   "outputs": [
    {
     "data": {
      "text/html": [
       "\n",
       "        <iframe\n",
       "            width=\"100%\"\n",
       "            height=\"500px\"\n",
       "            src=\"None\"\n",
       "            frameborder=\"0\"\n",
       "            allowfullscreen\n",
       "            \n",
       "        ></iframe>\n",
       "        "
      ],
      "text/plain": [
       "<IPython.lib.display.IFrame at 0x227901b9250>"
      ]
     },
     "execution_count": 25,
     "metadata": {},
     "output_type": "execute_result"
    }
   ],
   "source": [
    "import utils.IfcHelp as IfcHelp\n",
    "\n",
    "IfcHelp.getHelp4(\"IfcElementCondition\")"
   ]
  },
  {
   "cell_type": "code",
   "execution_count": 6,
   "metadata": {},
   "outputs": [],
   "source": [
    "import ifcopenshell"
   ]
  },
  {
   "cell_type": "code",
   "execution_count": 7,
   "metadata": {},
   "outputs": [],
   "source": [
    "m = ifcopenshell.open(\"data/teste_casa_ifc.ifc\")\n",
    "#m = ifcopenshell.open(\"../data/231110AC-11-Smiley-West-04-07-2007.ifc\")"
   ]
  },
  {
   "cell_type": "code",
   "execution_count": 10,
   "metadata": {},
   "outputs": [],
   "source": [
    "rooms = m.by_type(\"IfcDoor\")"
   ]
  },
  {
   "cell_type": "code",
   "execution_count": 13,
   "metadata": {},
   "outputs": [
    {
     "data": {
      "text/plain": [
       "[#1482=IfcDoor('3jXQuekdz7WfIyZnq20xWe',#2,'P01',$,$,#2913,#542,'ED85AE28-BA7F-4782-94BC-8F1D0203B828',2100.,2470.11),\n",
       " #1808=IfcDoor('0iV8B6IvXC9uSA5RSd7qgh',#2,'P02',$,$,#4786,#780,'2C7C82C6-4B98-4C27-870A-15B7271F4AAB',2100.,900.),\n",
       " #2102=IfcDoor('30vmI1aAD1JgW4EK2aGUrq',#2,'P04',$,$,#6091,#1029,'C0E70481-90A3-414E-A804-3940A441ED74',2100.,900.),\n",
       " #2155=IfcDoor('2Z8V5PDFf7sgoXO0O664Uo',#2,'P03',$,$,#6875,#1066,'A321F159-34FA-47DA-ACA1-6006061847B2',2100.,900.)]"
      ]
     },
     "execution_count": 13,
     "metadata": {},
     "output_type": "execute_result"
    }
   ],
   "source": [
    "len(rooms)\n",
    "rooms"
   ]
  },
  {
   "cell_type": "code",
   "execution_count": 14,
   "metadata": {},
   "outputs": [],
   "source": [
    "r = rooms[0]"
   ]
  },
  {
   "cell_type": "code",
   "execution_count": 15,
   "metadata": {},
   "outputs": [
    {
     "data": {
      "text/plain": [
       "#1482=IfcDoor('3jXQuekdz7WfIyZnq20xWe',#2,'P01',$,$,#2913,#542,'ED85AE28-BA7F-4782-94BC-8F1D0203B828',2100.,2470.11)"
      ]
     },
     "execution_count": 15,
     "metadata": {},
     "output_type": "execute_result"
    }
   ],
   "source": [
    "r"
   ]
  },
  {
   "cell_type": "code",
   "execution_count": 16,
   "metadata": {},
   "outputs": [
    {
     "data": {
      "text/plain": [
       "{#2914=IfcRelAssociatesClassification('1Y9SiyXBsgS2jdunxdfzcw',#2,'Classificação Archicad v 2.0',$,(#1482,#1808,#2102,#2155),#14763),\n",
       " #2481=IfcRelContainedInSpatialStructure('3IgAYlvIMSjWan7CVfGQ5t',#2,$,$,(#1338,#1343,#1429,#1482,#1485,#1552,#1554,#1624,#1645,#1647,#14336,#1766,#1771,#1808,#1815,#1824,#1847,#1846,#1839,#1842,#1845,#1850,#1851,#1855,#1854,#1858,#1867,#1869,#1868,#1872,#1878),#14294),\n",
       " #2926=IfcRelDefinesByProperties('09kq$mEjbJsAGQW9wirTiT',#2,$,$,(#1482),#14772),\n",
       " #2927=IfcRelDefinesByProperties('0D3gJcjBZSVIuw2V7ofgl8',#2,$,$,(#1482),#14773),\n",
       " #2928=IfcRelDefinesByProperties('0ESBk5s1s$yKdhT1UzvCPu',#2,$,$,(#1482),#14774),\n",
       " #2916=IfcRelDefinesByProperties('0g0_JmARoW9jrhJw$AOKX6',#2,$,$,(#1482),#14762),\n",
       " #2921=IfcRelDefinesByProperties('15GKPAtq7JqopSr2N$vljN',#2,$,$,(#1482),#14769),\n",
       " #2917=IfcRelDefinesByProperties('1GTMlAuunfCpLvDnSt93TS',#2,$,$,(#1482),#14764),\n",
       " #2922=IfcRelDefinesByProperties('1N9CmqSq04fKxylohE$Q6L',#2,$,$,(#1482),#14768),\n",
       " #2924=IfcRelDefinesByProperties('1xxq2QlHFM_dnGyzFb4O58',#2,$,$,(#1482),#14770),\n",
       " #2920=IfcRelDefinesByProperties('2EDD_aRKo1BlP7Bbv42L8A',#2,$,$,(#1482),#14797),\n",
       " #2923=IfcRelDefinesByProperties('2JQTTHvRzEn4LIEvO92KDB',#2,$,$,(#1482),#14781),\n",
       " #2918=IfcRelDefinesByProperties('2OHrMblyhMYfxxBd2O7Om3',#2,$,$,(#1482),#14765),\n",
       " #2919=IfcRelDefinesByProperties('2glRJA3ulD39TulR11w9Z5',#2,$,$,(#1482),#14767),\n",
       " #2915=IfcRelDefinesByProperties('2u50uaoQ0_CHbnv$URyUwi',#2,$,$,(#1482),#14761),\n",
       " #2925=IfcRelDefinesByProperties('3qNMLp2SThyc1i9H8Re$QI',#2,$,$,(#1482),#14771),\n",
       " #2929=IfcRelDefinesByType('34UAS3$nfKuRvoGpNBcKWS',#2,$,$,(#1482),#14775),\n",
       " #2549=IfcRelFillsElement('2WrYA$cnNYAPSIxJJYWIZH',#2,$,$,#1348,#1482)}"
      ]
     },
     "execution_count": 16,
     "metadata": {},
     "output_type": "execute_result"
    }
   ],
   "source": [
    "m.get_inverse(r)"
   ]
  },
  {
   "cell_type": "code",
   "execution_count": 17,
   "metadata": {},
   "outputs": [
    {
     "data": {
      "text/plain": [
       "#14764=IfcPropertySet('3y_SbnSJMajOgZsGsDh6DJ',#2,'Pset_ManufacturerOccurrence',$,(#26667,#26668))"
      ]
     },
     "execution_count": 17,
     "metadata": {},
     "output_type": "execute_result"
    }
   ],
   "source": [
    "r.IsDefinedBy[1].RelatingPropertyDefinition"
   ]
  },
  {
   "cell_type": "code",
   "execution_count": 24,
   "metadata": {},
   "outputs": [
    {
     "data": {
      "text/plain": [
       "[#1482=IfcDoor('3jXQuekdz7WfIyZnq20xWe',#2,'P01',$,$,#2913,#542,'ED85AE28-BA7F-4782-94BC-8F1D0203B828',2100.,2470.11),\n",
       " #2=IfcOwnerHistory(#6,#7,$,.NOCHANGE.,$,$,$,1722508535),\n",
       " #2913=IfcLocalPlacement(#2541,#14760),\n",
       " #542=IfcProductDefinitionShape($,$,(#43))]"
      ]
     },
     "execution_count": 24,
     "metadata": {},
     "output_type": "execute_result"
    }
   ],
   "source": [
    "m.traverse(r, max_levels=1)"
   ]
  },
  {
   "cell_type": "markdown",
   "metadata": {},
   "source": [
    "## Visualizing the model graph"
   ]
  },
  {
   "cell_type": "code",
   "execution_count": 19,
   "metadata": {},
   "outputs": [
    {
     "data": {
      "text/plain": [
       "{'id': 1482,\n",
       " 'type': 'IfcDoor',\n",
       " 'GlobalId': '3jXQuekdz7WfIyZnq20xWe',\n",
       " 'OwnerHistory': #2=IfcOwnerHistory(#6,#7,$,.NOCHANGE.,$,$,$,1722508535),\n",
       " 'Name': 'P01',\n",
       " 'Description': None,\n",
       " 'ObjectType': None,\n",
       " 'ObjectPlacement': #2913=IfcLocalPlacement(#2541,#14760),\n",
       " 'Representation': #542=IfcProductDefinitionShape($,$,(#43)),\n",
       " 'Tag': 'ED85AE28-BA7F-4782-94BC-8F1D0203B828',\n",
       " 'OverallHeight': 2100.0,\n",
       " 'OverallWidth': 2470.11}"
      ]
     },
     "execution_count": 19,
     "metadata": {},
     "output_type": "execute_result"
    }
   ],
   "source": [
    "r.get_info()"
   ]
  },
  {
   "cell_type": "code",
   "execution_count": 20,
   "metadata": {},
   "outputs": [
    {
     "name": "stdout",
     "output_type": "stream",
     "text": [
      "[1482, 2, 6, 27, 28, 7, 29, 2913, 2541, 2499, 2455, 1333, 455, 1332, 2451, 2452, 2453, 2454, 14290, 14291, 14292, 14293, 26126, 26127, 26128, 14355, 26215, 26216, 26217, 14390, 26264, 26265, 26266, 14760, 26656, 26657, 26658, 542]\n",
      "[(1482, 2), (1482, 2913), (1482, 542), (2, 6), (2, 7), (6, 27), (6, 28), (7, 29), (2913, 2541), (2913, 14760), (2541, 2499), (2541, 14390), (2499, 2455), (2499, 14355), (2455, 1333), (2455, 14293), (1333, 455), (1333, 2454), (455, 1332), (1332, 2451), (1332, 2452), (1332, 2453), (2454, 14290), (2454, 14291), (2454, 14292), (14293, 26126), (14293, 26127), (14293, 26128), (14355, 26215), (14355, 26216), (14355, 26217), (14390, 26264), (14390, 26265), (14390, 26266), (14760, 26656), (14760, 26657), (14760, 26658)]\n"
     ]
    },
    {
     "data": {
      "image/svg+xml": [
       "<?xml version=\"1.0\" encoding=\"UTF-8\" standalone=\"no\"?>\n",
       "<!DOCTYPE svg PUBLIC \"-//W3C//DTD SVG 1.1//EN\"\n",
       " \"http://www.w3.org/Graphics/SVG/1.1/DTD/svg11.dtd\">\n",
       "<!-- Generated by graphviz version 12.0.0 (20240704.0754)\n",
       " -->\n",
       "<!-- Pages: 1 -->\n",
       "<svg width=\"1969pt\" height=\"635pt\"\n",
       " viewBox=\"0.00 0.00 1968.50 635.00\" xmlns=\"http://www.w3.org/2000/svg\" xmlns:xlink=\"http://www.w3.org/1999/xlink\">\n",
       "<g id=\"graph0\" class=\"graph\" transform=\"scale(1 1) rotate(0) translate(4 631)\">\n",
       "<polygon fill=\"white\" stroke=\"none\" points=\"-4,4 -4,-631 1964.5,-631 1964.5,4 -4,4\"/>\n",
       "<!-- 27 -->\n",
       "<g id=\"node1\" class=\"node\">\n",
       "<title>27</title>\n",
       "<polygon fill=\"none\" stroke=\"black\" points=\"874.5,-504.5 874.5,-626.5 987.25,-626.5 987.25,-504.5 874.5,-504.5\"/>\n",
       "<text text-anchor=\"middle\" x=\"930.88\" y=\"-614.9\" font-family=\"Arial\" font-size=\"8.00\">#27 </text>\n",
       "<text text-anchor=\"middle\" x=\"930.88\" y=\"-604.4\" font-family=\"Arial\" font-size=\"8.00\">(IfcPerson) </text>\n",
       "<text text-anchor=\"start\" x=\"882.5\" y=\"-584.9\" font-family=\"Arial\" font-size=\"8.00\">Id : None </text>\n",
       "<text text-anchor=\"start\" x=\"882.5\" y=\"-574.4\" font-family=\"Arial\" font-size=\"8.00\">FamilyName : Não definido </text>\n",
       "<text text-anchor=\"start\" x=\"882.5\" y=\"-563.9\" font-family=\"Arial\" font-size=\"8.00\">GivenName : None </text>\n",
       "<text text-anchor=\"start\" x=\"882.5\" y=\"-553.4\" font-family=\"Arial\" font-size=\"8.00\">MiddleNames : None </text>\n",
       "<text text-anchor=\"start\" x=\"882.5\" y=\"-542.9\" font-family=\"Arial\" font-size=\"8.00\">PrefixTitles : None </text>\n",
       "<text text-anchor=\"start\" x=\"882.5\" y=\"-532.4\" font-family=\"Arial\" font-size=\"8.00\">SuffixTitles : None </text>\n",
       "<text text-anchor=\"start\" x=\"882.5\" y=\"-521.9\" font-family=\"Arial\" font-size=\"8.00\">Roles : None </text>\n",
       "<text text-anchor=\"start\" x=\"882.5\" y=\"-511.4\" font-family=\"Arial\" font-size=\"8.00\">Addresses : None </text>\n",
       "</g>\n",
       "<!-- 6 -->\n",
       "<g id=\"node2\" class=\"node\">\n",
       "<title>6</title>\n",
       "<polygon fill=\"none\" stroke=\"black\" points=\"589.25,-416.25 589.25,-464.75 708.75,-464.75 708.75,-416.25 589.25,-416.25\"/>\n",
       "<text text-anchor=\"middle\" x=\"649\" y=\"-453.15\" font-family=\"Arial\" font-size=\"8.00\">#6 </text>\n",
       "<text text-anchor=\"middle\" x=\"649\" y=\"-442.65\" font-family=\"Arial\" font-size=\"8.00\">(IfcPersonAndOrganization) </text>\n",
       "<text text-anchor=\"start\" x=\"597.25\" y=\"-423.15\" font-family=\"Arial\" font-size=\"8.00\">Roles : None </text>\n",
       "</g>\n",
       "<!-- 6&#45;&gt;27 -->\n",
       "<g id=\"edge1\" class=\"edge\">\n",
       "<title>6&#45;&gt;27</title>\n",
       "<path fill=\"none\" stroke=\"black\" d=\"M705.29,-465.2C750.86,-485.55 815.6,-514.46 863.87,-536.02\"/>\n",
       "<polygon fill=\"black\" stroke=\"black\" points=\"862.28,-539.14 872.84,-540.02 865.13,-532.75 862.28,-539.14\"/>\n",
       "<text text-anchor=\"middle\" x=\"818.25\" y=\"-534.4\" font-family=\"Arial\" font-size=\"8.00\">ThePerson</text>\n",
       "</g>\n",
       "<!-- 28 -->\n",
       "<g id=\"node3\" class=\"node\">\n",
       "<title>28</title>\n",
       "<polygon fill=\"none\" stroke=\"black\" points=\"885.75,-395.25 885.75,-485.75 976,-485.75 976,-395.25 885.75,-395.25\"/>\n",
       "<text text-anchor=\"middle\" x=\"930.88\" y=\"-474.15\" font-family=\"Arial\" font-size=\"8.00\">#28 </text>\n",
       "<text text-anchor=\"middle\" x=\"930.88\" y=\"-463.65\" font-family=\"Arial\" font-size=\"8.00\">(IfcOrganization) </text>\n",
       "<text text-anchor=\"start\" x=\"893.75\" y=\"-444.15\" font-family=\"Arial\" font-size=\"8.00\">Id : None </text>\n",
       "<text text-anchor=\"start\" x=\"893.75\" y=\"-433.65\" font-family=\"Arial\" font-size=\"8.00\">Name : Não definido </text>\n",
       "<text text-anchor=\"start\" x=\"893.75\" y=\"-423.15\" font-family=\"Arial\" font-size=\"8.00\">Description : None </text>\n",
       "<text text-anchor=\"start\" x=\"893.75\" y=\"-412.65\" font-family=\"Arial\" font-size=\"8.00\">Roles : None </text>\n",
       "<text text-anchor=\"start\" x=\"893.75\" y=\"-402.15\" font-family=\"Arial\" font-size=\"8.00\">Addresses : None </text>\n",
       "</g>\n",
       "<!-- 6&#45;&gt;28 -->\n",
       "<g id=\"edge2\" class=\"edge\">\n",
       "<title>6&#45;&gt;28</title>\n",
       "<path fill=\"none\" stroke=\"black\" d=\"M709.01,-440.5C757.76,-440.5 826.46,-440.5 874.25,-440.5\"/>\n",
       "<polygon fill=\"black\" stroke=\"black\" points=\"874.11,-444 884.11,-440.5 874.11,-437 874.11,-444\"/>\n",
       "<text text-anchor=\"middle\" x=\"818.25\" y=\"-443.4\" font-family=\"Arial\" font-size=\"8.00\">TheOrganization</text>\n",
       "</g>\n",
       "<!-- 2 -->\n",
       "<g id=\"node4\" class=\"node\">\n",
       "<title>2</title>\n",
       "<polygon fill=\"none\" stroke=\"black\" points=\"298,-280 298,-381 431.75,-381 431.75,-280 298,-280\"/>\n",
       "<text text-anchor=\"middle\" x=\"364.88\" y=\"-369.4\" font-family=\"Arial\" font-size=\"8.00\">#2 </text>\n",
       "<text text-anchor=\"middle\" x=\"364.88\" y=\"-358.9\" font-family=\"Arial\" font-size=\"8.00\">(IfcOwnerHistory) </text>\n",
       "<text text-anchor=\"start\" x=\"306\" y=\"-339.4\" font-family=\"Arial\" font-size=\"8.00\">State : None </text>\n",
       "<text text-anchor=\"start\" x=\"306\" y=\"-328.9\" font-family=\"Arial\" font-size=\"8.00\">ChangeAction : NOCHANGE </text>\n",
       "<text text-anchor=\"start\" x=\"306\" y=\"-318.4\" font-family=\"Arial\" font-size=\"8.00\">LastModifiedDate : None </text>\n",
       "<text text-anchor=\"start\" x=\"306\" y=\"-307.9\" font-family=\"Arial\" font-size=\"8.00\">LastModifyingUser : None </text>\n",
       "<text text-anchor=\"start\" x=\"306\" y=\"-297.4\" font-family=\"Arial\" font-size=\"8.00\">LastModifyingApplication : None </text>\n",
       "<text text-anchor=\"start\" x=\"306\" y=\"-286.9\" font-family=\"Arial\" font-size=\"8.00\">CreationDate : 1722508535 </text>\n",
       "</g>\n",
       "<!-- 2&#45;&gt;6 -->\n",
       "<g id=\"edge3\" class=\"edge\">\n",
       "<title>2&#45;&gt;6</title>\n",
       "<path fill=\"none\" stroke=\"black\" d=\"M432.02,-356.29C476.05,-373.46 533.79,-395.97 578.49,-413.4\"/>\n",
       "<polygon fill=\"black\" stroke=\"black\" points=\"576.98,-416.57 587.57,-416.94 579.53,-410.05 576.98,-416.57\"/>\n",
       "<text text-anchor=\"middle\" x=\"483.88\" y=\"-391.4\" font-family=\"Arial\" font-size=\"8.00\">OwningUser</text>\n",
       "</g>\n",
       "<!-- 7 -->\n",
       "<g id=\"node6\" class=\"node\">\n",
       "<title>7</title>\n",
       "<polygon fill=\"none\" stroke=\"black\" points=\"536,-295.75 536,-365.25 762,-365.25 762,-295.75 536,-295.75\"/>\n",
       "<text text-anchor=\"middle\" x=\"649\" y=\"-353.65\" font-family=\"Arial\" font-size=\"8.00\">#7 </text>\n",
       "<text text-anchor=\"middle\" x=\"649\" y=\"-343.15\" font-family=\"Arial\" font-size=\"8.00\">(IfcApplication) </text>\n",
       "<text text-anchor=\"start\" x=\"544\" y=\"-323.65\" font-family=\"Arial\" font-size=\"8.00\">Version : 27.0.0 </text>\n",
       "<text text-anchor=\"start\" x=\"544\" y=\"-313.15\" font-family=\"Arial\" font-size=\"8.00\">ApplicationFullName : Archicad </text>\n",
       "<text text-anchor=\"start\" x=\"544\" y=\"-302.65\" font-family=\"Arial\" font-size=\"8.00\">ApplicationIdentifier : IFC add&#45;on version: 3001 BRA FULL </text>\n",
       "</g>\n",
       "<!-- 2&#45;&gt;7 -->\n",
       "<g id=\"edge5\" class=\"edge\">\n",
       "<title>2&#45;&gt;7</title>\n",
       "<path fill=\"none\" stroke=\"black\" d=\"M432.02,-330.5C459.63,-330.5 492.63,-330.5 524.43,-330.5\"/>\n",
       "<polygon fill=\"black\" stroke=\"black\" points=\"524.1,-334 534.1,-330.5 524.1,-327 524.1,-334\"/>\n",
       "<text text-anchor=\"middle\" x=\"483.88\" y=\"-333.4\" font-family=\"Arial\" font-size=\"8.00\">OwningApplication</text>\n",
       "</g>\n",
       "<!-- 29 -->\n",
       "<g id=\"node5\" class=\"node\">\n",
       "<title>29</title>\n",
       "<polygon fill=\"none\" stroke=\"black\" points=\"879,-285.25 879,-375.75 982.75,-375.75 982.75,-285.25 879,-285.25\"/>\n",
       "<text text-anchor=\"middle\" x=\"930.88\" y=\"-364.15\" font-family=\"Arial\" font-size=\"8.00\">#29 </text>\n",
       "<text text-anchor=\"middle\" x=\"930.88\" y=\"-353.65\" font-family=\"Arial\" font-size=\"8.00\">(IfcOrganization) </text>\n",
       "<text text-anchor=\"start\" x=\"887\" y=\"-334.15\" font-family=\"Arial\" font-size=\"8.00\">Id : GS </text>\n",
       "<text text-anchor=\"start\" x=\"887\" y=\"-323.65\" font-family=\"Arial\" font-size=\"8.00\">Name : Graphisoft </text>\n",
       "<text text-anchor=\"start\" x=\"887\" y=\"-313.15\" font-family=\"Arial\" font-size=\"8.00\">Description : Graphisoft </text>\n",
       "<text text-anchor=\"start\" x=\"887\" y=\"-302.65\" font-family=\"Arial\" font-size=\"8.00\">Roles : None </text>\n",
       "<text text-anchor=\"start\" x=\"887\" y=\"-292.15\" font-family=\"Arial\" font-size=\"8.00\">Addresses : None </text>\n",
       "</g>\n",
       "<!-- 7&#45;&gt;29 -->\n",
       "<g id=\"edge4\" class=\"edge\">\n",
       "<title>7&#45;&gt;29</title>\n",
       "<path fill=\"none\" stroke=\"black\" d=\"M762.22,-330.5C797.96,-330.5 836.21,-330.5 867.13,-330.5\"/>\n",
       "<polygon fill=\"black\" stroke=\"black\" points=\"867.09,-334 877.09,-330.5 867.09,-327 867.09,-334\"/>\n",
       "<text text-anchor=\"middle\" x=\"818.25\" y=\"-333.4\" font-family=\"Arial\" font-size=\"8.00\">ApplicationDeveloper</text>\n",
       "</g>\n",
       "<!-- 1482 -->\n",
       "<g id=\"node7\" class=\"node\">\n",
       "<title>1482</title>\n",
       "<polygon fill=\"none\" stroke=\"black\" points=\"0,-177.75 0,-289.25 202,-289.25 202,-177.75 0,-177.75\"/>\n",
       "<text text-anchor=\"middle\" x=\"101\" y=\"-277.65\" font-family=\"Arial\" font-size=\"8.00\">#1482 </text>\n",
       "<text text-anchor=\"middle\" x=\"101\" y=\"-267.15\" font-family=\"Arial\" font-size=\"8.00\">(IfcDoor) </text>\n",
       "<text text-anchor=\"start\" x=\"8\" y=\"-247.65\" font-family=\"Arial\" font-size=\"8.00\">GlobalId : 3jXQuekdz7WfIyZnq20xWe </text>\n",
       "<text text-anchor=\"start\" x=\"8\" y=\"-237.15\" font-family=\"Arial\" font-size=\"8.00\">Name : P01 </text>\n",
       "<text text-anchor=\"start\" x=\"8\" y=\"-226.65\" font-family=\"Arial\" font-size=\"8.00\">Description : None </text>\n",
       "<text text-anchor=\"start\" x=\"8\" y=\"-216.15\" font-family=\"Arial\" font-size=\"8.00\">ObjectType : None </text>\n",
       "<text text-anchor=\"start\" x=\"8\" y=\"-205.65\" font-family=\"Arial\" font-size=\"8.00\">Tag : ED85AE28&#45;BA7F&#45;4782&#45;94BC&#45;8F1D0203B828 </text>\n",
       "<text text-anchor=\"start\" x=\"8\" y=\"-195.15\" font-family=\"Arial\" font-size=\"8.00\">OverallHeight : 2100.0 </text>\n",
       "<text text-anchor=\"start\" x=\"8\" y=\"-184.65\" font-family=\"Arial\" font-size=\"8.00\">OverallWidth : 2470.11 </text>\n",
       "</g>\n",
       "<!-- 1482&#45;&gt;2 -->\n",
       "<g id=\"edge6\" class=\"edge\">\n",
       "<title>1482&#45;&gt;2</title>\n",
       "<path fill=\"none\" stroke=\"black\" d=\"M202.5,-270.73C230.52,-281.1 260.5,-292.21 286.93,-302\"/>\n",
       "<polygon fill=\"black\" stroke=\"black\" points=\"285.62,-305.25 296.21,-305.44 288.05,-298.68 285.62,-305.25\"/>\n",
       "<text text-anchor=\"middle\" x=\"250\" y=\"-301.4\" font-family=\"Arial\" font-size=\"8.00\">OwnerHistory</text>\n",
       "</g>\n",
       "<!-- 2913 -->\n",
       "<g id=\"node33\" class=\"node\">\n",
       "<title>2913</title>\n",
       "<polygon fill=\"none\" stroke=\"black\" points=\"320.12,-214.5 320.12,-252.5 409.62,-252.5 409.62,-214.5 320.12,-214.5\"/>\n",
       "<text text-anchor=\"middle\" x=\"364.88\" y=\"-240.9\" font-family=\"Arial\" font-size=\"8.00\">#2913 </text>\n",
       "<text text-anchor=\"middle\" x=\"364.88\" y=\"-230.4\" font-family=\"Arial\" font-size=\"8.00\">(IfcLocalPlacement) </text>\n",
       "</g>\n",
       "<!-- 1482&#45;&gt;2913 -->\n",
       "<g id=\"edge36\" class=\"edge\">\n",
       "<title>1482&#45;&gt;2913</title>\n",
       "<path fill=\"none\" stroke=\"black\" d=\"M202.5,-233.5C238.44,-233.5 277.62,-233.5 308.37,-233.5\"/>\n",
       "<polygon fill=\"black\" stroke=\"black\" points=\"308.21,-237 318.21,-233.5 308.21,-230 308.21,-237\"/>\n",
       "<text text-anchor=\"middle\" x=\"250\" y=\"-236.4\" font-family=\"Arial\" font-size=\"8.00\">ObjectPlacement</text>\n",
       "</g>\n",
       "<!-- 542 -->\n",
       "<g id=\"node38\" class=\"node\">\n",
       "<title>542</title>\n",
       "<polygon fill=\"none\" stroke=\"black\" points=\"306.25,-136 306.25,-195 423.5,-195 423.5,-136 306.25,-136\"/>\n",
       "<text text-anchor=\"middle\" x=\"364.88\" y=\"-183.4\" font-family=\"Arial\" font-size=\"8.00\">#542 </text>\n",
       "<text text-anchor=\"middle\" x=\"364.88\" y=\"-172.9\" font-family=\"Arial\" font-size=\"8.00\">(IfcProductDefinitionShape) </text>\n",
       "<text text-anchor=\"start\" x=\"314.25\" y=\"-153.4\" font-family=\"Arial\" font-size=\"8.00\">Name : None </text>\n",
       "<text text-anchor=\"start\" x=\"314.25\" y=\"-142.9\" font-family=\"Arial\" font-size=\"8.00\">Description : None </text>\n",
       "</g>\n",
       "<!-- 1482&#45;&gt;542 -->\n",
       "<g id=\"edge37\" class=\"edge\">\n",
       "<title>1482&#45;&gt;542</title>\n",
       "<path fill=\"none\" stroke=\"black\" d=\"M202.5,-207.4C233.44,-199.37 266.78,-190.71 295.09,-183.36\"/>\n",
       "<polygon fill=\"black\" stroke=\"black\" points=\"295.81,-186.79 304.61,-180.89 294.05,-180.02 295.81,-186.79\"/>\n",
       "<text text-anchor=\"middle\" x=\"250\" y=\"-204.4\" font-family=\"Arial\" font-size=\"8.00\">Representation</text>\n",
       "</g>\n",
       "<!-- 2451 -->\n",
       "<g id=\"node8\" class=\"node\">\n",
       "<title>2451</title>\n",
       "<polygon fill=\"none\" stroke=\"black\" points=\"1875.5,-561.5 1875.5,-599.5 1960.5,-599.5 1960.5,-561.5 1875.5,-561.5\"/>\n",
       "<text text-anchor=\"middle\" x=\"1918\" y=\"-587.9\" font-family=\"Arial\" font-size=\"8.00\">#2451 </text>\n",
       "<text text-anchor=\"middle\" x=\"1918\" y=\"-577.4\" font-family=\"Arial\" font-size=\"8.00\">(IfcCartesianPoint) </text>\n",
       "</g>\n",
       "<!-- 1332 -->\n",
       "<g id=\"node9\" class=\"node\">\n",
       "<title>1332</title>\n",
       "<polygon fill=\"none\" stroke=\"black\" points=\"1694.5,-504.5 1694.5,-542.5 1795.25,-542.5 1795.25,-504.5 1694.5,-504.5\"/>\n",
       "<text text-anchor=\"middle\" x=\"1744.88\" y=\"-530.9\" font-family=\"Arial\" font-size=\"8.00\">#1332 </text>\n",
       "<text text-anchor=\"middle\" x=\"1744.88\" y=\"-520.4\" font-family=\"Arial\" font-size=\"8.00\">(IfcAxis2Placement3D) </text>\n",
       "</g>\n",
       "<!-- 1332&#45;&gt;2451 -->\n",
       "<g id=\"edge7\" class=\"edge\">\n",
       "<title>1332&#45;&gt;2451</title>\n",
       "<path fill=\"none\" stroke=\"black\" d=\"M1795.37,-539.99C1816.99,-547.19 1842.37,-555.64 1864.33,-562.96\"/>\n",
       "<polygon fill=\"black\" stroke=\"black\" points=\"1863.11,-566.24 1873.7,-566.08 1865.32,-559.6 1863.11,-566.24\"/>\n",
       "<text text-anchor=\"middle\" x=\"1835.38\" y=\"-562.4\" font-family=\"Arial\" font-size=\"8.00\">Location</text>\n",
       "</g>\n",
       "<!-- 2452 -->\n",
       "<g id=\"node10\" class=\"node\">\n",
       "<title>2452</title>\n",
       "<polygon fill=\"none\" stroke=\"black\" points=\"1882,-504.5 1882,-542.5 1954,-542.5 1954,-504.5 1882,-504.5\"/>\n",
       "<text text-anchor=\"middle\" x=\"1918\" y=\"-530.9\" font-family=\"Arial\" font-size=\"8.00\">#2452 </text>\n",
       "<text text-anchor=\"middle\" x=\"1918\" y=\"-520.4\" font-family=\"Arial\" font-size=\"8.00\">(IfcDirection) </text>\n",
       "</g>\n",
       "<!-- 1332&#45;&gt;2452 -->\n",
       "<g id=\"edge8\" class=\"edge\">\n",
       "<title>1332&#45;&gt;2452</title>\n",
       "<path fill=\"none\" stroke=\"black\" d=\"M1795.37,-523.5C1819.02,-523.5 1847.16,-523.5 1870.41,-523.5\"/>\n",
       "<polygon fill=\"black\" stroke=\"black\" points=\"1870.22,-527 1880.22,-523.5 1870.22,-520 1870.22,-527\"/>\n",
       "<text text-anchor=\"middle\" x=\"1835.38\" y=\"-526.4\" font-family=\"Arial\" font-size=\"8.00\">Axis</text>\n",
       "</g>\n",
       "<!-- 2453 -->\n",
       "<g id=\"node11\" class=\"node\">\n",
       "<title>2453</title>\n",
       "<polygon fill=\"none\" stroke=\"black\" points=\"1882,-447.5 1882,-485.5 1954,-485.5 1954,-447.5 1882,-447.5\"/>\n",
       "<text text-anchor=\"middle\" x=\"1918\" y=\"-473.9\" font-family=\"Arial\" font-size=\"8.00\">#2453 </text>\n",
       "<text text-anchor=\"middle\" x=\"1918\" y=\"-463.4\" font-family=\"Arial\" font-size=\"8.00\">(IfcDirection) </text>\n",
       "</g>\n",
       "<!-- 1332&#45;&gt;2453 -->\n",
       "<g id=\"edge9\" class=\"edge\">\n",
       "<title>1332&#45;&gt;2453</title>\n",
       "<path fill=\"none\" stroke=\"black\" d=\"M1795.37,-507.01C1819.23,-499.07 1847.67,-489.59 1871.05,-481.81\"/>\n",
       "<polygon fill=\"black\" stroke=\"black\" points=\"1871.92,-485.2 1880.3,-478.72 1869.71,-478.56 1871.92,-485.2\"/>\n",
       "<text text-anchor=\"middle\" x=\"1835.38\" y=\"-502.4\" font-family=\"Arial\" font-size=\"8.00\">RefDirection</text>\n",
       "</g>\n",
       "<!-- 455 -->\n",
       "<g id=\"node12\" class=\"node\">\n",
       "<title>455</title>\n",
       "<polygon fill=\"none\" stroke=\"black\" points=\"1492.5,-481.25 1492.5,-529.75 1593.25,-529.75 1593.25,-481.25 1492.5,-481.25\"/>\n",
       "<text text-anchor=\"middle\" x=\"1542.88\" y=\"-518.15\" font-family=\"Arial\" font-size=\"8.00\">#455 </text>\n",
       "<text text-anchor=\"middle\" x=\"1542.88\" y=\"-507.65\" font-family=\"Arial\" font-size=\"8.00\">(IfcLocalPlacement) </text>\n",
       "<text text-anchor=\"start\" x=\"1500.5\" y=\"-488.15\" font-family=\"Arial\" font-size=\"8.00\">PlacementRelTo : None </text>\n",
       "</g>\n",
       "<!-- 455&#45;&gt;1332 -->\n",
       "<g id=\"edge10\" class=\"edge\">\n",
       "<title>455&#45;&gt;1332</title>\n",
       "<path fill=\"none\" stroke=\"black\" d=\"M1593.57,-509.97C1620.63,-512.41 1654.35,-515.44 1682.98,-518.02\"/>\n",
       "<polygon fill=\"black\" stroke=\"black\" points=\"1682.31,-521.47 1692.58,-518.88 1682.94,-514.5 1682.31,-521.47\"/>\n",
       "<text text-anchor=\"middle\" x=\"1643.88\" y=\"-519.4\" font-family=\"Arial\" font-size=\"8.00\">RelativePlacement</text>\n",
       "</g>\n",
       "<!-- 1333 -->\n",
       "<g id=\"node13\" class=\"node\">\n",
       "<title>1333</title>\n",
       "<polygon fill=\"none\" stroke=\"black\" points=\"1296.12,-398.5 1296.12,-436.5 1385.62,-436.5 1385.62,-398.5 1296.12,-398.5\"/>\n",
       "<text text-anchor=\"middle\" x=\"1340.88\" y=\"-424.9\" font-family=\"Arial\" font-size=\"8.00\">#1333 </text>\n",
       "<text text-anchor=\"middle\" x=\"1340.88\" y=\"-414.4\" font-family=\"Arial\" font-size=\"8.00\">(IfcLocalPlacement) </text>\n",
       "</g>\n",
       "<!-- 1333&#45;&gt;455 -->\n",
       "<g id=\"edge11\" class=\"edge\">\n",
       "<title>1333&#45;&gt;455</title>\n",
       "<path fill=\"none\" stroke=\"black\" d=\"M1385.77,-436.81C1413.97,-449.22 1450.98,-465.5 1481.88,-479.1\"/>\n",
       "<polygon fill=\"black\" stroke=\"black\" points=\"1480.16,-482.17 1490.72,-482.99 1482.98,-475.76 1480.16,-482.17\"/>\n",
       "<text text-anchor=\"middle\" x=\"1441.88\" y=\"-477.4\" font-family=\"Arial\" font-size=\"8.00\">PlacementRelTo</text>\n",
       "</g>\n",
       "<!-- 2454 -->\n",
       "<g id=\"node15\" class=\"node\">\n",
       "<title>2454</title>\n",
       "<polygon fill=\"none\" stroke=\"black\" points=\"1492.5,-398.5 1492.5,-436.5 1593.25,-436.5 1593.25,-398.5 1492.5,-398.5\"/>\n",
       "<text text-anchor=\"middle\" x=\"1542.88\" y=\"-424.9\" font-family=\"Arial\" font-size=\"8.00\">#2454 </text>\n",
       "<text text-anchor=\"middle\" x=\"1542.88\" y=\"-414.4\" font-family=\"Arial\" font-size=\"8.00\">(IfcAxis2Placement3D) </text>\n",
       "</g>\n",
       "<!-- 1333&#45;&gt;2454 -->\n",
       "<g id=\"edge15\" class=\"edge\">\n",
       "<title>1333&#45;&gt;2454</title>\n",
       "<path fill=\"none\" stroke=\"black\" d=\"M1385.77,-417.5C1413.6,-417.5 1450.01,-417.5 1480.67,-417.5\"/>\n",
       "<polygon fill=\"black\" stroke=\"black\" points=\"1480.59,-421 1490.59,-417.5 1480.59,-414 1480.59,-421\"/>\n",
       "<text text-anchor=\"middle\" x=\"1441.88\" y=\"-420.4\" font-family=\"Arial\" font-size=\"8.00\">RelativePlacement</text>\n",
       "</g>\n",
       "<!-- 14290 -->\n",
       "<g id=\"node14\" class=\"node\">\n",
       "<title>14290</title>\n",
       "<polygon fill=\"none\" stroke=\"black\" points=\"1702.38,-447.5 1702.38,-485.5 1787.38,-485.5 1787.38,-447.5 1702.38,-447.5\"/>\n",
       "<text text-anchor=\"middle\" x=\"1744.88\" y=\"-473.9\" font-family=\"Arial\" font-size=\"8.00\">#14290 </text>\n",
       "<text text-anchor=\"middle\" x=\"1744.88\" y=\"-463.4\" font-family=\"Arial\" font-size=\"8.00\">(IfcCartesianPoint) </text>\n",
       "</g>\n",
       "<!-- 2454&#45;&gt;14290 -->\n",
       "<g id=\"edge12\" class=\"edge\">\n",
       "<title>2454&#45;&gt;14290</title>\n",
       "<path fill=\"none\" stroke=\"black\" d=\"M1593.57,-429.68C1623.22,-436.94 1660.84,-446.16 1691.03,-453.55\"/>\n",
       "<polygon fill=\"black\" stroke=\"black\" points=\"1690.19,-456.95 1700.73,-455.93 1691.85,-450.15 1690.19,-456.95\"/>\n",
       "<text text-anchor=\"middle\" x=\"1643.88\" y=\"-451.4\" font-family=\"Arial\" font-size=\"8.00\">Location</text>\n",
       "</g>\n",
       "<!-- 14291 -->\n",
       "<g id=\"node16\" class=\"node\">\n",
       "<title>14291</title>\n",
       "<polygon fill=\"none\" stroke=\"black\" points=\"1708.88,-390.5 1708.88,-428.5 1780.88,-428.5 1780.88,-390.5 1708.88,-390.5\"/>\n",
       "<text text-anchor=\"middle\" x=\"1744.88\" y=\"-416.9\" font-family=\"Arial\" font-size=\"8.00\">#14291 </text>\n",
       "<text text-anchor=\"middle\" x=\"1744.88\" y=\"-406.4\" font-family=\"Arial\" font-size=\"8.00\">(IfcDirection) </text>\n",
       "</g>\n",
       "<!-- 2454&#45;&gt;14291 -->\n",
       "<g id=\"edge13\" class=\"edge\">\n",
       "<title>2454&#45;&gt;14291</title>\n",
       "<path fill=\"none\" stroke=\"black\" d=\"M1593.57,-415.51C1625.27,-414.24 1666.08,-412.61 1697.18,-411.37\"/>\n",
       "<polygon fill=\"black\" stroke=\"black\" points=\"1697.22,-414.87 1707.07,-410.97 1696.94,-407.87 1697.22,-414.87\"/>\n",
       "<text text-anchor=\"middle\" x=\"1643.88\" y=\"-417.4\" font-family=\"Arial\" font-size=\"8.00\">Axis</text>\n",
       "</g>\n",
       "<!-- 14292 -->\n",
       "<g id=\"node17\" class=\"node\">\n",
       "<title>14292</title>\n",
       "<polygon fill=\"none\" stroke=\"black\" points=\"1708.88,-333.5 1708.88,-371.5 1780.88,-371.5 1780.88,-333.5 1708.88,-333.5\"/>\n",
       "<text text-anchor=\"middle\" x=\"1744.88\" y=\"-359.9\" font-family=\"Arial\" font-size=\"8.00\">#14292 </text>\n",
       "<text text-anchor=\"middle\" x=\"1744.88\" y=\"-349.4\" font-family=\"Arial\" font-size=\"8.00\">(IfcDirection) </text>\n",
       "</g>\n",
       "<!-- 2454&#45;&gt;14292 -->\n",
       "<g id=\"edge14\" class=\"edge\">\n",
       "<title>2454&#45;&gt;14292</title>\n",
       "<path fill=\"none\" stroke=\"black\" d=\"M1593.57,-401.35C1625.55,-390.96 1666.8,-377.55 1698,-367.41\"/>\n",
       "<polygon fill=\"black\" stroke=\"black\" points=\"1698.72,-370.86 1707.15,-364.44 1696.55,-364.2 1698.72,-370.86\"/>\n",
       "<text text-anchor=\"middle\" x=\"1643.88\" y=\"-397.4\" font-family=\"Arial\" font-size=\"8.00\">RefDirection</text>\n",
       "</g>\n",
       "<!-- 2455 -->\n",
       "<g id=\"node18\" class=\"node\">\n",
       "<title>2455</title>\n",
       "<polygon fill=\"none\" stroke=\"black\" points=\"1094.12,-313.5 1094.12,-351.5 1183.62,-351.5 1183.62,-313.5 1094.12,-313.5\"/>\n",
       "<text text-anchor=\"middle\" x=\"1138.88\" y=\"-339.9\" font-family=\"Arial\" font-size=\"8.00\">#2455 </text>\n",
       "<text text-anchor=\"middle\" x=\"1138.88\" y=\"-329.4\" font-family=\"Arial\" font-size=\"8.00\">(IfcLocalPlacement) </text>\n",
       "</g>\n",
       "<!-- 2455&#45;&gt;1333 -->\n",
       "<g id=\"edge16\" class=\"edge\">\n",
       "<title>2455&#45;&gt;1333</title>\n",
       "<path fill=\"none\" stroke=\"black\" d=\"M1183.77,-351.15C1213.62,-363.84 1253.34,-380.72 1285.25,-394.28\"/>\n",
       "<polygon fill=\"black\" stroke=\"black\" points=\"1283.78,-397.46 1294.35,-398.15 1286.51,-391.02 1283.78,-397.46\"/>\n",
       "<text text-anchor=\"middle\" x=\"1239.88\" y=\"-390.4\" font-family=\"Arial\" font-size=\"8.00\">PlacementRelTo</text>\n",
       "</g>\n",
       "<!-- 14293 -->\n",
       "<g id=\"node20\" class=\"node\">\n",
       "<title>14293</title>\n",
       "<polygon fill=\"none\" stroke=\"black\" points=\"1290.5,-313.5 1290.5,-351.5 1391.25,-351.5 1391.25,-313.5 1290.5,-313.5\"/>\n",
       "<text text-anchor=\"middle\" x=\"1340.88\" y=\"-339.9\" font-family=\"Arial\" font-size=\"8.00\">#14293 </text>\n",
       "<text text-anchor=\"middle\" x=\"1340.88\" y=\"-329.4\" font-family=\"Arial\" font-size=\"8.00\">(IfcAxis2Placement3D) </text>\n",
       "</g>\n",
       "<!-- 2455&#45;&gt;14293 -->\n",
       "<g id=\"edge20\" class=\"edge\">\n",
       "<title>2455&#45;&gt;14293</title>\n",
       "<path fill=\"none\" stroke=\"black\" d=\"M1183.77,-332.5C1211.6,-332.5 1248.01,-332.5 1278.67,-332.5\"/>\n",
       "<polygon fill=\"black\" stroke=\"black\" points=\"1278.59,-336 1288.59,-332.5 1278.59,-329 1278.59,-336\"/>\n",
       "<text text-anchor=\"middle\" x=\"1239.88\" y=\"-335.4\" font-family=\"Arial\" font-size=\"8.00\">RelativePlacement</text>\n",
       "</g>\n",
       "<!-- 26126 -->\n",
       "<g id=\"node19\" class=\"node\">\n",
       "<title>26126</title>\n",
       "<polygon fill=\"none\" stroke=\"black\" points=\"1500.38,-341.5 1500.38,-379.5 1585.38,-379.5 1585.38,-341.5 1500.38,-341.5\"/>\n",
       "<text text-anchor=\"middle\" x=\"1542.88\" y=\"-367.9\" font-family=\"Arial\" font-size=\"8.00\">#26126 </text>\n",
       "<text text-anchor=\"middle\" x=\"1542.88\" y=\"-357.4\" font-family=\"Arial\" font-size=\"8.00\">(IfcCartesianPoint) </text>\n",
       "</g>\n",
       "<!-- 14293&#45;&gt;26126 -->\n",
       "<g id=\"edge17\" class=\"edge\">\n",
       "<title>14293&#45;&gt;26126</title>\n",
       "<path fill=\"none\" stroke=\"black\" d=\"M1391.57,-339.46C1421.22,-343.61 1458.84,-348.88 1489.03,-353.1\"/>\n",
       "<polygon fill=\"black\" stroke=\"black\" points=\"1488.31,-356.54 1498.7,-354.46 1489.28,-349.6 1488.31,-356.54\"/>\n",
       "<text text-anchor=\"middle\" x=\"1441.88\" y=\"-353.4\" font-family=\"Arial\" font-size=\"8.00\">Location</text>\n",
       "</g>\n",
       "<!-- 26127 -->\n",
       "<g id=\"node21\" class=\"node\">\n",
       "<title>26127</title>\n",
       "<polygon fill=\"none\" stroke=\"black\" points=\"1506.88,-284.5 1506.88,-322.5 1578.88,-322.5 1578.88,-284.5 1506.88,-284.5\"/>\n",
       "<text text-anchor=\"middle\" x=\"1542.88\" y=\"-310.9\" font-family=\"Arial\" font-size=\"8.00\">#26127 </text>\n",
       "<text text-anchor=\"middle\" x=\"1542.88\" y=\"-300.4\" font-family=\"Arial\" font-size=\"8.00\">(IfcDirection) </text>\n",
       "</g>\n",
       "<!-- 14293&#45;&gt;26127 -->\n",
       "<g id=\"edge18\" class=\"edge\">\n",
       "<title>14293&#45;&gt;26127</title>\n",
       "<path fill=\"none\" stroke=\"black\" d=\"M1391.57,-325.29C1423.41,-320.68 1464.44,-314.73 1495.59,-310.21\"/>\n",
       "<polygon fill=\"black\" stroke=\"black\" points=\"1495.69,-313.73 1505.09,-308.83 1494.69,-306.81 1495.69,-313.73\"/>\n",
       "<text text-anchor=\"middle\" x=\"1441.88\" y=\"-324.4\" font-family=\"Arial\" font-size=\"8.00\">Axis</text>\n",
       "</g>\n",
       "<!-- 26128 -->\n",
       "<g id=\"node22\" class=\"node\">\n",
       "<title>26128</title>\n",
       "<polygon fill=\"none\" stroke=\"black\" points=\"1506.88,-227.5 1506.88,-265.5 1578.88,-265.5 1578.88,-227.5 1506.88,-227.5\"/>\n",
       "<text text-anchor=\"middle\" x=\"1542.88\" y=\"-253.9\" font-family=\"Arial\" font-size=\"8.00\">#26128 </text>\n",
       "<text text-anchor=\"middle\" x=\"1542.88\" y=\"-243.4\" font-family=\"Arial\" font-size=\"8.00\">(IfcDirection) </text>\n",
       "</g>\n",
       "<!-- 14293&#45;&gt;26128 -->\n",
       "<g id=\"edge19\" class=\"edge\">\n",
       "<title>14293&#45;&gt;26128</title>\n",
       "<path fill=\"none\" stroke=\"black\" d=\"M1379.38,-313.15C1389.04,-308.36 1399.47,-303.36 1409.25,-299 1437.75,-286.3 1470.32,-273.38 1496.06,-263.54\"/>\n",
       "<polygon fill=\"black\" stroke=\"black\" points=\"1497.12,-266.88 1505.22,-260.06 1494.63,-260.34 1497.12,-266.88\"/>\n",
       "<text text-anchor=\"middle\" x=\"1441.88\" y=\"-301.4\" font-family=\"Arial\" font-size=\"8.00\">RefDirection</text>\n",
       "</g>\n",
       "<!-- 2499 -->\n",
       "<g id=\"node23\" class=\"node\">\n",
       "<title>2499</title>\n",
       "<polygon fill=\"none\" stroke=\"black\" points=\"886.12,-228.5 886.12,-266.5 975.62,-266.5 975.62,-228.5 886.12,-228.5\"/>\n",
       "<text text-anchor=\"middle\" x=\"930.88\" y=\"-254.9\" font-family=\"Arial\" font-size=\"8.00\">#2499 </text>\n",
       "<text text-anchor=\"middle\" x=\"930.88\" y=\"-244.4\" font-family=\"Arial\" font-size=\"8.00\">(IfcLocalPlacement) </text>\n",
       "</g>\n",
       "<!-- 2499&#45;&gt;2455 -->\n",
       "<g id=\"edge21\" class=\"edge\">\n",
       "<title>2499&#45;&gt;2455</title>\n",
       "<path fill=\"none\" stroke=\"black\" d=\"M976.07,-265.73C1007.43,-278.68 1049.73,-296.13 1083.22,-309.95\"/>\n",
       "<polygon fill=\"black\" stroke=\"black\" points=\"1081.78,-313.14 1092.36,-313.72 1084.45,-306.67 1081.78,-313.14\"/>\n",
       "<text text-anchor=\"middle\" x=\"1037.88\" y=\"-305.4\" font-family=\"Arial\" font-size=\"8.00\">PlacementRelTo</text>\n",
       "</g>\n",
       "<!-- 14355 -->\n",
       "<g id=\"node25\" class=\"node\">\n",
       "<title>14355</title>\n",
       "<polygon fill=\"none\" stroke=\"black\" points=\"1088.5,-228.5 1088.5,-266.5 1189.25,-266.5 1189.25,-228.5 1088.5,-228.5\"/>\n",
       "<text text-anchor=\"middle\" x=\"1138.88\" y=\"-254.9\" font-family=\"Arial\" font-size=\"8.00\">#14355 </text>\n",
       "<text text-anchor=\"middle\" x=\"1138.88\" y=\"-244.4\" font-family=\"Arial\" font-size=\"8.00\">(IfcAxis2Placement3D) </text>\n",
       "</g>\n",
       "<!-- 2499&#45;&gt;14355 -->\n",
       "<g id=\"edge25\" class=\"edge\">\n",
       "<title>2499&#45;&gt;14355</title>\n",
       "<path fill=\"none\" stroke=\"black\" d=\"M976.07,-247.5C1005.57,-247.5 1044.76,-247.5 1077.18,-247.5\"/>\n",
       "<polygon fill=\"black\" stroke=\"black\" points=\"1076.82,-251 1086.82,-247.5 1076.82,-244 1076.82,-251\"/>\n",
       "<text text-anchor=\"middle\" x=\"1037.88\" y=\"-250.4\" font-family=\"Arial\" font-size=\"8.00\">RelativePlacement</text>\n",
       "</g>\n",
       "<!-- 26215 -->\n",
       "<g id=\"node24\" class=\"node\">\n",
       "<title>26215</title>\n",
       "<polygon fill=\"none\" stroke=\"black\" points=\"1298.38,-256.5 1298.38,-294.5 1383.38,-294.5 1383.38,-256.5 1298.38,-256.5\"/>\n",
       "<text text-anchor=\"middle\" x=\"1340.88\" y=\"-282.9\" font-family=\"Arial\" font-size=\"8.00\">#26215 </text>\n",
       "<text text-anchor=\"middle\" x=\"1340.88\" y=\"-272.4\" font-family=\"Arial\" font-size=\"8.00\">(IfcCartesianPoint) </text>\n",
       "</g>\n",
       "<!-- 14355&#45;&gt;26215 -->\n",
       "<g id=\"edge22\" class=\"edge\">\n",
       "<title>14355&#45;&gt;26215</title>\n",
       "<path fill=\"none\" stroke=\"black\" d=\"M1189.57,-254.46C1219.22,-258.61 1256.84,-263.88 1287.03,-268.1\"/>\n",
       "<polygon fill=\"black\" stroke=\"black\" points=\"1286.31,-271.54 1296.7,-269.46 1287.28,-264.6 1286.31,-271.54\"/>\n",
       "<text text-anchor=\"middle\" x=\"1239.88\" y=\"-268.4\" font-family=\"Arial\" font-size=\"8.00\">Location</text>\n",
       "</g>\n",
       "<!-- 26216 -->\n",
       "<g id=\"node26\" class=\"node\">\n",
       "<title>26216</title>\n",
       "<polygon fill=\"none\" stroke=\"black\" points=\"1304.88,-199.5 1304.88,-237.5 1376.88,-237.5 1376.88,-199.5 1304.88,-199.5\"/>\n",
       "<text text-anchor=\"middle\" x=\"1340.88\" y=\"-225.9\" font-family=\"Arial\" font-size=\"8.00\">#26216 </text>\n",
       "<text text-anchor=\"middle\" x=\"1340.88\" y=\"-215.4\" font-family=\"Arial\" font-size=\"8.00\">(IfcDirection) </text>\n",
       "</g>\n",
       "<!-- 14355&#45;&gt;26216 -->\n",
       "<g id=\"edge23\" class=\"edge\">\n",
       "<title>14355&#45;&gt;26216</title>\n",
       "<path fill=\"none\" stroke=\"black\" d=\"M1189.57,-240.29C1221.41,-235.68 1262.44,-229.73 1293.59,-225.21\"/>\n",
       "<polygon fill=\"black\" stroke=\"black\" points=\"1293.69,-228.73 1303.09,-223.83 1292.69,-221.81 1293.69,-228.73\"/>\n",
       "<text text-anchor=\"middle\" x=\"1239.88\" y=\"-239.4\" font-family=\"Arial\" font-size=\"8.00\">Axis</text>\n",
       "</g>\n",
       "<!-- 26217 -->\n",
       "<g id=\"node27\" class=\"node\">\n",
       "<title>26217</title>\n",
       "<polygon fill=\"none\" stroke=\"black\" points=\"1304.88,-142.5 1304.88,-180.5 1376.88,-180.5 1376.88,-142.5 1304.88,-142.5\"/>\n",
       "<text text-anchor=\"middle\" x=\"1340.88\" y=\"-168.9\" font-family=\"Arial\" font-size=\"8.00\">#26217 </text>\n",
       "<text text-anchor=\"middle\" x=\"1340.88\" y=\"-158.4\" font-family=\"Arial\" font-size=\"8.00\">(IfcDirection) </text>\n",
       "</g>\n",
       "<!-- 14355&#45;&gt;26217 -->\n",
       "<g id=\"edge24\" class=\"edge\">\n",
       "<title>14355&#45;&gt;26217</title>\n",
       "<path fill=\"none\" stroke=\"black\" d=\"M1177.38,-228.15C1187.04,-223.36 1197.47,-218.36 1207.25,-214 1235.75,-201.3 1268.32,-188.38 1294.06,-178.54\"/>\n",
       "<polygon fill=\"black\" stroke=\"black\" points=\"1295.12,-181.88 1303.22,-175.06 1292.63,-175.34 1295.12,-181.88\"/>\n",
       "<text text-anchor=\"middle\" x=\"1239.88\" y=\"-216.4\" font-family=\"Arial\" font-size=\"8.00\">RefDirection</text>\n",
       "</g>\n",
       "<!-- 2541 -->\n",
       "<g id=\"node28\" class=\"node\">\n",
       "<title>2541</title>\n",
       "<polygon fill=\"none\" stroke=\"black\" points=\"604.25,-214.5 604.25,-252.5 693.75,-252.5 693.75,-214.5 604.25,-214.5\"/>\n",
       "<text text-anchor=\"middle\" x=\"649\" y=\"-240.9\" font-family=\"Arial\" font-size=\"8.00\">#2541 </text>\n",
       "<text text-anchor=\"middle\" x=\"649\" y=\"-230.4\" font-family=\"Arial\" font-size=\"8.00\">(IfcLocalPlacement) </text>\n",
       "</g>\n",
       "<!-- 2541&#45;&gt;2499 -->\n",
       "<g id=\"edge26\" class=\"edge\">\n",
       "<title>2541&#45;&gt;2499</title>\n",
       "<path fill=\"none\" stroke=\"black\" d=\"M694.04,-235.7C742.8,-238.14 821.49,-242.08 874.42,-244.73\"/>\n",
       "<polygon fill=\"black\" stroke=\"black\" points=\"873.96,-248.21 884.12,-245.21 874.31,-241.22 873.96,-248.21\"/>\n",
       "<text text-anchor=\"middle\" x=\"818.25\" y=\"-246.4\" font-family=\"Arial\" font-size=\"8.00\">PlacementRelTo</text>\n",
       "</g>\n",
       "<!-- 14390 -->\n",
       "<g id=\"node30\" class=\"node\">\n",
       "<title>14390</title>\n",
       "<polygon fill=\"none\" stroke=\"black\" points=\"880.5,-171.5 880.5,-209.5 981.25,-209.5 981.25,-171.5 880.5,-171.5\"/>\n",
       "<text text-anchor=\"middle\" x=\"930.88\" y=\"-197.9\" font-family=\"Arial\" font-size=\"8.00\">#14390 </text>\n",
       "<text text-anchor=\"middle\" x=\"930.88\" y=\"-187.4\" font-family=\"Arial\" font-size=\"8.00\">(IfcAxis2Placement3D) </text>\n",
       "</g>\n",
       "<!-- 2541&#45;&gt;14390 -->\n",
       "<g id=\"edge30\" class=\"edge\">\n",
       "<title>2541&#45;&gt;14390</title>\n",
       "<path fill=\"none\" stroke=\"black\" d=\"M694.04,-226.73C741.22,-219.48 816.43,-207.93 869.2,-199.82\"/>\n",
       "<polygon fill=\"black\" stroke=\"black\" points=\"869.59,-203.3 878.94,-198.33 868.53,-196.38 869.59,-203.3\"/>\n",
       "<text text-anchor=\"middle\" x=\"818.25\" y=\"-215.4\" font-family=\"Arial\" font-size=\"8.00\">RelativePlacement</text>\n",
       "</g>\n",
       "<!-- 26264 -->\n",
       "<g id=\"node29\" class=\"node\">\n",
       "<title>26264</title>\n",
       "<polygon fill=\"none\" stroke=\"black\" points=\"1096.38,-171.5 1096.38,-209.5 1181.38,-209.5 1181.38,-171.5 1096.38,-171.5\"/>\n",
       "<text text-anchor=\"middle\" x=\"1138.88\" y=\"-197.9\" font-family=\"Arial\" font-size=\"8.00\">#26264 </text>\n",
       "<text text-anchor=\"middle\" x=\"1138.88\" y=\"-187.4\" font-family=\"Arial\" font-size=\"8.00\">(IfcCartesianPoint) </text>\n",
       "</g>\n",
       "<!-- 14390&#45;&gt;26264 -->\n",
       "<g id=\"edge27\" class=\"edge\">\n",
       "<title>14390&#45;&gt;26264</title>\n",
       "<path fill=\"none\" stroke=\"black\" d=\"M981.74,-190.5C1012.92,-190.5 1053.04,-190.5 1084.81,-190.5\"/>\n",
       "<polygon fill=\"black\" stroke=\"black\" points=\"1084.59,-194 1094.59,-190.5 1084.59,-187 1084.59,-194\"/>\n",
       "<text text-anchor=\"middle\" x=\"1037.88\" y=\"-193.4\" font-family=\"Arial\" font-size=\"8.00\">Location</text>\n",
       "</g>\n",
       "<!-- 26265 -->\n",
       "<g id=\"node31\" class=\"node\">\n",
       "<title>26265</title>\n",
       "<polygon fill=\"none\" stroke=\"black\" points=\"1102.88,-114.5 1102.88,-152.5 1174.88,-152.5 1174.88,-114.5 1102.88,-114.5\"/>\n",
       "<text text-anchor=\"middle\" x=\"1138.88\" y=\"-140.9\" font-family=\"Arial\" font-size=\"8.00\">#26265 </text>\n",
       "<text text-anchor=\"middle\" x=\"1138.88\" y=\"-130.4\" font-family=\"Arial\" font-size=\"8.00\">(IfcDirection) </text>\n",
       "</g>\n",
       "<!-- 14390&#45;&gt;26265 -->\n",
       "<g id=\"edge28\" class=\"edge\">\n",
       "<title>14390&#45;&gt;26265</title>\n",
       "<path fill=\"none\" stroke=\"black\" d=\"M981.74,-176.7C1015.19,-167.45 1058.93,-155.34 1091.6,-146.3\"/>\n",
       "<polygon fill=\"black\" stroke=\"black\" points=\"1092.5,-149.69 1101.2,-143.65 1090.63,-142.94 1092.5,-149.69\"/>\n",
       "<text text-anchor=\"middle\" x=\"1037.88\" y=\"-172.4\" font-family=\"Arial\" font-size=\"8.00\">Axis</text>\n",
       "</g>\n",
       "<!-- 26266 -->\n",
       "<g id=\"node32\" class=\"node\">\n",
       "<title>26266</title>\n",
       "<polygon fill=\"none\" stroke=\"black\" points=\"1102.88,-57.5 1102.88,-95.5 1174.88,-95.5 1174.88,-57.5 1102.88,-57.5\"/>\n",
       "<text text-anchor=\"middle\" x=\"1138.88\" y=\"-83.9\" font-family=\"Arial\" font-size=\"8.00\">#26266 </text>\n",
       "<text text-anchor=\"middle\" x=\"1138.88\" y=\"-73.4\" font-family=\"Arial\" font-size=\"8.00\">(IfcDirection) </text>\n",
       "</g>\n",
       "<!-- 14390&#45;&gt;26266 -->\n",
       "<g id=\"edge29\" class=\"edge\">\n",
       "<title>14390&#45;&gt;26266</title>\n",
       "<path fill=\"none\" stroke=\"black\" d=\"M973.24,-171.17C978.15,-168.21 982.94,-164.97 987.25,-161.5 996.96,-153.68 995.41,-147.64 1005.25,-140 1031.39,-119.71 1065.07,-103.68 1091.94,-92.81\"/>\n",
       "<polygon fill=\"black\" stroke=\"black\" points=\"1093.19,-96.08 1101.22,-89.16 1090.63,-89.56 1093.19,-96.08\"/>\n",
       "<text text-anchor=\"middle\" x=\"1037.88\" y=\"-143.4\" font-family=\"Arial\" font-size=\"8.00\">RefDirection</text>\n",
       "</g>\n",
       "<!-- 2913&#45;&gt;2541 -->\n",
       "<g id=\"edge31\" class=\"edge\">\n",
       "<title>2913&#45;&gt;2541</title>\n",
       "<path fill=\"none\" stroke=\"black\" d=\"M409.96,-233.5C459.19,-233.5 538.97,-233.5 592.44,-233.5\"/>\n",
       "<polygon fill=\"black\" stroke=\"black\" points=\"592.25,-237 602.25,-233.5 592.25,-230 592.25,-237\"/>\n",
       "<text text-anchor=\"middle\" x=\"483.88\" y=\"-236.4\" font-family=\"Arial\" font-size=\"8.00\">PlacementRelTo</text>\n",
       "</g>\n",
       "<!-- 14760 -->\n",
       "<g id=\"node35\" class=\"node\">\n",
       "<title>14760</title>\n",
       "<polygon fill=\"none\" stroke=\"black\" points=\"598.62,-85.5 598.62,-123.5 699.38,-123.5 699.38,-85.5 598.62,-85.5\"/>\n",
       "<text text-anchor=\"middle\" x=\"649\" y=\"-111.9\" font-family=\"Arial\" font-size=\"8.00\">#14760 </text>\n",
       "<text text-anchor=\"middle\" x=\"649\" y=\"-101.4\" font-family=\"Arial\" font-size=\"8.00\">(IfcAxis2Placement3D) </text>\n",
       "</g>\n",
       "<!-- 2913&#45;&gt;14760 -->\n",
       "<g id=\"edge35\" class=\"edge\">\n",
       "<title>2913&#45;&gt;14760</title>\n",
       "<path fill=\"none\" stroke=\"black\" d=\"M409.86,-214.27C417.18,-211.03 424.69,-207.69 431.75,-204.5 488.17,-179.04 552.53,-149.17 596.27,-128.75\"/>\n",
       "<polygon fill=\"black\" stroke=\"black\" points=\"597.7,-131.94 605.28,-124.54 594.73,-125.6 597.7,-131.94\"/>\n",
       "<text text-anchor=\"middle\" x=\"483.88\" y=\"-197.4\" font-family=\"Arial\" font-size=\"8.00\">RelativePlacement</text>\n",
       "</g>\n",
       "<!-- 26656 -->\n",
       "<g id=\"node34\" class=\"node\">\n",
       "<title>26656</title>\n",
       "<polygon fill=\"none\" stroke=\"black\" points=\"888.38,-114.5 888.38,-152.5 973.38,-152.5 973.38,-114.5 888.38,-114.5\"/>\n",
       "<text text-anchor=\"middle\" x=\"930.88\" y=\"-140.9\" font-family=\"Arial\" font-size=\"8.00\">#26656 </text>\n",
       "<text text-anchor=\"middle\" x=\"930.88\" y=\"-130.4\" font-family=\"Arial\" font-size=\"8.00\">(IfcCartesianPoint) </text>\n",
       "</g>\n",
       "<!-- 14760&#45;&gt;26656 -->\n",
       "<g id=\"edge32\" class=\"edge\">\n",
       "<title>14760&#45;&gt;26656</title>\n",
       "<path fill=\"none\" stroke=\"black\" d=\"M699.71,-109.65C749.41,-114.8 825.56,-122.69 876.51,-127.97\"/>\n",
       "<polygon fill=\"black\" stroke=\"black\" points=\"876.12,-131.45 886.42,-129 876.84,-124.49 876.12,-131.45\"/>\n",
       "<text text-anchor=\"middle\" x=\"818.25\" y=\"-129.4\" font-family=\"Arial\" font-size=\"8.00\">Location</text>\n",
       "</g>\n",
       "<!-- 26657 -->\n",
       "<g id=\"node36\" class=\"node\">\n",
       "<title>26657</title>\n",
       "<polygon fill=\"none\" stroke=\"black\" points=\"894.88,-57.5 894.88,-95.5 966.88,-95.5 966.88,-57.5 894.88,-57.5\"/>\n",
       "<text text-anchor=\"middle\" x=\"930.88\" y=\"-83.9\" font-family=\"Arial\" font-size=\"8.00\">#26657 </text>\n",
       "<text text-anchor=\"middle\" x=\"930.88\" y=\"-73.4\" font-family=\"Arial\" font-size=\"8.00\">(IfcDirection) </text>\n",
       "</g>\n",
       "<!-- 14760&#45;&gt;26657 -->\n",
       "<g id=\"edge33\" class=\"edge\">\n",
       "<title>14760&#45;&gt;26657</title>\n",
       "<path fill=\"none\" stroke=\"black\" d=\"M699.71,-99.53C751.74,-94.32 832.77,-86.22 883.51,-81.14\"/>\n",
       "<polygon fill=\"black\" stroke=\"black\" points=\"883.68,-84.64 893.28,-80.16 882.98,-77.67 883.68,-84.64\"/>\n",
       "<text text-anchor=\"middle\" x=\"818.25\" y=\"-94.4\" font-family=\"Arial\" font-size=\"8.00\">Axis</text>\n",
       "</g>\n",
       "<!-- 26658 -->\n",
       "<g id=\"node37\" class=\"node\">\n",
       "<title>26658</title>\n",
       "<polygon fill=\"none\" stroke=\"black\" points=\"894.88,-0.5 894.88,-38.5 966.88,-38.5 966.88,-0.5 894.88,-0.5\"/>\n",
       "<text text-anchor=\"middle\" x=\"930.88\" y=\"-26.9\" font-family=\"Arial\" font-size=\"8.00\">#26658 </text>\n",
       "<text text-anchor=\"middle\" x=\"930.88\" y=\"-16.4\" font-family=\"Arial\" font-size=\"8.00\">(IfcDirection) </text>\n",
       "</g>\n",
       "<!-- 14760&#45;&gt;26658 -->\n",
       "<g id=\"edge34\" class=\"edge\">\n",
       "<title>14760&#45;&gt;26658</title>\n",
       "<path fill=\"none\" stroke=\"black\" d=\"M699.71,-89.4C751.85,-73.57 833.11,-48.89 883.83,-33.49\"/>\n",
       "<polygon fill=\"black\" stroke=\"black\" points=\"884.78,-36.85 893.34,-30.6 882.75,-30.15 884.78,-36.85\"/>\n",
       "<text text-anchor=\"middle\" x=\"818.25\" y=\"-68.4\" font-family=\"Arial\" font-size=\"8.00\">RefDirection</text>\n",
       "</g>\n",
       "</g>\n",
       "</svg>\n"
      ],
      "text/plain": [
       "<graphviz.graphs.Digraph at 0x2279018b050>"
      ]
     },
     "execution_count": 20,
     "metadata": {},
     "output_type": "execute_result"
    }
   ],
   "source": [
    "from utils import IfcGraphViz\n",
    "\n",
    "#graph = IfcGraphViz.IfcGraphViz().plot_graph(m, r)\n",
    "\n",
    "# instantiate a class instance if IfcGraphViz\n",
    "visualizer = IfcGraphViz.IfcGraphViz()\n",
    "\n",
    "# construct networkX graph\n",
    "nx_graph = visualizer.build_nx_graph(model=m, entity_instance=r, forward=10)\n",
    "print(nx_graph.nodes)\n",
    "print(nx_graph.edges)\n",
    "\n",
    "# plot\n",
    "graph = visualizer.plot_graph(m, r, forward=10)\n",
    "\n",
    "# show graph in notebook\n",
    "graph"
   ]
  },
  {
   "cell_type": "code",
   "execution_count": 66,
   "metadata": {},
   "outputs": [
    {
     "data": {
      "text/plain": [
       "{'id': 33,\n",
       " 'type': 'IfcOwnerHistory',\n",
       " 'OwningUser': #32=IfcPersonAndOrganization(#30,#31,$),\n",
       " 'OwningApplication': #2=IfcApplication(#1,'2011','Autodesk Revit Architecture 2011','Revit'),\n",
       " 'State': None,\n",
       " 'ChangeAction': 'NOCHANGE',\n",
       " 'LastModifiedDate': None,\n",
       " 'LastModifyingUser': None,\n",
       " 'LastModifyingApplication': None,\n",
       " 'CreationDate': 0}"
      ]
     },
     "execution_count": 66,
     "metadata": {},
     "output_type": "execute_result"
    }
   ],
   "source": [
    "history = m.by_id(33)\n",
    "history.get_info()"
   ]
  },
  {
   "cell_type": "code",
   "execution_count": 67,
   "metadata": {},
   "outputs": [
    {
     "data": {
      "text/html": [
       "\n",
       "        <iframe\n",
       "            width=\"100%\"\n",
       "            height=\"500px\"\n",
       "            src=\"https://standards.buildingsmart.org/IFC/RELEASE/IFC4/ADD2_TC1/HTML/schema/ifcactorresource/lexical/ifcpersonandorganization.htm\"\n",
       "            frameborder=\"0\"\n",
       "            allowfullscreen\n",
       "            \n",
       "        ></iframe>\n",
       "        "
      ],
      "text/plain": [
       "<IPython.lib.display.IFrame at 0x28f76e12990>"
      ]
     },
     "execution_count": 67,
     "metadata": {},
     "output_type": "execute_result"
    }
   ],
   "source": [
    "IfcHelp.getHelp4(\"IfcPersonAndOrganization\")"
   ]
  },
  {
   "cell_type": "markdown",
   "metadata": {},
   "source": [
    "# Plot inverse relations"
   ]
  },
  {
   "cell_type": "code",
   "execution_count": 68,
   "metadata": {},
   "outputs": [
    {
     "name": "stdout",
     "output_type": "stream",
     "text": [
      "#4131=IfcWallStandardCase('2O2Fr$t4X7Zf8NOew3FNld',#33,'Basic Wall:Interior - Partition (92mm Stud):138584',$,'Basic Wall:Interior - Partition (92mm Stud):128360',#4118,#4130,'138584')\n"
     ]
    },
    {
     "data": {
      "image/svg+xml": [
       "<?xml version=\"1.0\" encoding=\"UTF-8\" standalone=\"no\"?>\n",
       "<!DOCTYPE svg PUBLIC \"-//W3C//DTD SVG 1.1//EN\"\n",
       " \"http://www.w3.org/Graphics/SVG/1.1/DTD/svg11.dtd\">\n",
       "<!-- Generated by graphviz version 12.0.0 (20240704.0754)\n",
       " -->\n",
       "<!-- Pages: 1 -->\n",
       "<svg width=\"247pt\" height=\"446pt\"\n",
       " viewBox=\"0.00 0.00 247.25 445.50\" xmlns=\"http://www.w3.org/2000/svg\" xmlns:xlink=\"http://www.w3.org/1999/xlink\">\n",
       "<g id=\"graph0\" class=\"graph\" transform=\"scale(1 1) rotate(0) translate(4 441.5)\">\n",
       "<polygon fill=\"white\" stroke=\"none\" points=\"-4,4 -4,-441.5 243.25,-441.5 243.25,4 -4,4\"/>\n",
       "<!-- 4131 -->\n",
       "<g id=\"node1\" class=\"node\">\n",
       "<title>4131</title>\n",
       "<polygon fill=\"none\" stroke=\"black\" points=\"167.25,-209.5 167.25,-228 239.25,-228 239.25,-209.5 167.25,-209.5\"/>\n",
       "<text text-anchor=\"middle\" x=\"203.25\" y=\"-216.4\" font-family=\"Arial\" font-size=\"8.00\">#4131</text>\n",
       "</g>\n",
       "<!-- 4188 -->\n",
       "<g id=\"node2\" class=\"node\">\n",
       "<title>4188</title>\n",
       "<polygon fill=\"none\" stroke=\"black\" points=\"0,-418.5 0,-437 72,-437 72,-418.5 0,-418.5\"/>\n",
       "<text text-anchor=\"middle\" x=\"36\" y=\"-425.4\" font-family=\"Arial\" font-size=\"8.00\">4188</text>\n",
       "</g>\n",
       "<!-- 4188&#45;&gt;4131 -->\n",
       "<g id=\"edge1\" class=\"edge\">\n",
       "<title>4188&#45;&gt;4131</title>\n",
       "<path fill=\"none\" stroke=\"black\" d=\"M72.24,-427.75C96.85,-425.87 128.82,-419.37 149.25,-399.75 194.25,-356.54 201.62,-277.38 202.45,-239.73\"/>\n",
       "<polygon fill=\"black\" stroke=\"black\" points=\"205.95,-239.8 202.51,-229.78 198.95,-239.76 205.95,-239.8\"/>\n",
       "<text text-anchor=\"middle\" x=\"119.62\" y=\"-427.65\" font-family=\"Arial\" font-size=\"8.00\">RelatedObjects</text>\n",
       "</g>\n",
       "<!-- 4194 -->\n",
       "<g id=\"node3\" class=\"node\">\n",
       "<title>4194</title>\n",
       "<polygon fill=\"none\" stroke=\"black\" points=\"0,-380.5 0,-399 72,-399 72,-380.5 0,-380.5\"/>\n",
       "<text text-anchor=\"middle\" x=\"36\" y=\"-387.4\" font-family=\"Arial\" font-size=\"8.00\">4194</text>\n",
       "</g>\n",
       "<!-- 4194&#45;&gt;4131 -->\n",
       "<g id=\"edge2\" class=\"edge\">\n",
       "<title>4194&#45;&gt;4131</title>\n",
       "<path fill=\"none\" stroke=\"black\" d=\"M72.38,-387.8C96.73,-384.7 128.34,-376.92 149.25,-357.75 183.56,-326.29 195.83,-270.22 200.09,-239.79\"/>\n",
       "<polygon fill=\"black\" stroke=\"black\" points=\"203.55,-240.32 201.28,-229.97 196.6,-239.48 203.55,-240.32\"/>\n",
       "<text text-anchor=\"middle\" x=\"119.62\" y=\"-387.65\" font-family=\"Arial\" font-size=\"8.00\">RelatedObjects</text>\n",
       "</g>\n",
       "<!-- 4186 -->\n",
       "<g id=\"node4\" class=\"node\">\n",
       "<title>4186</title>\n",
       "<polygon fill=\"none\" stroke=\"black\" points=\"0,-342.5 0,-361 72,-361 72,-342.5 0,-342.5\"/>\n",
       "<text text-anchor=\"middle\" x=\"36\" y=\"-349.4\" font-family=\"Arial\" font-size=\"8.00\">4186</text>\n",
       "</g>\n",
       "<!-- 4186&#45;&gt;4131 -->\n",
       "<g id=\"edge3\" class=\"edge\">\n",
       "<title>4186&#45;&gt;4131</title>\n",
       "<path fill=\"none\" stroke=\"black\" d=\"M72.44,-347.75C96.36,-343.49 127.42,-334.72 149.25,-316.75 173.95,-296.42 188.85,-261.46 196.31,-239.26\"/>\n",
       "<polygon fill=\"black\" stroke=\"black\" points=\"199.61,-240.44 199.25,-229.85 192.93,-238.35 199.61,-240.44\"/>\n",
       "<text text-anchor=\"middle\" x=\"119.62\" y=\"-345.65\" font-family=\"Arial\" font-size=\"8.00\">RelatedObjects</text>\n",
       "</g>\n",
       "<!-- 4135 -->\n",
       "<g id=\"node5\" class=\"node\">\n",
       "<title>4135</title>\n",
       "<polygon fill=\"none\" stroke=\"black\" points=\"0,-304.5 0,-323 72,-323 72,-304.5 0,-304.5\"/>\n",
       "<text text-anchor=\"middle\" x=\"36\" y=\"-311.4\" font-family=\"Arial\" font-size=\"8.00\">4135</text>\n",
       "</g>\n",
       "<!-- 4135&#45;&gt;4131 -->\n",
       "<g id=\"edge4\" class=\"edge\">\n",
       "<title>4135&#45;&gt;4131</title>\n",
       "<path fill=\"none\" stroke=\"black\" d=\"M72.47,-307.41C95.67,-302.09 125.89,-292.88 149.25,-277.75 165.64,-267.13 180.14,-250.17 189.81,-237.15\"/>\n",
       "<polygon fill=\"black\" stroke=\"black\" points=\"192.4,-239.55 195.34,-229.37 186.7,-235.49 192.4,-239.55\"/>\n",
       "<text text-anchor=\"middle\" x=\"119.62\" y=\"-304.65\" font-family=\"Arial\" font-size=\"8.00\">RelatedObjects</text>\n",
       "</g>\n",
       "<!-- 38298 -->\n",
       "<g id=\"node6\" class=\"node\">\n",
       "<title>38298</title>\n",
       "<polygon fill=\"none\" stroke=\"black\" points=\"0,-266.5 0,-285 72,-285 72,-266.5 0,-266.5\"/>\n",
       "<text text-anchor=\"middle\" x=\"36\" y=\"-273.4\" font-family=\"Arial\" font-size=\"8.00\">38298</text>\n",
       "</g>\n",
       "<!-- 38298&#45;&gt;4131 -->\n",
       "<g id=\"edge5\" class=\"edge\">\n",
       "<title>38298&#45;&gt;4131</title>\n",
       "<path fill=\"none\" stroke=\"black\" d=\"M72.49,-268.28C94.88,-263.08 124.2,-255.36 149.25,-245.75 157.97,-242.41 167.13,-238.06 175.35,-233.83\"/>\n",
       "<polygon fill=\"black\" stroke=\"black\" points=\"176.96,-236.94 184.14,-229.15 173.67,-230.76 176.96,-236.94\"/>\n",
       "<text text-anchor=\"middle\" x=\"119.62\" y=\"-265.65\" font-family=\"Arial\" font-size=\"8.00\">RelatedElements</text>\n",
       "</g>\n",
       "<!-- 4190 -->\n",
       "<g id=\"node7\" class=\"node\">\n",
       "<title>4190</title>\n",
       "<polygon fill=\"none\" stroke=\"black\" points=\"0,-228.5 0,-247 72,-247 72,-228.5 0,-228.5\"/>\n",
       "<text text-anchor=\"middle\" x=\"36\" y=\"-235.4\" font-family=\"Arial\" font-size=\"8.00\">4190</text>\n",
       "</g>\n",
       "<!-- 4190&#45;&gt;4131 -->\n",
       "<g id=\"edge6\" class=\"edge\">\n",
       "<title>4190&#45;&gt;4131</title>\n",
       "<path fill=\"none\" stroke=\"black\" d=\"M72.45,-233.67C96.74,-230.88 129.2,-227.15 155.59,-224.11\"/>\n",
       "<polygon fill=\"black\" stroke=\"black\" points=\"155.82,-227.61 165.35,-222.99 155.02,-220.66 155.82,-227.61\"/>\n",
       "<text text-anchor=\"middle\" x=\"119.62\" y=\"-233.65\" font-family=\"Arial\" font-size=\"8.00\">RelatedObjects</text>\n",
       "</g>\n",
       "<!-- 38540 -->\n",
       "<g id=\"node8\" class=\"node\">\n",
       "<title>38540</title>\n",
       "<polygon fill=\"none\" stroke=\"black\" points=\"0,-190.5 0,-209 72,-209 72,-190.5 0,-190.5\"/>\n",
       "<text text-anchor=\"middle\" x=\"36\" y=\"-197.4\" font-family=\"Arial\" font-size=\"8.00\">38540</text>\n",
       "</g>\n",
       "<!-- 38540&#45;&gt;4131 -->\n",
       "<g id=\"edge7\" class=\"edge\">\n",
       "<title>38540&#45;&gt;4131</title>\n",
       "<path fill=\"none\" stroke=\"black\" d=\"M72.45,-202.47C94.58,-204.31 123.62,-207 149.25,-210.25 151.4,-210.52 153.6,-210.82 155.81,-211.12\"/>\n",
       "<polygon fill=\"black\" stroke=\"black\" points=\"155.05,-214.55 165.45,-212.54 156.06,-207.62 155.05,-214.55\"/>\n",
       "<text text-anchor=\"middle\" x=\"119.62\" y=\"-212.65\" font-family=\"Arial\" font-size=\"8.00\">RelatedObjects</text>\n",
       "</g>\n",
       "<!-- 38541 -->\n",
       "<g id=\"node9\" class=\"node\">\n",
       "<title>38541</title>\n",
       "<polygon fill=\"none\" stroke=\"black\" points=\"0,-152.5 0,-171 72,-171 72,-152.5 0,-152.5\"/>\n",
       "<text text-anchor=\"middle\" x=\"36\" y=\"-159.4\" font-family=\"Arial\" font-size=\"8.00\">38541</text>\n",
       "</g>\n",
       "<!-- 38541&#45;&gt;4131 -->\n",
       "<g id=\"edge8\" class=\"edge\">\n",
       "<title>38541&#45;&gt;4131</title>\n",
       "<path fill=\"none\" stroke=\"black\" d=\"M72.38,-167.89C94.86,-172.4 124.32,-179.46 149.25,-189.25 158.87,-193.03 168.9,-198.24 177.61,-203.24\"/>\n",
       "<polygon fill=\"black\" stroke=\"black\" points=\"175.79,-206.22 186.17,-208.34 179.37,-200.21 175.79,-206.22\"/>\n",
       "<text text-anchor=\"middle\" x=\"119.62\" y=\"-191.65\" font-family=\"Arial\" font-size=\"8.00\">RelatedObjects</text>\n",
       "</g>\n",
       "<!-- 38360 -->\n",
       "<g id=\"node10\" class=\"node\">\n",
       "<title>38360</title>\n",
       "<polygon fill=\"none\" stroke=\"black\" points=\"0,-114.5 0,-133 72,-133 72,-114.5 0,-114.5\"/>\n",
       "<text text-anchor=\"middle\" x=\"36\" y=\"-121.4\" font-family=\"Arial\" font-size=\"8.00\">38360</text>\n",
       "</g>\n",
       "<!-- 38360&#45;&gt;4131 -->\n",
       "<g id=\"edge9\" class=\"edge\">\n",
       "<title>38360&#45;&gt;4131</title>\n",
       "<path fill=\"none\" stroke=\"black\" d=\"M72.31,-128.97C95.58,-133.64 125.95,-142.16 149.25,-157.25 166.22,-168.24 180.81,-186.22 190.36,-199.91\"/>\n",
       "<polygon fill=\"black\" stroke=\"black\" points=\"187.35,-201.7 195.8,-208.09 193.18,-197.83 187.35,-201.7\"/>\n",
       "<text text-anchor=\"middle\" x=\"119.62\" y=\"-159.65\" font-family=\"Arial\" font-size=\"8.00\">RelatedObjects</text>\n",
       "</g>\n",
       "<!-- 38538 -->\n",
       "<g id=\"node11\" class=\"node\">\n",
       "<title>38538</title>\n",
       "<polygon fill=\"none\" stroke=\"black\" points=\"0,-76.5 0,-95 72,-95 72,-76.5 0,-76.5\"/>\n",
       "<text text-anchor=\"middle\" x=\"36\" y=\"-83.4\" font-family=\"Arial\" font-size=\"8.00\">38538</text>\n",
       "</g>\n",
       "<!-- 38538&#45;&gt;4131 -->\n",
       "<g id=\"edge10\" class=\"edge\">\n",
       "<title>38538&#45;&gt;4131</title>\n",
       "<path fill=\"none\" stroke=\"black\" d=\"M72.47,-88.79C96.4,-92.44 127.47,-100.5 149.25,-118.25 174.79,-139.06 189.56,-175.48 196.75,-198.29\"/>\n",
       "<polygon fill=\"black\" stroke=\"black\" points=\"193.32,-199.04 199.48,-207.65 200.03,-197.07 193.32,-199.04\"/>\n",
       "<text text-anchor=\"middle\" x=\"119.62\" y=\"-120.65\" font-family=\"Arial\" font-size=\"8.00\">RelatedObjects</text>\n",
       "</g>\n",
       "<!-- 38539 -->\n",
       "<g id=\"node12\" class=\"node\">\n",
       "<title>38539</title>\n",
       "<polygon fill=\"none\" stroke=\"black\" points=\"0,-38.5 0,-57 72,-57 72,-38.5 0,-38.5\"/>\n",
       "<text text-anchor=\"middle\" x=\"36\" y=\"-45.4\" font-family=\"Arial\" font-size=\"8.00\">38539</text>\n",
       "</g>\n",
       "<!-- 38539&#45;&gt;4131 -->\n",
       "<g id=\"edge11\" class=\"edge\">\n",
       "<title>38539&#45;&gt;4131</title>\n",
       "<path fill=\"none\" stroke=\"black\" d=\"M72.36,-48.78C96.71,-51.29 128.32,-58.34 149.25,-77.25 184.66,-109.24 196.51,-167.23 200.4,-198.1\"/>\n",
       "<polygon fill=\"black\" stroke=\"black\" points=\"196.88,-198.11 201.43,-207.68 203.84,-197.36 196.88,-198.11\"/>\n",
       "<text text-anchor=\"middle\" x=\"119.62\" y=\"-79.65\" font-family=\"Arial\" font-size=\"8.00\">RelatedObjects</text>\n",
       "</g>\n",
       "<!-- 4192 -->\n",
       "<g id=\"node13\" class=\"node\">\n",
       "<title>4192</title>\n",
       "<polygon fill=\"none\" stroke=\"black\" points=\"0,-0.5 0,-19 72,-19 72,-0.5 0,-0.5\"/>\n",
       "<text text-anchor=\"middle\" x=\"36\" y=\"-7.4\" font-family=\"Arial\" font-size=\"8.00\">4192</text>\n",
       "</g>\n",
       "<!-- 4192&#45;&gt;4131 -->\n",
       "<g id=\"edge12\" class=\"edge\">\n",
       "<title>4192&#45;&gt;4131</title>\n",
       "<path fill=\"none\" stroke=\"black\" d=\"M72.48,-9.23C97.04,-10.78 128.86,-16.87 149.25,-36.25 195.01,-79.75 201.97,-160.19 202.57,-198.04\"/>\n",
       "<polygon fill=\"black\" stroke=\"black\" points=\"199.07,-197.62 202.58,-207.62 206.07,-197.62 199.07,-197.62\"/>\n",
       "<text text-anchor=\"middle\" x=\"119.62\" y=\"-38.65\" font-family=\"Arial\" font-size=\"8.00\">RelatedObjects</text>\n",
       "</g>\n",
       "</g>\n",
       "</svg>\n"
      ],
      "text/plain": [
       "<graphviz.graphs.Digraph at 0x28f76dd5250>"
      ]
     },
     "execution_count": 68,
     "metadata": {},
     "output_type": "execute_result"
    }
   ],
   "source": [
    "#graph = IfcGraphViz.IfcGraphViz().plot_graph(m, r)\n",
    "print(m.by_type(\"IfcWall\")[0])\n",
    "graph = IfcGraphViz.IfcGraphViz().plot_reverse_graph(m, m.by_type(\"IfcWall\")[0])\n",
    "graph"
   ]
  },
  {
   "cell_type": "code",
   "execution_count": 77,
   "metadata": {},
   "outputs": [],
   "source": [
    "import ifcopenshell.util.element"
   ]
  },
  {
   "cell_type": "code",
   "execution_count": 78,
   "metadata": {},
   "outputs": [
    {
     "data": {
      "text/plain": [
       "{'GSA Space Areas': {'GSA BIM Area': 3.997752000000072, 'id': 1930},\n",
       " 'Pset_SpaceCommon': {'Reference': '',\n",
       "  'CeilingCovering': 'CeilingCovering',\n",
       "  'WallCovering': 'WallCovering',\n",
       "  'FloorCovering': 'FloorCovering',\n",
       "  'id': 2044},\n",
       " 'PSet_Revit_Identity Data': {'Number': 'B104',\n",
       "  'Name': 'Bathroom 1',\n",
       "  'OmniClass Table 13 Category': '13-41 11 14 11: Bathroom',\n",
       "  'id': 2070},\n",
       " 'PSet_Revit_Constraints': {'Level': 'Level 1',\n",
       "  'Upper Limit': 'Level 1',\n",
       "  'Limit Offset': 2.6,\n",
       "  'Base Offset': 0.0,\n",
       "  'id': 2072},\n",
       " 'PSet_Revit_Dimensions': {'Area': 3.997752000000072,\n",
       "  'Perimeter': 8.204000000000091,\n",
       "  'Unbounded Height': 2.6,\n",
       "  'Volume': 8.177444912000173,\n",
       "  'id': 2074},\n",
       " 'PSet_Revit_Phasing': {'Phase': 'New Construction', 'id': 2076},\n",
       " 'PSet_Revit_Other': {'CeilingCovering': 'CeilingCovering',\n",
       "  'FloorCovering': 'FloorCovering',\n",
       "  'WallCovering': 'WallCovering',\n",
       "  'LoadCapacity': 'LoadCapacity',\n",
       "  'Category Description': 'Bathroom',\n",
       "  'Category Code': '13-41 11 14 11',\n",
       "  'CirculationZoneName': 'Unit B CirculationZoneName',\n",
       "  'FireAlarmZoneName': 'Unit B FireAlarmZoneName',\n",
       "  'HistoricPreservationZoneName': 'Unit B HistoricPreservationZoneName',\n",
       "  'LightingZoneName': 'Unit B LightingZoneName',\n",
       "  'OccupancyZoneName': 'Unit B OccupancyZoneName',\n",
       "  'VentilationZoneName': 'Unit B VentilationZoneName',\n",
       "  'RoomTag': 'RoomTag',\n",
       "  'id': 2078}}"
      ]
     },
     "execution_count": 78,
     "metadata": {},
     "output_type": "execute_result"
    }
   ],
   "source": [
    "ifcopenshell.util.element.get_psets(r)"
   ]
  },
  {
   "cell_type": "code",
   "execution_count": 71,
   "metadata": {},
   "outputs": [],
   "source": [
    "walls = m.by_type(\"IfcWall\")"
   ]
  },
  {
   "cell_type": "markdown",
   "metadata": {},
   "source": [
    "Count the number of walls in the entire building: `len` gets the size of collection datatypes in python [Documentation here](https://docs.python.org/3.8/library/functions.html#len)"
   ]
  },
  {
   "cell_type": "code",
   "execution_count": 72,
   "metadata": {},
   "outputs": [
    {
     "data": {
      "text/plain": [
       "57"
      ]
     },
     "execution_count": 72,
     "metadata": {},
     "output_type": "execute_result"
    }
   ],
   "source": [
    "len(walls)"
   ]
  },
  {
   "cell_type": "code",
   "execution_count": 73,
   "metadata": {},
   "outputs": [
    {
     "data": {
      "text/plain": [
       "#5106=IfcWallStandardCase('2O2Fr$t4X7Zf8NOew3FK1b',#33,'Basic Wall:Foundation - Concrete (435mm):141018',$,'Basic Wall:Foundation - Concrete (435mm):207146',#5093,#5105,'141018')"
      ]
     },
     "execution_count": 73,
     "metadata": {},
     "output_type": "execute_result"
    }
   ],
   "source": [
    "wall = walls[12]\n",
    "wall"
   ]
  },
  {
   "cell_type": "code",
   "execution_count": 74,
   "metadata": {},
   "outputs": [
    {
     "data": {
      "text/plain": [
       "{'Pset_WallCommon': {'Reference': 'Basic Wall:Foundation - Concrete (435mm)',\n",
       "  'LoadBearing': True,\n",
       "  'ExtendToStructure': False,\n",
       "  'IsExternal': True,\n",
       "  'id': 5108},\n",
       " 'PSet_Revit_Constraints': {'Location Line': 0,\n",
       "  'Base Constraint': 'T/FDN',\n",
       "  'Base Offset': 0.0,\n",
       "  'Base is Attached': False,\n",
       "  'Base Extension Distance': 0.0,\n",
       "  'Top Constraint': 'Up to level: Level 1',\n",
       "  'Unconnected Height': 1.123,\n",
       "  'Top Offset': -0.127,\n",
       "  'Top is Attached': False,\n",
       "  'Top Extension Distance': 0.0,\n",
       "  'Room Bounding': True,\n",
       "  'Related to Mass': False,\n",
       "  'id': 5128},\n",
       " 'PSet_Revit_Other': {'InstallationDate': 'InstallationDate',\n",
       "  'SerialNumber': 'SerialNumber',\n",
       "  'WarrantyStartDate': 'WarrantyStartDate',\n",
       "  'BarCode': 'BarCode',\n",
       "  'AssetIdentifier': 'AssetIdentifier',\n",
       "  'TagNumber': 'TagNumber',\n",
       "  'id': 5130},\n",
       " 'PSet_Revit_Phasing': {'Phase Created': 'New Construction', 'id': 5132},\n",
       " 'PSet_Revit_Structural': {'Rebar Cover - Exterior Face': 'Rebar Cover 1 <0.025>',\n",
       "  'Rebar Cover - Interior Face': 'Rebar Cover 1 <0.025>',\n",
       "  'Rebar Cover - Other Faces': 'Rebar Cover 1 <0.025>',\n",
       "  'Structural Usage': 1,\n",
       "  'id': 5134},\n",
       " 'PSet_Revit_Dimensions': {'Length': 2.200000000000026,\n",
       "  'Area': 1.982095000000031,\n",
       "  'Volume': 0.8622113250000139,\n",
       "  'id': 5136},\n",
       " 'PSet_Revit_Analytical Model': {'Enable Analytical Model': True, 'id': 5138},\n",
       " 'PSet_Revit_Type_Construction': {'Wrapping at Inserts': 0,\n",
       "  'Wrapping at Ends': 0,\n",
       "  'Width': 0.435,\n",
       "  'Function': 2,\n",
       "  'id': 5035},\n",
       " 'PSet_Revit_Type_Graphics': {'Coarse Scale Fill Pattern': 'Concrete',\n",
       "  'Coarse Scale Fill Color': 0,\n",
       "  'id': 5036},\n",
       " 'PSet_Revit_Type_Identity Data': {'Manufacturer': 'Manufacturer',\n",
       "  'Assembly Description': '',\n",
       "  'Assembly Code': '',\n",
       "  'id': 5037},\n",
       " 'PSet_Revit_Type_Other': {'AccessibilityPerformance': 'AccessibilityPerformance',\n",
       "  'CodePerformance': 'CodePerformance',\n",
       "  'Color': 'Color',\n",
       "  'Constituents': 'Constituents',\n",
       "  'Features': 'Features',\n",
       "  'Finish': 'Finish',\n",
       "  'Grade': 'Grade',\n",
       "  'Material': 'Material',\n",
       "  'ModelReference': 'ModelReference',\n",
       "  'NominalHeight': 'NominalHeight',\n",
       "  'NominalLength': 'NominalLength',\n",
       "  'NominalWidth': 'NominalWidth',\n",
       "  'ProductionYear': 'ProductionYear',\n",
       "  'Reference': 'Reference',\n",
       "  'Shape': 'Shape',\n",
       "  'Size': 'Size',\n",
       "  'SustainabilityPerformance': 'SustainabilityPerformance',\n",
       "  'WarrantyDescription': 'WarrantyDescription',\n",
       "  'WarrantyDurationLabor': 'WarrantyDurationLabor',\n",
       "  'WarrantyDurationParts': 'WarrantyDurationParts',\n",
       "  'WarrantyGuarantorLabor': 'WarrantyGuarantorLabor',\n",
       "  'WarrantyGuarantorParts': 'WarrantyGuarantorParts',\n",
       "  'ExpectedLife': 'ExpectedLife',\n",
       "  'ReplacementCost': 'ReplacementCost',\n",
       "  'AssetAccountingType': 'FIXED',\n",
       "  'Classification Description': 'Concrete Structural Walls',\n",
       "  'Classification Code': '23-25 30 24 11',\n",
       "  'ModelLabel': 'ModelLabel',\n",
       "  'id': 5038}}"
      ]
     },
     "execution_count": 74,
     "metadata": {},
     "output_type": "execute_result"
    }
   ],
   "source": [
    "wall\n",
    "pset_for_wall = ifcopenshell.util.element.get_psets(wall)\n",
    "pset_for_wall"
   ]
  },
  {
   "cell_type": "markdown",
   "metadata": {},
   "source": [
    "## Find external walls.\n",
    "External walls in IFC-models should be have a value `True` for the property  **IsExternal**  in the standard \"Pset_WallCommon\". \n",
    "\n",
    "All external walls can be found by iterating over **all walls** and checking each one for the approriate value.\n",
    "\n",
    "Since **IsExternal** return strings \"True\" or \"False\" we can cast them to pyton  `bool`."
   ]
  },
  {
   "cell_type": "code",
   "execution_count": 79,
   "metadata": {},
   "outputs": [
    {
     "name": "stdout",
     "output_type": "stream",
     "text": [
      "#4131=IfcWallStandardCase('2O2Fr$t4X7Zf8NOew3FNld',#33,'Basic Wall:Interior - Partition (92mm Stud):138584',$,'Basic Wall:Interior - Partition (92mm Stud):128360',#4118,#4130,'138584')\n",
      "#4287=IfcWallStandardCase('2O2Fr$t4X7Zf8NOew3FNbT',#33,'Basic Wall:Party Wall - CMU Residential Unit Dimising Wall:139234',$,'Basic Wall:Party Wall - CMU Residential Unit Dimising Wall:128555',#4251,#4286,'139234')\n",
      "#4399=IfcWallStandardCase('2O2Fr$t4X7Zf8NOew3FKRi',#33,'Basic Wall:Party Wall - CMU Residential Unit Dimising Wall:139347',$,'Basic Wall:Party Wall - CMU Residential Unit Dimising Wall:128555',#4364,#4398,'139347')\n",
      "#4465=IfcWallStandardCase('2O2Fr$t4X7Zf8NOew3FKRH',#33,'Basic Wall:Party Wall - CMU Residential Unit Dimising Wall:139374',$,'Basic Wall:Party Wall - CMU Residential Unit Dimising Wall:128555',#4430,#4464,'139374')\n",
      "#4553=IfcWallStandardCase('2O2Fr$t4X7Zf8NOew3FKIu',#33,'Basic Wall:Interior - Partition (92mm Stud):139783',$,'Basic Wall:Interior - Partition (92mm Stud):128360',#4540,#4552,'139783')\n",
      "#4598=IfcWallStandardCase('2O2Fr$t4X7Zf8NOew3FKGS',#33,'Basic Wall:Interior - Partition (92mm Stud):139939',$,'Basic Wall:Interior - Partition (92mm Stud):128360',#4585,#4597,'139939')\n",
      "#4643=IfcWallStandardCase('2O2Fr$t4X7Zf8NOew3FK80',#33,'Basic Wall:Foundation - Concrete (417mm):140479',$,'Basic Wall:Foundation - Concrete (417mm):128676',#4630,#4642,'140479')\n",
      "#4818=IfcWallStandardCase('2O2Fr$t4X7Zf8NOew3FK9N',#33,'Basic Wall:Foundation - Concrete (417mm):140520',$,'Basic Wall:Foundation - Concrete (417mm):128676',#4805,#4817,'140520')\n",
      "#4868=IfcWallStandardCase('2O2Fr$t4X7Zf8NOew3FKEr',#33,'Basic Wall:Foundation - Concrete (417mm):140554',$,'Basic Wall:Foundation - Concrete (417mm):128676',#4855,#4867,'140554')\n",
      "#4918=IfcWallStandardCase('2O2Fr$t4X7Zf8NOew3FKE5',#33,'Basic Wall:Foundation - Concrete (417mm):140602',$,'Basic Wall:Foundation - Concrete (417mm):128676',#4905,#4917,'140602')\n",
      "#4968=IfcWallStandardCase('2O2Fr$t4X7Zf8NOew3FK3E',#33,'Basic Wall:Foundation - Concrete (435mm):140913',$,'Basic Wall:Foundation - Concrete (435mm):207146',#4955,#4967,'140913')\n",
      "#5057=IfcWallStandardCase('2O2Fr$t4X7Zf8NOew3FK04',#33,'Basic Wall:Foundation - Concrete (435mm):140987',$,'Basic Wall:Foundation - Concrete (435mm):207146',#5044,#5056,'140987')\n",
      "#5106=IfcWallStandardCase('2O2Fr$t4X7Zf8NOew3FK1b',#33,'Basic Wall:Foundation - Concrete (435mm):141018',$,'Basic Wall:Foundation - Concrete (435mm):207146',#5093,#5105,'141018')\n",
      "#5399=IfcWall('2O2Fr$t4X7Zf8NOew3FKau',#33,'Basic Wall:Party Wall - CMU Residential Unit Dimising Wall:143239',$,'Basic Wall:Party Wall - CMU Residential Unit Dimising Wall:128555',#5302,#5398,'143239')\n",
      "#5775=IfcWallStandardCase('2O2Fr$t4X7Zf8NOew3FLMr',#33,'Basic Wall:Interior - Plumbing (152mm Stud):144138',$,'Basic Wall:Interior - Plumbing (152mm Stud):128382',#5762,#5774,'144138')\n",
      "#5859=IfcWallStandardCase('2O2Fr$t4X7Zf8NOew3FLKI',#33,'Basic Wall:Interior - Partition (92mm Stud):144301',$,'Basic Wall:Interior - Partition (92mm Stud):128360',#5846,#5858,'144301')\n",
      "#6036=IfcWallStandardCase('2O2Fr$t4X7Zf8NOew3FLEJ',#33,'Basic Wall:Interior - Partition (92mm Stud):144684',$,'Basic Wall:Interior - Partition (92mm Stud):128360',#6023,#6035,'144684')\n",
      "#6080=IfcWallStandardCase('2O2Fr$t4X7Zf8NOew3FLCm',#33,'Basic Wall:Interior - Plumbing (152mm Stud):144783',$,'Basic Wall:Interior - Plumbing (152mm Stud):128382',#6067,#6079,'144783')\n",
      "#3999=IfcWallStandardCase('2O2Fr$t4X7Zf8NOew3FNqI',#33,'Basic Wall:Exterior - Brick on Block:138157',$,'Basic Wall:Exterior - Brick on Block:130892',#3986,#3998,'138157')\n",
      "#4087=IfcWallStandardCase('2O2Fr$t4X7Zf8NOew3FNhv',#33,'Basic Wall:Exterior - Brick on Block:138310',$,'Basic Wall:Exterior - Brick on Block:130892',#4074,#4086,'138310')\n",
      "#5448=IfcWallStandardCase('2O2Fr$t4X7Zf8NOew3FLQD',#33,'Basic Wall:Exterior - Brick on Block:143410',$,'Basic Wall:Exterior - Brick on Block:130892',#5429,#5447,'143410')\n",
      "#5548=IfcWallStandardCase('2O2Fr$t4X7Zf8NOew3FLOH',#33,'Basic Wall:Exterior - Brick on Block:143534',$,'Basic Wall:Exterior - Brick on Block:130892',#5529,#5547,'143534')\n",
      "#4508=IfcWallStandardCase('2O2Fr$t4X7Zf8NOew3FKST',#33,'Basic Wall:Interior - Partition (92mm Stud):139682',$,'Basic Wall:Interior - Partition (92mm Stud):128360',#4495,#4507,'139682')\n",
      "#4219=IfcWallStandardCase('2O2Fr$t4X7Zf8NOew3FNau',#33,'Basic Wall:Interior - Partition (92mm Stud):139143',$,'Basic Wall:Interior - Partition (92mm Stud):128360',#4206,#4218,'139143')\n",
      "#5642=IfcWallStandardCase('2O2Fr$t4X7Zf8NOew3FLTF',#33,'Basic Wall:Interior - Partition (92mm Stud):143856',$,'Basic Wall:Interior - Partition (92mm Stud):128360',#5629,#5641,'143856')\n",
      "#5903=IfcWallStandardCase('2O2Fr$t4X7Zf8NOew3FL8v',#33,'Basic Wall:Interior - Partition (92mm Stud):144518',$,'Basic Wall:Interior - Partition (92mm Stud):128360',#5890,#5902,'144518')\n",
      "#5731=IfcWallStandardCase('2O2Fr$t4X7Zf8NOew3FLJd',#33,'Basic Wall:Interior - Partition (92mm Stud):143960',$,'Basic Wall:Interior - Partition (92mm Stud):128360',#5718,#5730,'143960')\n",
      "#5992=IfcWallStandardCase('2O2Fr$t4X7Zf8NOew3FL96',#33,'Basic Wall:Interior - Partition (92mm Stud):144633',$,'Basic Wall:Interior - Partition (92mm Stud):128360',#5979,#5991,'144633')\n",
      "#5687=IfcWallStandardCase('2O2Fr$t4X7Zf8NOew3FLIE',#33,'Basic Wall:Interior - Partition (92mm Stud):143921',$,'Basic Wall:Interior - Partition (92mm Stud):128360',#5674,#5686,'143921')\n",
      "#5948=IfcWallStandardCase('2O2Fr$t4X7Zf8NOew3FL9r',#33,'Basic Wall:Interior - Partition (92mm Stud):144586',$,'Basic Wall:Interior - Partition (92mm Stud):128360',#5935,#5947,'144586')\n",
      "#3797=IfcWallStandardCase('2O2Fr$t4X7Zf8NOew3FNtn',#33,'Basic Wall:Exterior - Brick on Block:138062',$,'Basic Wall:Exterior - Brick on Block:130892',#3781,#3796,'138062')\n",
      "#4043=IfcWallStandardCase('2O2Fr$t4X7Zf8NOew3FNr2',#33,'Basic Wall:Exterior - Brick on Block:138237',$,'Basic Wall:Exterior - Brick on Block:130892',#4030,#4042,'138237')\n",
      "#5498=IfcWallStandardCase('2O2Fr$t4X7Zf8NOew3FLR9',#33,'Basic Wall:Exterior - Brick on Block:143478',$,'Basic Wall:Exterior - Brick on Block:130892',#5479,#5497,'143478')\n",
      "#5598=IfcWallStandardCase('2O2Fr$t4X7Zf8NOew3FLPP',#33,'Basic Wall:Exterior - Brick on Block:143590',$,'Basic Wall:Exterior - Brick on Block:130892',#5579,#5597,'143590')\n",
      "#22663=IfcWallStandardCase('0jf0rYHfX3RAB3bSIRjmmy',#33,'Basic Wall:Exterior - Brick on Block:184944',$,'Basic Wall:Exterior - Brick on Block:130892',#22650,#22662,'184944')\n",
      "#22708=IfcWallStandardCase('0jf0rYHfX3RAB3bSIRjmpw',#33,'Basic Wall:Exterior - Brick on Block:185014',$,'Basic Wall:Exterior - Brick on Block:130892',#22695,#22707,'185014')\n",
      "#22753=IfcWallStandardCase('0jf0rYHfX3RAB3bSIRjmoa',#33,'Basic Wall:Exterior - Brick on Block:185064',$,'Basic Wall:Exterior - Brick on Block:130892',#22740,#22752,'185064')\n",
      "#22798=IfcWallStandardCase('0jf0rYHfX3RAB3bSIRjmr1',#33,'Basic Wall:Exterior - Brick on Block:185101',$,'Basic Wall:Exterior - Brick on Block:130892',#22785,#22797,'185101')\n",
      "#24596=IfcWallStandardCase('0iEHWY1$XA8eQeeULq4jZ1',#33,'Basic Wall:Interior - Furring (152 mm Stud):189074',$,'Basic Wall:Interior - Furring (152 mm Stud):187795',#24572,#24595,'189074')\n",
      "#24680=IfcWallStandardCase('0iEHWY1$XA8eQeeULq4j_U',#33,'Basic Wall:Interior - Furring (152 mm Stud):189901',$,'Basic Wall:Interior - Furring (152 mm Stud):187795',#24667,#24679,'189901')\n",
      "#24723=IfcWallStandardCase('0iEHWY1$XA8eQeeULq4jpl',#33,'Basic Wall:Interior - Partition (92mm Stud):190140',$,'Basic Wall:Interior - Partition (92mm Stud):128360',#24710,#24722,'190140')\n",
      "#24768=IfcWallStandardCase('0iEHWY1$XA8eQeeULq4jDb',#33,'Basic Wall:Interior - Furring (152 mm Stud):190774',$,'Basic Wall:Interior - Furring (152 mm Stud):187795',#24755,#24767,'190774')\n",
      "#24813=IfcWallStandardCase('0iEHWY1$XA8eQeeULq4jE6',#33,'Basic Wall:Interior - Furring (152 mm Stud):190933',$,'Basic Wall:Interior - Furring (152 mm Stud):187795',#24800,#24812,'190933')\n",
      "#31431=IfcWallStandardCase('0dxE1Sy6nDqfpDb5vIMNiA',#33,'Basic Wall:Interior - Furring (152 mm Stud):193247',$,'Basic Wall:Interior - Furring (152 mm Stud):187795',#31418,#31430,'193247')\n",
      "#31476=IfcWallStandardCase('0dxE1Sy6nDqfpDb5vIMN_Z',#33,'Basic Wall:Interior - Furring (152 mm Stud):194166',$,'Basic Wall:Interior - Furring (152 mm Stud):187795',#31463,#31475,'194166')\n",
      "#35199=IfcWallStandardCase('1aj$VJZFn2TxepZUBcKpvt',#33,'Basic Wall:Interior - Partition (92mm Stud):203347',$,'Basic Wall:Interior - Partition (92mm Stud):128360',#35186,#35198,'203347')\n",
      "#35357=IfcWallStandardCase('1aj$VJZFn2TxepZUBcKpZw',#33,'Basic Wall:Interior - Partition (92mm Stud):203998',$,'Basic Wall:Interior - Partition (92mm Stud):128360',#35344,#35356,'203998')\n",
      "#35452=IfcWallStandardCase('1aj$VJZFn2TxepZUBcKpee',#33,'Basic Wall:Interior - Partition (92mm Stud):204300',$,'Basic Wall:Interior - Partition (92mm Stud):128360',#35439,#35451,'204300')\n",
      "#35497=IfcWallStandardCase('1aj$VJZFn2TxepZUBcKphf',#33,'Basic Wall:Interior - Partition (92mm Stud):204493',$,'Basic Wall:Interior - Partition (92mm Stud):128360',#35484,#35496,'204493')\n",
      "#37913=IfcWallStandardCase('3Y4YRln2r91vflHcHE5IVS',#33,'Basic Wall:Interior - Furring (38 mm Stud):217414',$,'Basic Wall:Interior - Furring (38 mm Stud):128404',#37900,#37912,'217414')\n",
      "#37970=IfcWallStandardCase('3Y4YRln2r91vflHcHE5IVT',#33,'Basic Wall:Interior - Furring (38 mm Stud):217415',$,'Basic Wall:Interior - Furring (38 mm Stud):128404',#37957,#37969,'217415')\n",
      "#38015=IfcWallStandardCase('3Y4YRln2r91vflHcHE5IVI',#33,'Basic Wall:Interior - Furring (38 mm Stud):217416',$,'Basic Wall:Interior - Furring (38 mm Stud):128404',#38002,#38014,'217416')\n",
      "#38060=IfcWallStandardCase('3Y4YRln2r91vflHcHE5IVJ',#33,'Basic Wall:Interior - Furring (38 mm Stud):217417',$,'Basic Wall:Interior - Furring (38 mm Stud):128404',#38047,#38059,'217417')\n",
      "#38105=IfcWallStandardCase('3Y4YRln2r91vflHcHE5ITp',#33,'Basic Wall:Interior - Furring (38 mm Stud):217577',$,'Basic Wall:Interior - Furring (38 mm Stud):128404',#38092,#38104,'217577')\n",
      "#38150=IfcWallStandardCase('3Y4YRln2r91vflHcHE5ITm',#33,'Basic Wall:Interior - Furring (38 mm Stud):217578',$,'Basic Wall:Interior - Furring (38 mm Stud):128404',#38137,#38149,'217578')\n",
      "#38195=IfcWallStandardCase('3Y4YRln2r91vflHcHE5ITn',#33,'Basic Wall:Interior - Furring (38 mm Stud):217579',$,'Basic Wall:Interior - Furring (38 mm Stud):128404',#38182,#38194,'217579')\n",
      "#38240=IfcWallStandardCase('3Y4YRln2r91vflHcHE5ITs',#33,'Basic Wall:Interior - Furring (38 mm Stud):217580',$,'Basic Wall:Interior - Furring (38 mm Stud):128404',#38227,#38239,'217580')\n"
     ]
    },
    {
     "data": {
      "text/plain": [
       "23"
      ]
     },
     "execution_count": 79,
     "metadata": {},
     "output_type": "execute_result"
    }
   ],
   "source": [
    "ext_walls = []\n",
    "for w in walls:\n",
    "    print(w)\n",
    "    psets = ifcopenshell.util.element.get_psets(w)\n",
    "    if psets.get(\"Pset_WallCommon\"):\n",
    "        if bool(psets.get(\"Pset_WallCommon\").get(\"IsExternal\")):\n",
    "            ext_walls.append(w)\n",
    "\n",
    "len(ext_walls)"
   ]
  },
  {
   "cell_type": "code",
   "execution_count": 81,
   "metadata": {},
   "outputs": [
    {
     "data": {
      "text/plain": [
       "#5399=IfcWall('2O2Fr$t4X7Zf8NOew3FKau',#33,'Basic Wall:Party Wall - CMU Residential Unit Dimising Wall:143239',$,'Basic Wall:Party Wall - CMU Residential Unit Dimising Wall:128555',#5302,#5398,'143239')"
      ]
     },
     "execution_count": 81,
     "metadata": {},
     "output_type": "execute_result"
    }
   ],
   "source": [
    "wall = ext_walls[10]\n",
    "wall"
   ]
  },
  {
   "cell_type": "code",
   "execution_count": 83,
   "metadata": {},
   "outputs": [
    {
     "data": {
      "text/plain": [
       "{#38377=IfcRelAssociatesMaterial('3S6tosa0X5XRSsYiOxLkeJ',#33,$,$,(#5399),#5426),\n",
       " #38940=IfcRelConnectsPathElements('081a6d1Uz42gKAngR4yW71',#33,$,$,$,#5399,#5859,(),(),.ATSTART.,.ATPATH.),\n",
       " #38950=IfcRelConnectsPathElements('0Bs_nFrXv5zuv$dOmwdM0g',#33,$,$,$,#5399,#5775,(),(),.ATEND.,.ATPATH.),\n",
       " #38941=IfcRelConnectsPathElements('1ddqYqCzL7eg_8y_PqNw0p',#33,$,$,$,#5399,#6036,(),(),.ATSTART.,.ATPATH.),\n",
       " #38951=IfcRelConnectsPathElements('1uz7GstZrB1fGwcwzKQH3Y',#33,$,$,$,#5399,#6080,(),(),.ATEND.,.ATPATH.),\n",
       " #38922=IfcRelConnectsPathElements('3fWD11qXb2ofYEbhouQB6A',#33,$,$,$,#5399,#5448,(),(),.ATPATH.,.ATSTART.),\n",
       " #38924=IfcRelConnectsPathElements('3vYH7yZQHEHfrBc$zh8rqQ',#33,$,$,$,#5399,#5548,(),(),.ATPATH.,.ATEND.),\n",
       " #38309=IfcRelContainedInSpatialStructure('0jhxSK53z3pxjw0BkrBPlO',#33,$,$,(#5399,#5448,#5498,#5548,#5598,#5687,#5731,#5775,#5859,#5948,#5992,#6036,#6080,#6132,#6247,#7190,#7407,#7639,#7743,#7795,#7847,#7899,#7951,#8283,#8386,#15962,#16013,#16064,#16115,#20792,#20903,#20958,#21013,#21080,#21147,#21195,#21336,#21980,#22032,#22084,#22136,#22188,#22240,#22292,#22344,#22396,#22448,#24060,#24128,#24186,#24268,#24326,#24408,#24476,#24544,#31431,#31476,#35199,#35318,#35357,#35413,#37065,#37195,#37586,#37716,#37913,#37970,#38015,#38060,#38105,#38150,#38195,#38240),#43),\n",
       " #38551=IfcRelDefinesByProperties('0L3_Nb8EXAJA_7tPHzybAt',#33,$,$,(#4287,#4399,#4465,#5399),#4350),\n",
       " #38552=IfcRelDefinesByProperties('0NapXw8sH8$Am8T5roX6Ud',#33,$,$,(#4287,#4399,#4465,#5399),#4351),\n",
       " #38553=IfcRelDefinesByProperties('0WQeJmJCr6CQKkygFmDKeD',#33,$,$,(#4287,#4399,#4465,#5399),#4352),\n",
       " #5419=IfcRelDefinesByProperties('11m__6gc59q9yZlMCK0hHl',#33,$,$,(#5399),#5418),\n",
       " #38550=IfcRelDefinesByProperties('1CzK1n8p9Fc9ci$HhlJvFR',#33,$,$,(#4287,#4399,#4465,#5399),#4349),\n",
       " #5423=IfcRelDefinesByProperties('1DuUL_T9bFNgkYzN1fepkK',#33,$,$,(#5399),#5422),\n",
       " #5425=IfcRelDefinesByProperties('1_BHSMZCT6YwKHCw7EM5Lx',#33,$,$,(#5399),#5424),\n",
       " #5402=IfcRelDefinesByProperties('1iDJghsJP3F9G6WFt4nBKk',#33,$,$,(#5399),#5401),\n",
       " #5421=IfcRelDefinesByProperties('1nnk2_OfH36uuojK1I$UCE',#33,$,$,(#5399),#5420),\n",
       " #5417=IfcRelDefinesByProperties('1zKRq0yvv0Mgquqyrl6S5w',#33,$,$,(#5399),#5416),\n",
       " #38758=IfcRelSpaceBoundary('0IUNhDzrb2TAPVpFWREIOP',#33,'1stLevel',$,#1218,#5399,#1285,.PHYSICAL.,.EXTERNAL.),\n",
       " #38859=IfcRelSpaceBoundary('0IX0rLm9LDy8OwTDcBD519',#33,'1stLevel',$,#2789,#5399,#2849,.PHYSICAL.,.EXTERNAL.),\n",
       " #38878=IfcRelSpaceBoundary('0iWfpCYpX2PghMMVTcGd_U',#33,'1stLevel',$,#3013,#5399,#3072,.PHYSICAL.,.EXTERNAL.),\n",
       " #38873=IfcRelSpaceBoundary('0sjRBoxqT4POrTwEY_2dZx',#33,'1stLevel',$,#2789,#5399,#2951,.PHYSICAL.,.EXTERNAL.),\n",
       " #38776=IfcRelSpaceBoundary('2CUwysrAz8p9A5KXE94C4H',#33,'1stLevel',$,#1442,#5399,#1501,.PHYSICAL.,.EXTERNAL.),\n",
       " #38757=IfcRelSpaceBoundary('2Lz3RuvFHD88JVCriXod2n',#33,'1stLevel',$,#1218,#5399,#1278,.PHYSICAL.,.EXTERNAL.)}"
      ]
     },
     "execution_count": 83,
     "metadata": {},
     "output_type": "execute_result"
    }
   ],
   "source": [
    "m.get_inverse(wall)"
   ]
  },
  {
   "cell_type": "code",
   "execution_count": 84,
   "metadata": {},
   "outputs": [
    {
     "data": {
      "image/svg+xml": [
       "<?xml version=\"1.0\" encoding=\"UTF-8\" standalone=\"no\"?>\n",
       "<!DOCTYPE svg PUBLIC \"-//W3C//DTD SVG 1.1//EN\"\n",
       " \"http://www.w3.org/Graphics/SVG/1.1/DTD/svg11.dtd\">\n",
       "<!-- Generated by graphviz version 12.0.0 (20240704.0754)\n",
       " -->\n",
       "<!-- Pages: 1 -->\n",
       "<svg width=\"234pt\" height=\"58pt\"\n",
       " viewBox=\"0.00 0.00 234.00 57.50\" xmlns=\"http://www.w3.org/2000/svg\" xmlns:xlink=\"http://www.w3.org/1999/xlink\">\n",
       "<g id=\"graph0\" class=\"graph\" transform=\"scale(1 1) rotate(0) translate(4 53.5)\">\n",
       "<polygon fill=\"white\" stroke=\"none\" points=\"-4,4 -4,-53.5 230,-53.5 230,4 -4,4\"/>\n",
       "<!-- 15151 -->\n",
       "<g id=\"node1\" class=\"node\">\n",
       "<title>15151</title>\n",
       "<polygon fill=\"none\" stroke=\"black\" points=\"154,-5.75 154,-43.75 226,-43.75 226,-5.75 154,-5.75\"/>\n",
       "<text text-anchor=\"middle\" x=\"190\" y=\"-32.15\" font-family=\"Arial\" font-size=\"8.00\">#15151 </text>\n",
       "<text text-anchor=\"middle\" x=\"190\" y=\"-21.65\" font-family=\"Arial\" font-size=\"8.00\">(IfcPolyLoop) </text>\n",
       "</g>\n",
       "<!-- 15152 -->\n",
       "<g id=\"node2\" class=\"node\">\n",
       "<title>15152</title>\n",
       "<polygon fill=\"none\" stroke=\"black\" points=\"0,-0.5 0,-49 94.75,-49 94.75,-0.5 0,-0.5\"/>\n",
       "<text text-anchor=\"middle\" x=\"47.38\" y=\"-37.4\" font-family=\"Arial\" font-size=\"8.00\">#15152 </text>\n",
       "<text text-anchor=\"middle\" x=\"47.38\" y=\"-26.9\" font-family=\"Arial\" font-size=\"8.00\">(IfcFaceOuterBound) </text>\n",
       "<text text-anchor=\"start\" x=\"8\" y=\"-7.4\" font-family=\"Arial\" font-size=\"8.00\">Orientation : True </text>\n",
       "</g>\n",
       "<!-- 15152&#45;&gt;15151 -->\n",
       "<g id=\"edge1\" class=\"edge\">\n",
       "<title>15152&#45;&gt;15151</title>\n",
       "<path fill=\"none\" stroke=\"black\" d=\"M95.2,-24.75C110.35,-24.75 127.15,-24.75 142.3,-24.75\"/>\n",
       "<polygon fill=\"black\" stroke=\"black\" points=\"141.99,-28.25 151.99,-24.75 141.99,-21.25 141.99,-28.25\"/>\n",
       "<text text-anchor=\"middle\" x=\"124.38\" y=\"-27.65\" font-family=\"Arial\" font-size=\"8.00\">Bound</text>\n",
       "</g>\n",
       "</g>\n",
       "</svg>\n"
      ],
      "text/plain": [
       "<graphviz.graphs.Digraph at 0x28f76e6bd90>"
      ]
     },
     "execution_count": 84,
     "metadata": {},
     "output_type": "execute_result"
    }
   ],
   "source": [
    "graph = IfcGraphViz.IfcGraphViz().plot_graph(m, m.by_id(15152), forward=10)\n",
    "graph"
   ]
  },
  {
   "cell_type": "code",
   "execution_count": 85,
   "metadata": {},
   "outputs": [
    {
     "data": {
      "text/plain": [
       "#11894=IfcFaceOuterBound(#11893,.T.)"
      ]
     },
     "execution_count": 85,
     "metadata": {},
     "output_type": "execute_result"
    }
   ],
   "source": [
    "schichten = m.by_id(11894)\n",
    "schichten"
   ]
  },
  {
   "cell_type": "code",
   "execution_count": 86,
   "metadata": {},
   "outputs": [
    {
     "data": {
      "text/plain": [
       "#11877=IfcPolyLoop((#11847,#11864,#11703))"
      ]
     },
     "execution_count": 86,
     "metadata": {},
     "output_type": "execute_result"
    }
   ],
   "source": [
    "m.by_id(11877)"
   ]
  },
  {
   "cell_type": "code",
   "execution_count": 87,
   "metadata": {},
   "outputs": [
    {
     "data": {
      "text/html": [
       "\n",
       "        <iframe\n",
       "            width=\"100%\"\n",
       "            height=\"500px\"\n",
       "            src=\"https://standards.buildingsmart.org/IFC/RELEASE/IFC2x3/TC1/HTML/ifcproductextension/lexical/ifcrelassociatesmaterial.htm\"\n",
       "            frameborder=\"0\"\n",
       "            allowfullscreen\n",
       "            \n",
       "        ></iframe>\n",
       "        "
      ],
      "text/plain": [
       "<IPython.lib.display.IFrame at 0x28f76e279d0>"
      ]
     },
     "execution_count": 87,
     "metadata": {},
     "output_type": "execute_result"
    }
   ],
   "source": [
    "IfcHelp.getHelp3(\"IfcRelAssociatesMaterial\")"
   ]
  },
  {
   "cell_type": "code",
   "execution_count": 88,
   "metadata": {},
   "outputs": [
    {
     "ename": "NameError",
     "evalue": "name 'wand' is not defined",
     "output_type": "error",
     "traceback": [
      "\u001b[1;31m---------------------------------------------------------------------------\u001b[0m",
      "\u001b[1;31mNameError\u001b[0m                                 Traceback (most recent call last)",
      "Cell \u001b[1;32mIn[88], line 1\u001b[0m\n\u001b[1;32m----> 1\u001b[0m ifcopenshell\u001b[38;5;241m.\u001b[39mutil\u001b[38;5;241m.\u001b[39melement\u001b[38;5;241m.\u001b[39mget_psets(\u001b[43mwand\u001b[49m)\n",
      "\u001b[1;31mNameError\u001b[0m: name 'wand' is not defined"
     ]
    }
   ],
   "source": [
    "ifcopenshell.util.element.get_psets(wand)"
   ]
  },
  {
   "cell_type": "code",
   "execution_count": null,
   "metadata": {},
   "outputs": [],
   "source": [
    "for inv in m.get_inverse(wand):\n",
    "    if inv.is_a() == \"IfcRelAssociatesMaterial\":\n",
    "        print(inv)\n",
    "        mat_assoc = inv"
   ]
  },
  {
   "cell_type": "code",
   "execution_count": null,
   "metadata": {},
   "outputs": [],
   "source": [
    "IfcHelp.getHelp3(\"IfcRelAssociatesMaterial\")"
   ]
  },
  {
   "cell_type": "code",
   "execution_count": null,
   "metadata": {},
   "outputs": [],
   "source": [
    "mat_assoc.RelatingMaterial.ForLayerSet.MaterialLayers[0].Material"
   ]
  },
  {
   "cell_type": "code",
   "execution_count": null,
   "metadata": {},
   "outputs": [],
   "source": [
    "gesamtvolumen = 0\n",
    "for w in ausssenwaende:\n",
    "    psets = ifcopenshell.util.element.get_psets(w)\n",
    "    for psetname, pset_dict in psets.items():\n",
    "        for name, value in pset_dict.items():\n",
    "            # print (f\"{name}: {value}\")\n",
    "            if name == \"NetVolume\":\n",
    "                gesamtvolumen += float(value)\n",
    "print (f\"Gesamtvolumen: {gesamtvolumen}\")               "
   ]
  },
  {
   "cell_type": "code",
   "execution_count": 26,
   "metadata": {},
   "outputs": [
    {
     "data": {
      "text/plain": [
       "#2154=IfcWall('15mGL5Wxj809e8kAZjQZnh',#2,'Parede-003',$,$,#6863,#1065,'45C10545-83BB-4800-9A08-B8A8ED6A3C6B')"
      ]
     },
     "execution_count": 26,
     "metadata": {},
     "output_type": "execute_result"
    }
   ],
   "source": [
    "m.by_guid('15mGL5Wxj809e8kAZjQZnh')"
   ]
  }
 ],
 "metadata": {
  "kernelspec": {
   "display_name": "Python 3",
   "language": "python",
   "name": "python3"
  },
  "language_info": {
   "codemirror_mode": {
    "name": "ipython",
    "version": 3
   },
   "file_extension": ".py",
   "mimetype": "text/x-python",
   "name": "python",
   "nbconvert_exporter": "python",
   "pygments_lexer": "ipython3",
   "version": "3.11.7"
  }
 },
 "nbformat": 4,
 "nbformat_minor": 4
}
